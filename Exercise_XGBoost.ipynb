{
  "metadata": {
    "kernelspec": {
      "display_name": "Python 3",
      "language": "python",
      "name": "python3"
    },
    "language_info": {
      "name": "python",
      "version": "3.10.13",
      "mimetype": "text/x-python",
      "codemirror_mode": {
        "name": "ipython",
        "version": 3
      },
      "pygments_lexer": "ipython3",
      "nbconvert_exporter": "python",
      "file_extension": ".py"
    },
    "kaggle": {
      "accelerator": "none",
      "dataSources": [
        {
          "sourceId": 10211,
          "databundleVersionId": 111096,
          "sourceType": "competition"
        }
      ],
      "isInternetEnabled": false,
      "language": "python",
      "sourceType": "notebook",
      "isGpuEnabled": false
    },
    "colab": {
      "name": "Exercise: XGBoost",
      "provenance": [],
      "include_colab_link": true
    }
  },
  "nbformat_minor": 0,
  "nbformat": 4,
  "cells": [
    {
      "cell_type": "markdown",
      "metadata": {
        "id": "view-in-github",
        "colab_type": "text"
      },
      "source": [
        "<a href=\"https://colab.research.google.com/github/Shashwot90/objectdetection/blob/main/Exercise_XGBoost.ipynb\" target=\"_parent\"><img src=\"https://colab.research.google.com/assets/colab-badge.svg\" alt=\"Open In Colab\"/></a>"
      ]
    },
    {
      "source": [
        "\n",
        "# IMPORTANT: RUN THIS CELL IN ORDER TO IMPORT YOUR KAGGLE DATA SOURCES\n",
        "# TO THE CORRECT LOCATION (/kaggle/input) IN YOUR NOTEBOOK,\n",
        "# THEN FEEL FREE TO DELETE THIS CELL.\n",
        "# NOTE: THIS NOTEBOOK ENVIRONMENT DIFFERS FROM KAGGLE'S PYTHON\n",
        "# ENVIRONMENT SO THERE MAY BE MISSING LIBRARIES USED BY YOUR\n",
        "# NOTEBOOK.\n",
        "\n",
        "import os\n",
        "import sys\n",
        "from tempfile import NamedTemporaryFile\n",
        "from urllib.request import urlopen\n",
        "from urllib.parse import unquote, urlparse\n",
        "from urllib.error import HTTPError\n",
        "from zipfile import ZipFile\n",
        "import tarfile\n",
        "import shutil\n",
        "\n",
        "CHUNK_SIZE = 40960\n",
        "DATA_SOURCE_MAPPING = ':https%3A%2F%2Fstorage.googleapis.com%2Fkaggle-competitions-data%2Fkaggle-v2%2F10211%2F111096%2Fbundle%2Farchive.zip%3FX-Goog-Algorithm%3DGOOG4-RSA-SHA256%26X-Goog-Credential%3Dgcp-kaggle-com%2540kaggle-161607.iam.gserviceaccount.com%252F20240304%252Fauto%252Fstorage%252Fgoog4_request%26X-Goog-Date%3D20240304T082136Z%26X-Goog-Expires%3D259200%26X-Goog-SignedHeaders%3Dhost%26X-Goog-Signature%3D829b71367e56c4c8c500984e9b21955e9ac17c7d315fe8ae28f09320b93c4759e31754b76de1e881e6ce2940b2127573a8c148d1b12193992dfac5781cd38b53648b71785890af930404dedfaad00878e6c1d878388e98cc1e95d71a6da5a5dce07745d47141dc043d71d95b6a3d9baaab3c7dd6b394cfff8164b7e4530119009f45fd17d095e7a7550aadcddee9e7f1add0a16537b84c440139c5722d23bb5a8713490035222d30ed6ecfa0c1cde57d5d992c5401030af198837fd4d4c7dd8f8bbfb2691be041343d3f11c780e5f0c8050b639feaa5999031495bf4c678f6d400be6dbc98f777c235e4f44db8dc8118320631cc7e0f836597f441244400e347'\n",
        "\n",
        "KAGGLE_INPUT_PATH='/kaggle/input'\n",
        "KAGGLE_WORKING_PATH='/kaggle/working'\n",
        "KAGGLE_SYMLINK='kaggle'\n",
        "\n",
        "!umount /kaggle/input/ 2> /dev/null\n",
        "shutil.rmtree('/kaggle/input', ignore_errors=True)\n",
        "os.makedirs(KAGGLE_INPUT_PATH, 0o777, exist_ok=True)\n",
        "os.makedirs(KAGGLE_WORKING_PATH, 0o777, exist_ok=True)\n",
        "\n",
        "try:\n",
        "  os.symlink(KAGGLE_INPUT_PATH, os.path.join(\"..\", 'input'), target_is_directory=True)\n",
        "except FileExistsError:\n",
        "  pass\n",
        "try:\n",
        "  os.symlink(KAGGLE_WORKING_PATH, os.path.join(\"..\", 'working'), target_is_directory=True)\n",
        "except FileExistsError:\n",
        "  pass\n",
        "\n",
        "for data_source_mapping in DATA_SOURCE_MAPPING.split(','):\n",
        "    directory, download_url_encoded = data_source_mapping.split(':')\n",
        "    download_url = unquote(download_url_encoded)\n",
        "    filename = urlparse(download_url).path\n",
        "    destination_path = os.path.join(KAGGLE_INPUT_PATH, directory)\n",
        "    try:\n",
        "        with urlopen(download_url) as fileres, NamedTemporaryFile() as tfile:\n",
        "            total_length = fileres.headers['content-length']\n",
        "            print(f'Downloading {directory}, {total_length} bytes compressed')\n",
        "            dl = 0\n",
        "            data = fileres.read(CHUNK_SIZE)\n",
        "            while len(data) > 0:\n",
        "                dl += len(data)\n",
        "                tfile.write(data)\n",
        "                done = int(50 * dl / int(total_length))\n",
        "                sys.stdout.write(f\"\\r[{'=' * done}{' ' * (50-done)}] {dl} bytes downloaded\")\n",
        "                sys.stdout.flush()\n",
        "                data = fileres.read(CHUNK_SIZE)\n",
        "            if filename.endswith('.zip'):\n",
        "              with ZipFile(tfile) as zfile:\n",
        "                zfile.extractall(destination_path)\n",
        "            else:\n",
        "              with tarfile.open(tfile.name) as tarfile:\n",
        "                tarfile.extractall(destination_path)\n",
        "            print(f'\\nDownloaded and uncompressed: {directory}')\n",
        "    except HTTPError as e:\n",
        "        print(f'Failed to load (likely expired) {download_url} to path {destination_path}')\n",
        "        continue\n",
        "    except OSError as e:\n",
        "        print(f'Failed to load {download_url} to path {destination_path}')\n",
        "        continue\n",
        "\n",
        "print('Data source import complete.')\n"
      ],
      "metadata": {
        "id": "MBpuXyK0je1x"
      },
      "cell_type": "code",
      "outputs": [],
      "execution_count": null
    },
    {
      "cell_type": "markdown",
      "source": [
        "**This notebook is an exercise in the [Intermediate Machine Learning](https://www.kaggle.com/learn/intermediate-machine-learning) course.  You can reference the tutorial at [this link](https://www.kaggle.com/alexisbcook/xgboost).**\n",
        "\n",
        "---\n"
      ],
      "metadata": {
        "id": "O1kO85Gmje1y"
      }
    },
    {
      "cell_type": "markdown",
      "source": [
        "In this exercise, you will use your new knowledge to train a model with **gradient boosting**.\n",
        "\n",
        "# Setup\n",
        "\n",
        "The questions below will give you feedback on your work. Run the following cell to set up the feedback system."
      ],
      "metadata": {
        "id": "glUhClbhje1z"
      }
    },
    {
      "cell_type": "code",
      "source": [
        "# Set up code checking\n",
        "import os\n",
        "if not os.path.exists(\"../input/train.csv\"):\n",
        "    os.symlink(\"../input/home-data-for-ml-course/train.csv\", \"../input/train.csv\")\n",
        "    os.symlink(\"../input/home-data-for-ml-course/test.csv\", \"../input/test.csv\")\n",
        "from learntools.core import binder\n",
        "binder.bind(globals())\n",
        "from learntools.ml_intermediate.ex6 import *\n",
        "print(\"Setup Complete\")"
      ],
      "metadata": {
        "execution": {
          "iopub.status.busy": "2024-02-25T09:50:48.847544Z",
          "iopub.execute_input": "2024-02-25T09:50:48.848604Z",
          "iopub.status.idle": "2024-02-25T09:50:53.859392Z",
          "shell.execute_reply.started": "2024-02-25T09:50:48.848544Z",
          "shell.execute_reply": "2024-02-25T09:50:53.858182Z"
        },
        "trusted": true,
        "id": "qWwfjjatje10",
        "outputId": "ef301b9d-36c9-49f9-bacd-16ae499eafdf"
      },
      "execution_count": null,
      "outputs": [
        {
          "name": "stdout",
          "text": "Setup Complete\n",
          "output_type": "stream"
        }
      ]
    },
    {
      "cell_type": "markdown",
      "source": [
        "You will work with the [Housing Prices Competition for Kaggle Learn Users](https://www.kaggle.com/c/home-data-for-ml-course) dataset from the previous exercise.\n",
        "\n",
        "![Ames Housing dataset image](https://storage.googleapis.com/kaggle-media/learn/images/lTJVG4e.png)\n",
        "\n",
        "Run the next code cell without changes to load the training and validation sets in `X_train`, `X_valid`, `y_train`, and `y_valid`.  The test set is loaded in `X_test`."
      ],
      "metadata": {
        "id": "h1kT1MPcje10"
      }
    },
    {
      "cell_type": "code",
      "source": [
        "import pandas as pd\n",
        "from sklearn.model_selection import train_test_split\n",
        "\n",
        "# Read the data\n",
        "X = pd.read_csv('../input/train.csv', index_col='Id')\n",
        "X_test_full = pd.read_csv('../input/test.csv', index_col='Id')\n",
        "\n",
        "# Remove rows with missing target, separate target from predictors\n",
        "X.dropna(axis=0, subset=['SalePrice'], inplace=True)\n",
        "y = X.SalePrice\n",
        "X.drop(['SalePrice'], axis=1, inplace=True)\n",
        "\n",
        "# Break off validation set from training data\n",
        "X_train_full, X_valid_full, y_train, y_valid = train_test_split(X, y, train_size=0.8, test_size=0.2,\n",
        "                                                                random_state=0)\n",
        "\n",
        "# \"Cardinality\" means the number of unique values in a column\n",
        "# Select categorical columns with relatively low cardinality (convenient but arbitrary)\n",
        "low_cardinality_cols = [cname for cname in X_train_full.columns if X_train_full[cname].nunique() < 10 and\n",
        "                        X_train_full[cname].dtype == \"object\"]\n",
        "\n",
        "# Select numeric columns\n",
        "numeric_cols = [cname for cname in X_train_full.columns if X_train_full[cname].dtype in ['int64', 'float64']]\n",
        "\n",
        "# Keep selected columns only\n",
        "my_cols = low_cardinality_cols + numeric_cols\n",
        "X_train = X_train_full[my_cols].copy()\n",
        "X_valid = X_valid_full[my_cols].copy()\n",
        "X_test = X_test_full[my_cols].copy()\n",
        "\n",
        "# One-hot encode the data (to shorten the code, we use pandas)\n",
        "X_train = pd.get_dummies(X_train)\n",
        "X_valid = pd.get_dummies(X_valid)\n",
        "X_test = pd.get_dummies(X_test)\n",
        "X_train, X_valid = X_train.align(X_valid, join='left', axis=1)\n",
        "X_train, X_test = X_train.align(X_test, join='left', axis=1)"
      ],
      "metadata": {
        "execution": {
          "iopub.status.busy": "2024-02-25T09:50:53.861225Z",
          "iopub.execute_input": "2024-02-25T09:50:53.861594Z",
          "iopub.status.idle": "2024-02-25T09:50:54.069975Z",
          "shell.execute_reply.started": "2024-02-25T09:50:53.861529Z",
          "shell.execute_reply": "2024-02-25T09:50:54.06891Z"
        },
        "trusted": true,
        "id": "7Np1EcaLje11"
      },
      "execution_count": null,
      "outputs": []
    },
    {
      "cell_type": "markdown",
      "source": [
        "# Step 1: Build model\n",
        "\n",
        "### Part A\n",
        "\n",
        "In this step, you'll build and train your first model with gradient boosting.\n",
        "\n",
        "- Begin by setting `my_model_1` to an XGBoost model.  Use the [XGBRegressor](https://xgboost.readthedocs.io/en/latest/python/python_api.html#xgboost.XGBRegressor) class, and set the random seed to 0 (`random_state=0`).  **Leave all other parameters as default.**\n",
        "- Then, fit the model to the training data in `X_train` and `y_train`."
      ],
      "metadata": {
        "id": "n0r88tr1je11"
      }
    },
    {
      "cell_type": "code",
      "source": [
        "from xgboost import XGBRegressor\n",
        "\n",
        "# Define the model\n",
        "my_model_1 = XGBRegressor(random_state=0)# Your code here\n",
        "\n",
        "# Fit the model\n",
        "my_model_1.fit(X_train, y_train)# Your code here\n",
        "\n",
        "# Check your answer\n",
        "step_1.a.check()"
      ],
      "metadata": {
        "execution": {
          "iopub.status.busy": "2024-02-25T09:55:04.035146Z",
          "iopub.execute_input": "2024-02-25T09:55:04.035565Z",
          "iopub.status.idle": "2024-02-25T09:55:04.596301Z",
          "shell.execute_reply.started": "2024-02-25T09:55:04.035521Z",
          "shell.execute_reply": "2024-02-25T09:55:04.595356Z"
        },
        "trusted": true,
        "id": "lXqLgD9Qje11",
        "outputId": "45804edf-a2e5-4432-be29-1012d8e6270a"
      },
      "execution_count": null,
      "outputs": [
        {
          "output_type": "display_data",
          "data": {
            "text/plain": "<IPython.core.display.Javascript object>",
            "application/javascript": "parent.postMessage({\"jupyterEvent\": \"custom.exercise_interaction\", \"data\": {\"outcomeType\": 1, \"valueTowardsCompletion\": 0.5, \"interactionType\": 1, \"questionType\": 2, \"questionId\": \"1.1_Model1A\", \"learnToolsVersion\": \"0.3.4\", \"failureMessage\": \"\", \"exceptionClass\": \"\", \"trace\": \"\"}}, \"*\")"
          },
          "metadata": {}
        },
        {
          "output_type": "display_data",
          "data": {
            "text/plain": "Correct",
            "text/markdown": "<span style=\"color:#33cc33\">Correct</span>"
          },
          "metadata": {}
        }
      ]
    },
    {
      "cell_type": "code",
      "source": [
        "# Lines below will give you a hint or solution code\n",
        "#step_1.a.hint()\n",
        "step_1.a.solution()"
      ],
      "metadata": {
        "execution": {
          "iopub.status.busy": "2024-02-25T09:54:50.191432Z",
          "iopub.execute_input": "2024-02-25T09:54:50.191856Z",
          "iopub.status.idle": "2024-02-25T09:54:50.201031Z",
          "shell.execute_reply.started": "2024-02-25T09:54:50.191823Z",
          "shell.execute_reply": "2024-02-25T09:54:50.200076Z"
        },
        "trusted": true,
        "id": "UUTGH9X_je12",
        "outputId": "a5bc4342-b795-4fb3-cb66-b65016c89d65"
      },
      "execution_count": null,
      "outputs": [
        {
          "output_type": "display_data",
          "data": {
            "text/plain": "<IPython.core.display.Javascript object>",
            "application/javascript": "parent.postMessage({\"jupyterEvent\": \"custom.exercise_interaction\", \"data\": {\"interactionType\": 3, \"questionType\": 2, \"questionId\": \"1.1_Model1A\", \"learnToolsVersion\": \"0.3.4\", \"valueTowardsCompletion\": 0.0, \"failureMessage\": \"\", \"exceptionClass\": \"\", \"trace\": \"\", \"outcomeType\": 4}}, \"*\")"
          },
          "metadata": {}
        },
        {
          "output_type": "display_data",
          "data": {
            "text/plain": "Solution: \n```python\n# Define the model\nmy_model_1 = XGBRegressor(random_state=0)\n\n# Fit the model\nmy_model_1.fit(X_train, y_train)\n\n```",
            "text/markdown": "<span style=\"color:#33cc99\">Solution:</span> \n```python\n# Define the model\nmy_model_1 = XGBRegressor(random_state=0)\n\n# Fit the model\nmy_model_1.fit(X_train, y_train)\n\n```"
          },
          "metadata": {}
        }
      ]
    },
    {
      "cell_type": "markdown",
      "source": [
        "### Part B\n",
        "\n",
        "Set `predictions_1` to the model's predictions for the validation data.  Recall that the validation features are stored in `X_valid`."
      ],
      "metadata": {
        "id": "jwmd6PTIje12"
      }
    },
    {
      "cell_type": "code",
      "source": [
        "from sklearn.metrics import mean_absolute_error\n",
        "\n",
        "# Get predictions\n",
        "predictions_1 = my_model_1.predict(X_valid)# Your code here\n",
        "\n",
        "# Check your answer\n",
        "step_1.b.check()"
      ],
      "metadata": {
        "execution": {
          "iopub.status.busy": "2024-02-25T09:55:08.494924Z",
          "iopub.execute_input": "2024-02-25T09:55:08.495876Z",
          "iopub.status.idle": "2024-02-25T09:55:08.550048Z",
          "shell.execute_reply.started": "2024-02-25T09:55:08.495836Z",
          "shell.execute_reply": "2024-02-25T09:55:08.549209Z"
        },
        "trusted": true,
        "id": "m820Ta5Bje12",
        "outputId": "8dbbffe2-1e57-4b91-df9b-8d52235022f2"
      },
      "execution_count": null,
      "outputs": [
        {
          "output_type": "display_data",
          "data": {
            "text/plain": "<IPython.core.display.Javascript object>",
            "application/javascript": "parent.postMessage({\"jupyterEvent\": \"custom.exercise_interaction\", \"data\": {\"outcomeType\": 1, \"valueTowardsCompletion\": 0.5, \"interactionType\": 1, \"questionType\": 2, \"questionId\": \"1.2_Model1B\", \"learnToolsVersion\": \"0.3.4\", \"failureMessage\": \"\", \"exceptionClass\": \"\", \"trace\": \"\"}}, \"*\")"
          },
          "metadata": {}
        },
        {
          "output_type": "display_data",
          "data": {
            "text/plain": "Correct",
            "text/markdown": "<span style=\"color:#33cc33\">Correct</span>"
          },
          "metadata": {}
        }
      ]
    },
    {
      "cell_type": "code",
      "source": [
        "# Lines below will give you a hint or solution code\n",
        "#step_1.b.hint()\n",
        "step_1.b.solution()"
      ],
      "metadata": {
        "execution": {
          "iopub.status.busy": "2024-02-25T09:54:24.959388Z",
          "iopub.execute_input": "2024-02-25T09:54:24.959809Z",
          "iopub.status.idle": "2024-02-25T09:54:24.969763Z",
          "shell.execute_reply.started": "2024-02-25T09:54:24.959777Z",
          "shell.execute_reply": "2024-02-25T09:54:24.968644Z"
        },
        "trusted": true,
        "id": "20OSGjL7je12",
        "outputId": "4b3c2be2-5b98-43fd-db77-497440453625"
      },
      "execution_count": null,
      "outputs": [
        {
          "output_type": "display_data",
          "data": {
            "text/plain": "<IPython.core.display.Javascript object>",
            "application/javascript": "parent.postMessage({\"jupyterEvent\": \"custom.exercise_interaction\", \"data\": {\"interactionType\": 3, \"questionType\": 2, \"questionId\": \"1.2_Model1B\", \"learnToolsVersion\": \"0.3.4\", \"valueTowardsCompletion\": 0.0, \"failureMessage\": \"\", \"exceptionClass\": \"\", \"trace\": \"\", \"outcomeType\": 4}}, \"*\")"
          },
          "metadata": {}
        },
        {
          "output_type": "display_data",
          "data": {
            "text/plain": "Solution: \n```python\n# Get predictions\npredictions_1 = my_model_1.predict(X_valid)\n\n```",
            "text/markdown": "<span style=\"color:#33cc99\">Solution:</span> \n```python\n# Get predictions\npredictions_1 = my_model_1.predict(X_valid)\n\n```"
          },
          "metadata": {}
        }
      ]
    },
    {
      "cell_type": "markdown",
      "source": [
        "### Part C\n",
        "\n",
        "Finally, use the `mean_absolute_error()` function to calculate the mean absolute error (MAE) corresponding to the predictions for the validation set.  Recall that the labels for the validation data are stored in `y_valid`."
      ],
      "metadata": {
        "id": "Rw4hA7Yjje12"
      }
    },
    {
      "cell_type": "code",
      "source": [
        "# Calculate MAE\n",
        "mae_1 = mean_absolute_error(predictions_1, y_valid) # Your code here\n",
        "\n",
        "# Uncomment to print MAE\n",
        "print(\"Mean Absolute Error:\" , mae_1)\n",
        "\n",
        "# Check your answer\n",
        "step_1.c.check()"
      ],
      "metadata": {
        "execution": {
          "iopub.status.busy": "2024-02-25T09:56:25.817329Z",
          "iopub.execute_input": "2024-02-25T09:56:25.818363Z",
          "iopub.status.idle": "2024-02-25T09:56:25.828463Z",
          "shell.execute_reply.started": "2024-02-25T09:56:25.818327Z",
          "shell.execute_reply": "2024-02-25T09:56:25.827387Z"
        },
        "trusted": true,
        "id": "-l59OHp5je13",
        "outputId": "ae5f34b4-335c-4a83-f1e5-6c691706995a"
      },
      "execution_count": null,
      "outputs": [
        {
          "name": "stdout",
          "text": "Mean Absolute Error: 18161.82412510702\n",
          "output_type": "stream"
        },
        {
          "output_type": "display_data",
          "data": {
            "text/plain": "<IPython.core.display.Javascript object>",
            "application/javascript": "parent.postMessage({\"jupyterEvent\": \"custom.exercise_interaction\", \"data\": {\"outcomeType\": 1, \"valueTowardsCompletion\": 0.5, \"interactionType\": 1, \"questionType\": 2, \"questionId\": \"1.3_Model1C\", \"learnToolsVersion\": \"0.3.4\", \"failureMessage\": \"\", \"exceptionClass\": \"\", \"trace\": \"\"}}, \"*\")"
          },
          "metadata": {}
        },
        {
          "output_type": "display_data",
          "data": {
            "text/plain": "Correct",
            "text/markdown": "<span style=\"color:#33cc33\">Correct</span>"
          },
          "metadata": {}
        }
      ]
    },
    {
      "cell_type": "code",
      "source": [
        "# Lines below will give you a hint or solution code\n",
        "#step_1.c.hint()\n",
        "step_1.c.solution()"
      ],
      "metadata": {
        "execution": {
          "iopub.status.busy": "2024-02-25T09:56:01.341253Z",
          "iopub.execute_input": "2024-02-25T09:56:01.341685Z",
          "iopub.status.idle": "2024-02-25T09:56:01.350993Z",
          "shell.execute_reply.started": "2024-02-25T09:56:01.341651Z",
          "shell.execute_reply": "2024-02-25T09:56:01.349874Z"
        },
        "trusted": true,
        "id": "rABrqUKBje13",
        "outputId": "f882a968-19ac-4590-b73a-287b266b8b1b"
      },
      "execution_count": null,
      "outputs": [
        {
          "output_type": "display_data",
          "data": {
            "text/plain": "<IPython.core.display.Javascript object>",
            "application/javascript": "parent.postMessage({\"jupyterEvent\": \"custom.exercise_interaction\", \"data\": {\"interactionType\": 3, \"questionType\": 2, \"questionId\": \"1.3_Model1C\", \"learnToolsVersion\": \"0.3.4\", \"valueTowardsCompletion\": 0.0, \"failureMessage\": \"\", \"exceptionClass\": \"\", \"trace\": \"\", \"outcomeType\": 4}}, \"*\")"
          },
          "metadata": {}
        },
        {
          "output_type": "display_data",
          "data": {
            "text/plain": "Solution: \n```python\n# Calculate MAE\nmae_1 = mean_absolute_error(predictions_1, y_valid)\nprint(\"Mean Absolute Error:\" , mae_1)\n\n```",
            "text/markdown": "<span style=\"color:#33cc99\">Solution:</span> \n```python\n# Calculate MAE\nmae_1 = mean_absolute_error(predictions_1, y_valid)\nprint(\"Mean Absolute Error:\" , mae_1)\n\n```"
          },
          "metadata": {}
        }
      ]
    },
    {
      "cell_type": "markdown",
      "source": [
        "# Step 2: Improve the model\n",
        "\n",
        "Now that you've trained a default model as baseline, it's time to tinker with the parameters, to see if you can get better performance!\n",
        "- Begin by setting `my_model_2` to an XGBoost model, using the [XGBRegressor](https://xgboost.readthedocs.io/en/latest/python/python_api.html#xgboost.XGBRegressor) class.  Use what you learned in the previous tutorial to figure out how to change the default parameters (like `n_estimators` and `learning_rate`) to get better results.\n",
        "- Then, fit the model to the training data in `X_train` and `y_train`.\n",
        "- Set `predictions_2` to the model's predictions for the validation data.  Recall that the validation features are stored in `X_valid`.\n",
        "- Finally, use the `mean_absolute_error()` function to calculate the mean absolute error (MAE) corresponding to the predictions on the validation set.  Recall that the labels for the validation data are stored in `y_valid`.\n",
        "\n",
        "In order for this step to be marked correct, your model in `my_model_2` must attain lower MAE than the model in `my_model_1`."
      ],
      "metadata": {
        "id": "2eT4Dg7oje13"
      }
    },
    {
      "cell_type": "code",
      "source": [
        "# Define the model\n",
        "my_model_2 = my_model = XGBRegressor(n_estimators=1000, learning_rate=0.05)# Your code here\n",
        "\n",
        "# Fit the model\n",
        "my_model_2.fit(X_train, y_train) # Your code here\n",
        "\n",
        "# Get predictions\n",
        "predictions_2 = my_model_2.predict(X_valid) # Your code here\n",
        "\n",
        "# Calculate MAE\n",
        "mae_2 = mean_absolute_error(predictions_2, y_valid) # Your code here\n",
        "\n",
        "# Uncomment to print MAE\n",
        "print(\"Mean Absolute Error:\" , mae_2)\n",
        "\n",
        "# Check your answer\n",
        "step_2.check()"
      ],
      "metadata": {
        "execution": {
          "iopub.status.busy": "2024-02-25T10:00:49.637587Z",
          "iopub.execute_input": "2024-02-25T10:00:49.637975Z",
          "iopub.status.idle": "2024-02-25T10:00:53.89091Z",
          "shell.execute_reply.started": "2024-02-25T10:00:49.637947Z",
          "shell.execute_reply": "2024-02-25T10:00:53.889977Z"
        },
        "trusted": true,
        "id": "OWka4uTZje13",
        "outputId": "fed4688f-dc63-45f8-81a5-054aadecadfd"
      },
      "execution_count": null,
      "outputs": [
        {
          "name": "stdout",
          "text": "Mean Absolute Error: 17224.27947078339\n",
          "output_type": "stream"
        },
        {
          "output_type": "display_data",
          "data": {
            "text/plain": "<IPython.core.display.Javascript object>",
            "application/javascript": "parent.postMessage({\"jupyterEvent\": \"custom.exercise_interaction\", \"data\": {\"outcomeType\": 1, \"valueTowardsCompletion\": 0.5, \"interactionType\": 1, \"questionType\": 2, \"questionId\": \"2_Model2\", \"learnToolsVersion\": \"0.3.4\", \"failureMessage\": \"\", \"exceptionClass\": \"\", \"trace\": \"\"}}, \"*\")"
          },
          "metadata": {}
        },
        {
          "output_type": "display_data",
          "data": {
            "text/plain": "Correct",
            "text/markdown": "<span style=\"color:#33cc33\">Correct</span>"
          },
          "metadata": {}
        }
      ]
    },
    {
      "cell_type": "code",
      "source": [
        "# Lines below will give you a hint or solution code\n",
        "#step_2.hint()\n",
        "#step_2.solution()"
      ],
      "metadata": {
        "id": "AYeYsW5Xje13"
      },
      "execution_count": null,
      "outputs": []
    },
    {
      "cell_type": "markdown",
      "source": [
        "# Step 3: Break the model\n",
        "\n",
        "In this step, you will create a model that performs worse than the original model in Step 1.  This will help you to develop your intuition for how to set parameters.  You might even find that you accidentally get better performance, which is ultimately a nice problem to have and a valuable learning experience!\n",
        "- Begin by setting `my_model_3` to an XGBoost model, using the [XGBRegressor](https://xgboost.readthedocs.io/en/latest/python/python_api.html#xgboost.XGBRegressor) class.  Use what you learned in the previous tutorial to figure out how to change the default parameters (like `n_estimators` and `learning_rate`) to design a model to get high MAE.\n",
        "- Then, fit the model to the training data in `X_train` and `y_train`.\n",
        "- Set `predictions_3` to the model's predictions for the validation data.  Recall that the validation features are stored in `X_valid`.\n",
        "- Finally, use the `mean_absolute_error()` function to calculate the mean absolute error (MAE) corresponding to the predictions on the validation set.  Recall that the labels for the validation data are stored in `y_valid`.\n",
        "\n",
        "In order for this step to be marked correct, your model in `my_model_3` must attain higher MAE than the model in `my_model_1`."
      ],
      "metadata": {
        "id": "7a_RcAOqje14"
      }
    },
    {
      "cell_type": "code",
      "source": [
        "# Define the model\n",
        "my_model_3 = XGBRegressor(n_estimators=1, learning_rate=0.1)\n",
        "\n",
        "# Fit the model\n",
        "my_model_3.fit(X_train, y_train) # Your code here\n",
        "\n",
        "# Get predictions\n",
        "predictions_3 = my_model_3.predict(X_valid)\n",
        "\n",
        "# Calculate MAE\n",
        "mae_3 = mean_absolute_error(predictions_3, y_valid)\n",
        "\n",
        "# Uncomment to print MAE\n",
        "print(\"Mean Absolute Error:\" , mae_3)\n",
        "\n",
        "# Check your answer\n",
        "step_3.check()"
      ],
      "metadata": {
        "execution": {
          "iopub.status.busy": "2024-02-25T10:04:07.450938Z",
          "iopub.execute_input": "2024-02-25T10:04:07.451322Z",
          "iopub.status.idle": "2024-02-25T10:04:07.612241Z",
          "shell.execute_reply.started": "2024-02-25T10:04:07.451292Z",
          "shell.execute_reply": "2024-02-25T10:04:07.611204Z"
        },
        "trusted": true,
        "id": "T26QHwlaje14",
        "outputId": "012cc4ed-f9f6-4e0e-f229-0df749ae5f59"
      },
      "execution_count": null,
      "outputs": [
        {
          "name": "stdout",
          "text": "Mean Absolute Error: 52175.5378317637\n",
          "output_type": "stream"
        },
        {
          "output_type": "display_data",
          "data": {
            "text/plain": "<IPython.core.display.Javascript object>",
            "application/javascript": "parent.postMessage({\"jupyterEvent\": \"custom.exercise_interaction\", \"data\": {\"outcomeType\": 1, \"valueTowardsCompletion\": 0.5, \"interactionType\": 1, \"questionType\": 2, \"questionId\": \"3_Model3\", \"learnToolsVersion\": \"0.3.4\", \"failureMessage\": \"\", \"exceptionClass\": \"\", \"trace\": \"\"}}, \"*\")"
          },
          "metadata": {}
        },
        {
          "output_type": "display_data",
          "data": {
            "text/plain": "Correct",
            "text/markdown": "<span style=\"color:#33cc33\">Correct</span>"
          },
          "metadata": {}
        }
      ]
    },
    {
      "cell_type": "code",
      "source": [
        "# Lines below will give you a hint or solution code\n",
        "#step_3.hint()\n",
        "step_3.solution()"
      ],
      "metadata": {
        "execution": {
          "iopub.status.busy": "2024-02-25T10:03:59.697878Z",
          "iopub.execute_input": "2024-02-25T10:03:59.698255Z",
          "iopub.status.idle": "2024-02-25T10:03:59.706691Z",
          "shell.execute_reply.started": "2024-02-25T10:03:59.698229Z",
          "shell.execute_reply": "2024-02-25T10:03:59.705914Z"
        },
        "trusted": true,
        "id": "ThdcVcvsje14",
        "outputId": "6c8c94ad-0cee-4cbb-bec2-eca7e98a05a4"
      },
      "execution_count": null,
      "outputs": [
        {
          "output_type": "display_data",
          "data": {
            "text/plain": "<IPython.core.display.Javascript object>",
            "application/javascript": "parent.postMessage({\"jupyterEvent\": \"custom.exercise_interaction\", \"data\": {\"interactionType\": 3, \"questionType\": 2, \"questionId\": \"3_Model3\", \"learnToolsVersion\": \"0.3.4\", \"valueTowardsCompletion\": 0.0, \"failureMessage\": \"\", \"exceptionClass\": \"\", \"trace\": \"\", \"outcomeType\": 4}}, \"*\")"
          },
          "metadata": {}
        },
        {
          "output_type": "display_data",
          "data": {
            "text/plain": "Solution: \n```python\n# Define the model\nmy_model_3 = XGBRegressor(n_estimators=1)\n\n# Fit the model\nmy_model_3.fit(X_train, y_train)\n\n# Get predictions\npredictions_3 = my_model_3.predict(X_valid)\n\n# Calculate MAE\nmae_3 = mean_absolute_error(predictions_3, y_valid)\nprint(\"Mean Absolute Error:\" , mae_3)\n\n```",
            "text/markdown": "<span style=\"color:#33cc99\">Solution:</span> \n```python\n# Define the model\nmy_model_3 = XGBRegressor(n_estimators=1)\n\n# Fit the model\nmy_model_3.fit(X_train, y_train)\n\n# Get predictions\npredictions_3 = my_model_3.predict(X_valid)\n\n# Calculate MAE\nmae_3 = mean_absolute_error(predictions_3, y_valid)\nprint(\"Mean Absolute Error:\" , mae_3)\n\n```"
          },
          "metadata": {}
        }
      ]
    },
    {
      "cell_type": "markdown",
      "source": [
        "# Keep going\n",
        "\n",
        "Continue to learn about **[data leakage](https://www.kaggle.com/alexisbcook/data-leakage)**.  This is an important issue for a data scientist to understand, and it has the potential to ruin your models in subtle and dangerous ways!"
      ],
      "metadata": {
        "id": "bo51nX7bje14"
      }
    },
    {
      "cell_type": "markdown",
      "source": [
        "---\n",
        "\n",
        "\n",
        "\n",
        "\n",
        "*Have questions or comments? Visit the [course discussion forum](https://www.kaggle.com/learn/intermediate-machine-learning/discussion) to chat with other learners.*"
      ],
      "metadata": {
        "id": "TIy_K2XOje14"
      }
    }
  ]
}