{
  "metadata": {
    "kernelspec": {
      "display_name": "Python 3",
      "language": "python",
      "name": "python3"
    },
    "language_info": {
      "name": "python",
      "version": "3.10.13",
      "mimetype": "text/x-python",
      "codemirror_mode": {
        "name": "ipython",
        "version": 3
      },
      "pygments_lexer": "ipython3",
      "nbconvert_exporter": "python",
      "file_extension": ".py"
    },
    "kaggle": {
      "accelerator": "none",
      "dataSources": [
        {
          "sourceId": 3551030,
          "sourceType": "datasetVersion",
          "datasetId": 116573
        }
      ],
      "isInternetEnabled": false,
      "language": "python",
      "sourceType": "notebook",
      "isGpuEnabled": false
    },
    "colab": {
      "name": "Exercise: Bar Charts and Heatmaps",
      "provenance": [],
      "include_colab_link": true
    }
  },
  "nbformat_minor": 0,
  "nbformat": 4,
  "cells": [
    {
      "cell_type": "markdown",
      "metadata": {
        "id": "view-in-github",
        "colab_type": "text"
      },
      "source": [
        "<a href=\"https://colab.research.google.com/github/Shashwot90/objectdetection/blob/main/Exercise_Bar_Charts_and_Heatmaps.ipynb\" target=\"_parent\"><img src=\"https://colab.research.google.com/assets/colab-badge.svg\" alt=\"Open In Colab\"/></a>"
      ]
    },
    {
      "source": [
        "\n",
        "# IMPORTANT: RUN THIS CELL IN ORDER TO IMPORT YOUR KAGGLE DATA SOURCES\n",
        "# TO THE CORRECT LOCATION (/kaggle/input) IN YOUR NOTEBOOK,\n",
        "# THEN FEEL FREE TO DELETE THIS CELL.\n",
        "# NOTE: THIS NOTEBOOK ENVIRONMENT DIFFERS FROM KAGGLE'S PYTHON\n",
        "# ENVIRONMENT SO THERE MAY BE MISSING LIBRARIES USED BY YOUR\n",
        "# NOTEBOOK.\n",
        "\n",
        "import os\n",
        "import sys\n",
        "from tempfile import NamedTemporaryFile\n",
        "from urllib.request import urlopen\n",
        "from urllib.parse import unquote, urlparse\n",
        "from urllib.error import HTTPError\n",
        "from zipfile import ZipFile\n",
        "import tarfile\n",
        "import shutil\n",
        "\n",
        "CHUNK_SIZE = 40960\n",
        "DATA_SOURCE_MAPPING = ':https%3A%2F%2Fstorage.googleapis.com%2Fkaggle-data-sets%2F116573%2F3551030%2Fbundle%2Farchive.zip%3FX-Goog-Algorithm%3DGOOG4-RSA-SHA256%26X-Goog-Credential%3Dgcp-kaggle-com%2540kaggle-161607.iam.gserviceaccount.com%252F20240321%252Fauto%252Fstorage%252Fgoog4_request%26X-Goog-Date%3D20240321T105209Z%26X-Goog-Expires%3D259200%26X-Goog-SignedHeaders%3Dhost%26X-Goog-Signature%3D917072a47f509f8f177acd1fb077adb969059b0d62d94dfcadac0f2d726dedf4b69b4de724c61e7a17d2571f97abed64c1149eb42758133c2af2816000543c794773a8b8c5f8b5bb8a16891d3c224cb373bacb03d8bbe4df3b9ce718543ca58b8f37334127403df513c499d749385662e6fe0e85f6542a31b920784f23d524bc07690398fab539b093339f03c5231b06c0a87ea7b702badbf7d54e3a584cb67ace7e49a14d54bb8ef6702dcda6e1f317d3f4b46b3685a95866b8c8fc232bf1f172706bdc1d496774b191715c3e4ed48e65c91bd0e064a6a9fc0c8e706514ab3bca6837dd406bbd6b17f9dafefa841dc151299d34b7926bb9caff797505347bb0'\n",
        "\n",
        "KAGGLE_INPUT_PATH='/kaggle/input'\n",
        "KAGGLE_WORKING_PATH='/kaggle/working'\n",
        "KAGGLE_SYMLINK='kaggle'\n",
        "\n",
        "!umount /kaggle/input/ 2> /dev/null\n",
        "shutil.rmtree('/kaggle/input', ignore_errors=True)\n",
        "os.makedirs(KAGGLE_INPUT_PATH, 0o777, exist_ok=True)\n",
        "os.makedirs(KAGGLE_WORKING_PATH, 0o777, exist_ok=True)\n",
        "\n",
        "try:\n",
        "  os.symlink(KAGGLE_INPUT_PATH, os.path.join(\"..\", 'input'), target_is_directory=True)\n",
        "except FileExistsError:\n",
        "  pass\n",
        "try:\n",
        "  os.symlink(KAGGLE_WORKING_PATH, os.path.join(\"..\", 'working'), target_is_directory=True)\n",
        "except FileExistsError:\n",
        "  pass\n",
        "\n",
        "for data_source_mapping in DATA_SOURCE_MAPPING.split(','):\n",
        "    directory, download_url_encoded = data_source_mapping.split(':')\n",
        "    download_url = unquote(download_url_encoded)\n",
        "    filename = urlparse(download_url).path\n",
        "    destination_path = os.path.join(KAGGLE_INPUT_PATH, directory)\n",
        "    try:\n",
        "        with urlopen(download_url) as fileres, NamedTemporaryFile() as tfile:\n",
        "            total_length = fileres.headers['content-length']\n",
        "            print(f'Downloading {directory}, {total_length} bytes compressed')\n",
        "            dl = 0\n",
        "            data = fileres.read(CHUNK_SIZE)\n",
        "            while len(data) > 0:\n",
        "                dl += len(data)\n",
        "                tfile.write(data)\n",
        "                done = int(50 * dl / int(total_length))\n",
        "                sys.stdout.write(f\"\\r[{'=' * done}{' ' * (50-done)}] {dl} bytes downloaded\")\n",
        "                sys.stdout.flush()\n",
        "                data = fileres.read(CHUNK_SIZE)\n",
        "            if filename.endswith('.zip'):\n",
        "              with ZipFile(tfile) as zfile:\n",
        "                zfile.extractall(destination_path)\n",
        "            else:\n",
        "              with tarfile.open(tfile.name) as tarfile:\n",
        "                tarfile.extractall(destination_path)\n",
        "            print(f'\\nDownloaded and uncompressed: {directory}')\n",
        "    except HTTPError as e:\n",
        "        print(f'Failed to load (likely expired) {download_url} to path {destination_path}')\n",
        "        continue\n",
        "    except OSError as e:\n",
        "        print(f'Failed to load {download_url} to path {destination_path}')\n",
        "        continue\n",
        "\n",
        "print('Data source import complete.')\n"
      ],
      "metadata": {
        "id": "rbqX_Oyto9tu"
      },
      "cell_type": "code",
      "outputs": [],
      "execution_count": null
    },
    {
      "cell_type": "markdown",
      "source": [
        "**This notebook is an exercise in the [Data Visualization](https://www.kaggle.com/learn/data-visualization) course.  You can reference the tutorial at [this link](https://www.kaggle.com/alexisbcook/bar-charts-and-heatmaps).**\n",
        "\n",
        "---\n"
      ],
      "metadata": {
        "id": "3KYLetUfo9t0"
      }
    },
    {
      "cell_type": "markdown",
      "source": [
        "In this exercise, you will use your new knowledge to propose a solution to a real-world scenario.  To succeed, you will need to import data into Python, answer questions using the data, and generate **bar charts** and **heatmaps** to understand patterns in the data.\n",
        "\n",
        "## Scenario\n",
        "\n",
        "You've recently decided to create your very own video game!  As an avid reader of [IGN Game Reviews](https://www.ign.com/reviews/games), you hear about all of the most recent game releases, along with the ranking they've received from experts, ranging from 0 (_Disaster_) to 10 (_Masterpiece_).\n",
        "\n",
        "![ex2_ign](https://i.imgur.com/Oh06Fu1.png)\n",
        "\n",
        "You're interested in using [IGN reviews](https://www.ign.com/reviews/games) to guide the design of your upcoming game.  Thankfully, someone has summarized the rankings in a really useful CSV file that you can use to guide your analysis.\n",
        "\n",
        "## Setup\n",
        "\n",
        "Run the next cell to import and configure the Python libraries that you need to complete the exercise."
      ],
      "metadata": {
        "id": "KpHBduBdo9t2"
      }
    },
    {
      "cell_type": "code",
      "source": [
        "import pandas as pd\n",
        "pd.plotting.register_matplotlib_converters()\n",
        "import matplotlib.pyplot as plt\n",
        "%matplotlib inline\n",
        "import seaborn as sns\n",
        "print(\"Setup Complete\")"
      ],
      "metadata": {
        "execution": {
          "iopub.status.busy": "2024-03-11T03:22:44.781751Z",
          "iopub.execute_input": "2024-03-11T03:22:44.782241Z",
          "iopub.status.idle": "2024-03-11T03:22:48.147208Z",
          "shell.execute_reply.started": "2024-03-11T03:22:44.782199Z",
          "shell.execute_reply": "2024-03-11T03:22:48.145718Z"
        },
        "trusted": true,
        "id": "1nlfd2Mbo9t3",
        "outputId": "e779361c-d493-4ec1-c33e-0c611b0f49a0"
      },
      "execution_count": null,
      "outputs": [
        {
          "name": "stdout",
          "text": "Setup Complete\n",
          "output_type": "stream"
        }
      ]
    },
    {
      "cell_type": "markdown",
      "source": [
        "The questions below will give you feedback on your work. Run the following cell to set up our feedback system."
      ],
      "metadata": {
        "id": "LgTssIwDo9t4"
      }
    },
    {
      "cell_type": "code",
      "source": [
        "# Set up code checking\n",
        "import os\n",
        "if not os.path.exists(\"../input/ign_scores.csv\"):\n",
        "    os.symlink(\"../input/data-for-datavis/ign_scores.csv\", \"../input/ign_scores.csv\")\n",
        "from learntools.core import binder\n",
        "binder.bind(globals())\n",
        "from learntools.data_viz_to_coder.ex3 import *\n",
        "print(\"Setup Complete\")"
      ],
      "metadata": {
        "execution": {
          "iopub.status.busy": "2024-03-11T03:22:50.683989Z",
          "iopub.execute_input": "2024-03-11T03:22:50.684534Z",
          "iopub.status.idle": "2024-03-11T03:22:50.758247Z",
          "shell.execute_reply.started": "2024-03-11T03:22:50.6845Z",
          "shell.execute_reply": "2024-03-11T03:22:50.756917Z"
        },
        "trusted": true,
        "id": "BiK8-ZhOo9t4",
        "outputId": "f4f50451-8b08-4daa-e917-4b8fce74f7c4"
      },
      "execution_count": null,
      "outputs": [
        {
          "name": "stdout",
          "text": "Setup Complete\n",
          "output_type": "stream"
        }
      ]
    },
    {
      "cell_type": "markdown",
      "source": [
        "## Step 1: Load the data\n",
        "\n",
        "Read the IGN data file into `ign_data`.  Use the `\"Platform\"` column to label the rows."
      ],
      "metadata": {
        "id": "6AemKhO3o9t5"
      }
    },
    {
      "cell_type": "code",
      "source": [
        "# Path of the file to read\n",
        "ign_filepath = \"../input/ign_scores.csv\"\n",
        "\n",
        "# Fill in the line below to read the file into a variable ign_data\n",
        "ign_data = pd.read_csv(ign_filepath, index_col=\"Platform\")\n",
        "\n",
        "# Run the line below with no changes to check that you've loaded the data correctly\n",
        "step_1.check()"
      ],
      "metadata": {
        "execution": {
          "iopub.status.busy": "2024-03-11T03:23:07.242539Z",
          "iopub.execute_input": "2024-03-11T03:23:07.242928Z",
          "iopub.status.idle": "2024-03-11T03:23:07.260199Z",
          "shell.execute_reply.started": "2024-03-11T03:23:07.242897Z",
          "shell.execute_reply": "2024-03-11T03:23:07.258793Z"
        },
        "trusted": true,
        "id": "ns8T-Xgfo9t5",
        "outputId": "e1df4c0c-3e41-495c-a4e1-56654396a975"
      },
      "execution_count": null,
      "outputs": [
        {
          "output_type": "display_data",
          "data": {
            "text/plain": "<IPython.core.display.Javascript object>",
            "application/javascript": "parent.postMessage({\"jupyterEvent\": \"custom.exercise_interaction\", \"data\": {\"outcomeType\": 1, \"valueTowardsCompletion\": 0.5, \"interactionType\": 1, \"questionType\": 1, \"questionId\": \"1_LoadIGNData\", \"learnToolsVersion\": \"0.3.4\", \"failureMessage\": \"\", \"exceptionClass\": \"\", \"trace\": \"\"}}, \"*\")"
          },
          "metadata": {}
        },
        {
          "output_type": "display_data",
          "data": {
            "text/plain": "Correct",
            "text/markdown": "<span style=\"color:#33cc33\">Correct</span>"
          },
          "metadata": {}
        }
      ]
    },
    {
      "cell_type": "code",
      "source": [
        "# Lines below will give you a hint or solution code\n",
        "#step_1.hint()\n",
        "#step_1.solution()"
      ],
      "metadata": {
        "id": "GWh5Co1ho9t6"
      },
      "execution_count": null,
      "outputs": []
    },
    {
      "cell_type": "markdown",
      "source": [
        "## Step 2: Review the data\n",
        "\n",
        "Use a Python command to print the entire dataset."
      ],
      "metadata": {
        "id": "P2eD5bjEo9t6"
      }
    },
    {
      "cell_type": "code",
      "source": [
        "# Print the data\n",
        "ign_data # Your code here"
      ],
      "metadata": {
        "execution": {
          "iopub.status.busy": "2024-03-11T03:23:33.131429Z",
          "iopub.execute_input": "2024-03-11T03:23:33.131907Z",
          "iopub.status.idle": "2024-03-11T03:23:33.16917Z",
          "shell.execute_reply.started": "2024-03-11T03:23:33.131871Z",
          "shell.execute_reply": "2024-03-11T03:23:33.168007Z"
        },
        "trusted": true,
        "id": "J4_Egbnfo9t7",
        "outputId": "28411a49-713a-4aa0-fd94-825bfa83aa0d"
      },
      "execution_count": null,
      "outputs": [
        {
          "execution_count": 6,
          "output_type": "execute_result",
          "data": {
            "text/plain": "                        Action  Action, Adventure  Adventure  Fighting  \\\nPlatform                                                                 \nDreamcast             6.882857           7.511111   6.281818  8.200000   \nGame Boy Advance      6.373077           7.507692   6.057143  6.226316   \nGame Boy Color        6.272727           8.166667   5.307692  4.500000   \nGameCube              6.532584           7.608333   6.753846  7.422222   \nNintendo 3DS          6.670833           7.481818   7.414286  6.614286   \nNintendo 64           6.649057           8.250000   7.000000  5.681250   \nNintendo DS           5.903608           7.240000   6.259804  6.320000   \nNintendo DSi          6.827027           8.500000   6.090909  7.500000   \nPC                    6.805791           7.334746   7.136798  7.166667   \nPlayStation           6.016406           7.933333   6.313725  6.553731   \nPlayStation 2         6.467361           7.250000   6.315152  7.306349   \nPlayStation 3         6.853819           7.306154   6.820988  7.710938   \nPlayStation 4         7.550000           7.835294   7.388571  7.280000   \nPlayStation Portable  6.467797           7.000000   6.938095  6.822222   \nPlayStation Vita      7.173077           6.133333   8.057143  7.527273   \nWii                   6.262718           7.294643   6.234043  6.733333   \nWireless              7.041699           7.312500   6.972414  6.740000   \nXbox                  6.819512           7.479032   6.821429  7.029630   \nXbox 360              6.719048           7.137838   6.857353  7.552239   \nXbox One              7.702857           7.566667   7.254545  7.171429   \niPhone                6.865445           7.764286   7.745833  6.087500   \n\n                      Platformer    Puzzle       RPG    Racing   Shooter  \\\nPlatform                                                                   \nDreamcast               8.340000  8.088889  7.700000  7.042500  7.616667   \nGame Boy Advance        6.970588  6.532143  7.542857  6.657143  6.444444   \nGame Boy Color          6.352941  6.583333  7.285714  5.897436  4.500000   \nGameCube                6.665714  6.133333  7.890909  6.852632  6.981818   \nNintendo 3DS            7.503448  8.000000  7.719231  6.900000  7.033333   \nNintendo 64             6.889655  7.461538  6.050000  6.939623  8.042857   \nNintendo DS             6.840000  6.604615  7.222619  6.038636  6.965217   \nNintendo DSi            7.250000  6.810526  7.166667  6.563636  6.500000   \nPC                      7.410938  6.924706  7.759930  7.032418  7.084878   \nPlayStation             6.579070  6.757895  7.910000  6.773387  6.424000   \nPlayStation 2           7.068421  6.354545  7.473077  6.585065  6.641667   \nPlayStation 3           7.735714  7.350000  7.436111  6.978571  7.219553   \nPlayStation 4           8.390909  7.400000  7.944000  7.590000  7.804444   \nPlayStation Portable    7.194737  6.726667  6.817778  6.401961  7.071053   \nPlayStation Vita        8.568750  8.250000  7.337500  6.300000  7.660000   \nWii                     7.054255  6.426984  7.410345  5.011667  6.479798   \nWireless                7.509091  7.360550  8.260000  6.898305  6.906780   \nXbox                    7.303448  5.125000  8.277778  7.021591  7.485417   \nXbox 360                7.559574  7.141026  7.650000  6.996154  7.338153   \nXbox One                6.733333  8.100000  8.291667  8.163636  8.020000   \niPhone                  7.471930  7.810784  7.185185  7.315789  6.995588   \n\n                      Simulation    Sports  Strategy  \nPlatform                                              \nDreamcast               7.628571  7.272222  6.433333  \nGame Boy Advance        6.928571  6.694444  7.175000  \nGame Boy Color          5.900000  5.790698  7.400000  \nGameCube                8.028571  7.481319  7.116667  \nNintendo 3DS            7.700000  6.388889  7.900000  \nNintendo 64             5.675000  6.967857  6.900000  \nNintendo DS             5.874359  5.936667  6.644737  \nNintendo DSi            5.195652  5.644444  6.566667  \nPC                      7.104889  6.902424  7.310207  \nPlayStation             6.918182  6.751220  6.496875  \nPlayStation 2           7.152632  7.197826  7.238889  \nPlayStation 3           7.142857  7.485816  7.355172  \nPlayStation 4           9.250000  7.430000  6.566667  \nPlayStation Portable    6.761538  6.956790  6.550000  \nPlayStation Vita        5.725000  7.130000  8.900000  \nWii                     6.327027  5.966901  6.975000  \nWireless                7.802857  7.417699  7.542857  \nXbox                    7.155556  7.884397  7.313333  \nXbox 360                7.325000  7.317857  7.112245  \nXbox One                7.733333  7.331818  8.500000  \niPhone                  7.328571  7.152174  7.534921  ",
            "text/html": "<div>\n<style scoped>\n    .dataframe tbody tr th:only-of-type {\n        vertical-align: middle;\n    }\n\n    .dataframe tbody tr th {\n        vertical-align: top;\n    }\n\n    .dataframe thead th {\n        text-align: right;\n    }\n</style>\n<table border=\"1\" class=\"dataframe\">\n  <thead>\n    <tr style=\"text-align: right;\">\n      <th></th>\n      <th>Action</th>\n      <th>Action, Adventure</th>\n      <th>Adventure</th>\n      <th>Fighting</th>\n      <th>Platformer</th>\n      <th>Puzzle</th>\n      <th>RPG</th>\n      <th>Racing</th>\n      <th>Shooter</th>\n      <th>Simulation</th>\n      <th>Sports</th>\n      <th>Strategy</th>\n    </tr>\n    <tr>\n      <th>Platform</th>\n      <th></th>\n      <th></th>\n      <th></th>\n      <th></th>\n      <th></th>\n      <th></th>\n      <th></th>\n      <th></th>\n      <th></th>\n      <th></th>\n      <th></th>\n      <th></th>\n    </tr>\n  </thead>\n  <tbody>\n    <tr>\n      <th>Dreamcast</th>\n      <td>6.882857</td>\n      <td>7.511111</td>\n      <td>6.281818</td>\n      <td>8.200000</td>\n      <td>8.340000</td>\n      <td>8.088889</td>\n      <td>7.700000</td>\n      <td>7.042500</td>\n      <td>7.616667</td>\n      <td>7.628571</td>\n      <td>7.272222</td>\n      <td>6.433333</td>\n    </tr>\n    <tr>\n      <th>Game Boy Advance</th>\n      <td>6.373077</td>\n      <td>7.507692</td>\n      <td>6.057143</td>\n      <td>6.226316</td>\n      <td>6.970588</td>\n      <td>6.532143</td>\n      <td>7.542857</td>\n      <td>6.657143</td>\n      <td>6.444444</td>\n      <td>6.928571</td>\n      <td>6.694444</td>\n      <td>7.175000</td>\n    </tr>\n    <tr>\n      <th>Game Boy Color</th>\n      <td>6.272727</td>\n      <td>8.166667</td>\n      <td>5.307692</td>\n      <td>4.500000</td>\n      <td>6.352941</td>\n      <td>6.583333</td>\n      <td>7.285714</td>\n      <td>5.897436</td>\n      <td>4.500000</td>\n      <td>5.900000</td>\n      <td>5.790698</td>\n      <td>7.400000</td>\n    </tr>\n    <tr>\n      <th>GameCube</th>\n      <td>6.532584</td>\n      <td>7.608333</td>\n      <td>6.753846</td>\n      <td>7.422222</td>\n      <td>6.665714</td>\n      <td>6.133333</td>\n      <td>7.890909</td>\n      <td>6.852632</td>\n      <td>6.981818</td>\n      <td>8.028571</td>\n      <td>7.481319</td>\n      <td>7.116667</td>\n    </tr>\n    <tr>\n      <th>Nintendo 3DS</th>\n      <td>6.670833</td>\n      <td>7.481818</td>\n      <td>7.414286</td>\n      <td>6.614286</td>\n      <td>7.503448</td>\n      <td>8.000000</td>\n      <td>7.719231</td>\n      <td>6.900000</td>\n      <td>7.033333</td>\n      <td>7.700000</td>\n      <td>6.388889</td>\n      <td>7.900000</td>\n    </tr>\n    <tr>\n      <th>Nintendo 64</th>\n      <td>6.649057</td>\n      <td>8.250000</td>\n      <td>7.000000</td>\n      <td>5.681250</td>\n      <td>6.889655</td>\n      <td>7.461538</td>\n      <td>6.050000</td>\n      <td>6.939623</td>\n      <td>8.042857</td>\n      <td>5.675000</td>\n      <td>6.967857</td>\n      <td>6.900000</td>\n    </tr>\n    <tr>\n      <th>Nintendo DS</th>\n      <td>5.903608</td>\n      <td>7.240000</td>\n      <td>6.259804</td>\n      <td>6.320000</td>\n      <td>6.840000</td>\n      <td>6.604615</td>\n      <td>7.222619</td>\n      <td>6.038636</td>\n      <td>6.965217</td>\n      <td>5.874359</td>\n      <td>5.936667</td>\n      <td>6.644737</td>\n    </tr>\n    <tr>\n      <th>Nintendo DSi</th>\n      <td>6.827027</td>\n      <td>8.500000</td>\n      <td>6.090909</td>\n      <td>7.500000</td>\n      <td>7.250000</td>\n      <td>6.810526</td>\n      <td>7.166667</td>\n      <td>6.563636</td>\n      <td>6.500000</td>\n      <td>5.195652</td>\n      <td>5.644444</td>\n      <td>6.566667</td>\n    </tr>\n    <tr>\n      <th>PC</th>\n      <td>6.805791</td>\n      <td>7.334746</td>\n      <td>7.136798</td>\n      <td>7.166667</td>\n      <td>7.410938</td>\n      <td>6.924706</td>\n      <td>7.759930</td>\n      <td>7.032418</td>\n      <td>7.084878</td>\n      <td>7.104889</td>\n      <td>6.902424</td>\n      <td>7.310207</td>\n    </tr>\n    <tr>\n      <th>PlayStation</th>\n      <td>6.016406</td>\n      <td>7.933333</td>\n      <td>6.313725</td>\n      <td>6.553731</td>\n      <td>6.579070</td>\n      <td>6.757895</td>\n      <td>7.910000</td>\n      <td>6.773387</td>\n      <td>6.424000</td>\n      <td>6.918182</td>\n      <td>6.751220</td>\n      <td>6.496875</td>\n    </tr>\n    <tr>\n      <th>PlayStation 2</th>\n      <td>6.467361</td>\n      <td>7.250000</td>\n      <td>6.315152</td>\n      <td>7.306349</td>\n      <td>7.068421</td>\n      <td>6.354545</td>\n      <td>7.473077</td>\n      <td>6.585065</td>\n      <td>6.641667</td>\n      <td>7.152632</td>\n      <td>7.197826</td>\n      <td>7.238889</td>\n    </tr>\n    <tr>\n      <th>PlayStation 3</th>\n      <td>6.853819</td>\n      <td>7.306154</td>\n      <td>6.820988</td>\n      <td>7.710938</td>\n      <td>7.735714</td>\n      <td>7.350000</td>\n      <td>7.436111</td>\n      <td>6.978571</td>\n      <td>7.219553</td>\n      <td>7.142857</td>\n      <td>7.485816</td>\n      <td>7.355172</td>\n    </tr>\n    <tr>\n      <th>PlayStation 4</th>\n      <td>7.550000</td>\n      <td>7.835294</td>\n      <td>7.388571</td>\n      <td>7.280000</td>\n      <td>8.390909</td>\n      <td>7.400000</td>\n      <td>7.944000</td>\n      <td>7.590000</td>\n      <td>7.804444</td>\n      <td>9.250000</td>\n      <td>7.430000</td>\n      <td>6.566667</td>\n    </tr>\n    <tr>\n      <th>PlayStation Portable</th>\n      <td>6.467797</td>\n      <td>7.000000</td>\n      <td>6.938095</td>\n      <td>6.822222</td>\n      <td>7.194737</td>\n      <td>6.726667</td>\n      <td>6.817778</td>\n      <td>6.401961</td>\n      <td>7.071053</td>\n      <td>6.761538</td>\n      <td>6.956790</td>\n      <td>6.550000</td>\n    </tr>\n    <tr>\n      <th>PlayStation Vita</th>\n      <td>7.173077</td>\n      <td>6.133333</td>\n      <td>8.057143</td>\n      <td>7.527273</td>\n      <td>8.568750</td>\n      <td>8.250000</td>\n      <td>7.337500</td>\n      <td>6.300000</td>\n      <td>7.660000</td>\n      <td>5.725000</td>\n      <td>7.130000</td>\n      <td>8.900000</td>\n    </tr>\n    <tr>\n      <th>Wii</th>\n      <td>6.262718</td>\n      <td>7.294643</td>\n      <td>6.234043</td>\n      <td>6.733333</td>\n      <td>7.054255</td>\n      <td>6.426984</td>\n      <td>7.410345</td>\n      <td>5.011667</td>\n      <td>6.479798</td>\n      <td>6.327027</td>\n      <td>5.966901</td>\n      <td>6.975000</td>\n    </tr>\n    <tr>\n      <th>Wireless</th>\n      <td>7.041699</td>\n      <td>7.312500</td>\n      <td>6.972414</td>\n      <td>6.740000</td>\n      <td>7.509091</td>\n      <td>7.360550</td>\n      <td>8.260000</td>\n      <td>6.898305</td>\n      <td>6.906780</td>\n      <td>7.802857</td>\n      <td>7.417699</td>\n      <td>7.542857</td>\n    </tr>\n    <tr>\n      <th>Xbox</th>\n      <td>6.819512</td>\n      <td>7.479032</td>\n      <td>6.821429</td>\n      <td>7.029630</td>\n      <td>7.303448</td>\n      <td>5.125000</td>\n      <td>8.277778</td>\n      <td>7.021591</td>\n      <td>7.485417</td>\n      <td>7.155556</td>\n      <td>7.884397</td>\n      <td>7.313333</td>\n    </tr>\n    <tr>\n      <th>Xbox 360</th>\n      <td>6.719048</td>\n      <td>7.137838</td>\n      <td>6.857353</td>\n      <td>7.552239</td>\n      <td>7.559574</td>\n      <td>7.141026</td>\n      <td>7.650000</td>\n      <td>6.996154</td>\n      <td>7.338153</td>\n      <td>7.325000</td>\n      <td>7.317857</td>\n      <td>7.112245</td>\n    </tr>\n    <tr>\n      <th>Xbox One</th>\n      <td>7.702857</td>\n      <td>7.566667</td>\n      <td>7.254545</td>\n      <td>7.171429</td>\n      <td>6.733333</td>\n      <td>8.100000</td>\n      <td>8.291667</td>\n      <td>8.163636</td>\n      <td>8.020000</td>\n      <td>7.733333</td>\n      <td>7.331818</td>\n      <td>8.500000</td>\n    </tr>\n    <tr>\n      <th>iPhone</th>\n      <td>6.865445</td>\n      <td>7.764286</td>\n      <td>7.745833</td>\n      <td>6.087500</td>\n      <td>7.471930</td>\n      <td>7.810784</td>\n      <td>7.185185</td>\n      <td>7.315789</td>\n      <td>6.995588</td>\n      <td>7.328571</td>\n      <td>7.152174</td>\n      <td>7.534921</td>\n    </tr>\n  </tbody>\n</table>\n</div>"
          },
          "metadata": {}
        }
      ]
    },
    {
      "cell_type": "markdown",
      "source": [
        "The dataset that you've just printed shows the average score, by platform and genre.  Use the data to answer the questions below."
      ],
      "metadata": {
        "id": "A6MgmRUTo9t7"
      }
    },
    {
      "cell_type": "code",
      "source": [
        "# Fill in the line below: What is the highest average score received by PC games,\n",
        "# for any genre?\n",
        "high_score = 7.759930\n",
        "\n",
        "# Fill in the line below: On the Playstation Vita platform, which genre has the\n",
        "# lowest average score? Please provide the name of the column, and put your answer\n",
        "# in single quotes (e.g., 'Action', 'Adventure', 'Fighting', etc.)\n",
        "worst_genre = 'Simulation'\n",
        "\n",
        "# Check your answers\n",
        "step_2.check()"
      ],
      "metadata": {
        "execution": {
          "iopub.status.busy": "2024-03-11T03:27:06.358075Z",
          "iopub.execute_input": "2024-03-11T03:27:06.358507Z",
          "iopub.status.idle": "2024-03-11T03:27:06.370145Z",
          "shell.execute_reply.started": "2024-03-11T03:27:06.35847Z",
          "shell.execute_reply": "2024-03-11T03:27:06.368916Z"
        },
        "trusted": true,
        "id": "fKAxSJc1o9t7",
        "outputId": "39b96148-4d90-4e1f-9367-e9eec73e4730"
      },
      "execution_count": null,
      "outputs": [
        {
          "output_type": "display_data",
          "data": {
            "text/plain": "<IPython.core.display.Javascript object>",
            "application/javascript": "parent.postMessage({\"jupyterEvent\": \"custom.exercise_interaction\", \"data\": {\"outcomeType\": 1, \"valueTowardsCompletion\": 0.5, \"interactionType\": 1, \"questionType\": 1, \"questionId\": \"2_ReviewData\", \"learnToolsVersion\": \"0.3.4\", \"failureMessage\": \"\", \"exceptionClass\": \"\", \"trace\": \"\"}}, \"*\")"
          },
          "metadata": {}
        },
        {
          "output_type": "display_data",
          "data": {
            "text/plain": "Correct",
            "text/markdown": "<span style=\"color:#33cc33\">Correct</span>"
          },
          "metadata": {}
        }
      ]
    },
    {
      "cell_type": "code",
      "source": [
        "# Lines below will give you a hint or solution code\n",
        "#step_2.hint()\n",
        "step_2.solution()"
      ],
      "metadata": {
        "execution": {
          "iopub.status.busy": "2024-03-11T03:26:09.696856Z",
          "iopub.execute_input": "2024-03-11T03:26:09.697247Z",
          "iopub.status.idle": "2024-03-11T03:26:09.709739Z",
          "shell.execute_reply.started": "2024-03-11T03:26:09.697216Z",
          "shell.execute_reply": "2024-03-11T03:26:09.707933Z"
        },
        "trusted": true,
        "id": "WwVl28iYo9t8",
        "outputId": "5fa432d3-879a-4d9d-83e3-144a2377c753"
      },
      "execution_count": null,
      "outputs": [
        {
          "output_type": "display_data",
          "data": {
            "text/plain": "<IPython.core.display.Javascript object>",
            "application/javascript": "parent.postMessage({\"jupyterEvent\": \"custom.exercise_interaction\", \"data\": {\"interactionType\": 3, \"questionType\": 1, \"questionId\": \"2_ReviewData\", \"learnToolsVersion\": \"0.3.4\", \"valueTowardsCompletion\": 0.0, \"failureMessage\": \"\", \"exceptionClass\": \"\", \"trace\": \"\", \"outcomeType\": 4}}, \"*\")"
          },
          "metadata": {}
        },
        {
          "output_type": "display_data",
          "data": {
            "text/plain": "Solution: \n```python\n# Print the data\nign_data\n# What is the highest average score received by PC games, for any genre?\nhigh_score = 7.759930\n# On the Playstation Vita platform, which genre has the \n# lowest average score? Please provide the name of the column, and put your answer \n# in single quotes (e.g., 'Action', 'Adventure', 'Fighting', etc.)\nworst_genre = 'Simulation'\n\n```",
            "text/markdown": "<span style=\"color:#33cc99\">Solution:</span> \n```python\n# Print the data\nign_data\n# What is the highest average score received by PC games, for any genre?\nhigh_score = 7.759930\n# On the Playstation Vita platform, which genre has the \n# lowest average score? Please provide the name of the column, and put your answer \n# in single quotes (e.g., 'Action', 'Adventure', 'Fighting', etc.)\nworst_genre = 'Simulation'\n\n```"
          },
          "metadata": {}
        }
      ]
    },
    {
      "cell_type": "markdown",
      "source": [
        "## Step 3: Which platform is best?\n",
        "\n",
        "Since you can remember, your favorite video game has been [**Mario Kart Wii**](https://www.ign.com/games/mario-kart-wii), a racing game released for the Wii platform in 2008.  And, IGN agrees with you that it is a great game -- their rating for this game is a whopping 8.9!  Inspired by the success of this game, you're considering creating your very own racing game for the Wii platform.\n",
        "\n",
        "#### Part A\n",
        "\n",
        "Create a bar chart that shows the average score for **racing** games, for each platform.  Your chart should have one bar for each platform."
      ],
      "metadata": {
        "id": "B17z1WRPo9t8"
      }
    },
    {
      "cell_type": "code",
      "source": [
        "# Bar chart showing average score for racing games by platform\n",
        " # Your code here\n",
        "\n",
        "# Check your answer\n",
        "step_3.a.check()"
      ],
      "metadata": {
        "id": "v2Adg1s4o9t9"
      },
      "execution_count": null,
      "outputs": []
    },
    {
      "cell_type": "code",
      "source": [
        "# Lines below will give you a hint or solution code\n",
        "#step_3.a.hint()\n",
        "#step_3.a.solution_plot()"
      ],
      "metadata": {
        "id": "qRdMe5Ubo9t9"
      },
      "execution_count": null,
      "outputs": []
    },
    {
      "cell_type": "markdown",
      "source": [
        "#### Part B\n",
        "\n",
        "Based on the bar chart, do you expect a racing game for the **Wii** platform to receive a high rating?  If not, what gaming platform seems to be the best alternative?"
      ],
      "metadata": {
        "id": "pEF8IZeIo9t9"
      }
    },
    {
      "cell_type": "code",
      "source": [
        "#step_3.b.hint()"
      ],
      "metadata": {
        "id": "7rBohm85o9t9"
      },
      "execution_count": null,
      "outputs": []
    },
    {
      "cell_type": "code",
      "source": [
        "# Check your answer (Run this code cell to receive credit!)\n",
        "step_3.b.solution()"
      ],
      "metadata": {
        "id": "Lz3pV_Ilo9t-"
      },
      "execution_count": null,
      "outputs": []
    },
    {
      "cell_type": "markdown",
      "source": [
        "## Step 4: All possible combinations!\n",
        "\n",
        "Eventually, you decide against creating a racing game for Wii, but you're still committed to creating your own video game!  Since your gaming interests are pretty broad (_... you generally love most video games_), you decide to use the IGN data to inform your new choice of genre and platform.\n",
        "\n",
        "#### Part A\n",
        "\n",
        "Use the data to create a heatmap of average score by genre and platform.  "
      ],
      "metadata": {
        "id": "i75RB4R_o9t-"
      }
    },
    {
      "cell_type": "code",
      "source": [
        "# Heatmap showing average game score by platform and genre\n",
        "____ # Your code here\n",
        "\n",
        "# Check your answer\n",
        "step_4.a.check()"
      ],
      "metadata": {
        "id": "f_PwksrCo9t-"
      },
      "execution_count": null,
      "outputs": []
    },
    {
      "cell_type": "code",
      "source": [
        "# Lines below will give you a hint or solution code\n",
        "#step_4.a.hint()\n",
        "#step_4.a.solution_plot()"
      ],
      "metadata": {
        "id": "qDezRSruo9t-"
      },
      "execution_count": null,
      "outputs": []
    },
    {
      "cell_type": "markdown",
      "source": [
        "#### Part B\n",
        "\n",
        "Which combination of genre and platform receives the highest average ratings?  Which combination receives the lowest average rankings?"
      ],
      "metadata": {
        "id": "N8wgBhaXo9t-"
      }
    },
    {
      "cell_type": "code",
      "source": [
        "#step_4.b.hint()"
      ],
      "metadata": {
        "id": "jcszGrDLo9t-"
      },
      "execution_count": null,
      "outputs": []
    },
    {
      "cell_type": "code",
      "source": [
        "# Check your answer (Run this code cell to receive credit!)\n",
        "step_4.b.solution()"
      ],
      "metadata": {
        "id": "UK4qSSE9o9t-"
      },
      "execution_count": null,
      "outputs": []
    },
    {
      "cell_type": "markdown",
      "source": [
        "# Keep going\n",
        "\n",
        "Move on to learn all about **[scatter plots](https://www.kaggle.com/alexisbcook/scatter-plots)**!"
      ],
      "metadata": {
        "id": "H31OwUlEo9t_"
      }
    },
    {
      "cell_type": "markdown",
      "source": [
        "---\n",
        "\n",
        "\n",
        "\n",
        "\n",
        "*Have questions or comments? Visit the [course discussion forum](https://www.kaggle.com/learn/data-visualization/discussion) to chat with other learners.*"
      ],
      "metadata": {
        "id": "hTVsIP_2o9t_"
      }
    }
  ]
}