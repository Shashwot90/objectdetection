{
  "metadata": {
    "kernelspec": {
      "language": "python",
      "display_name": "Python 3",
      "name": "python3"
    },
    "language_info": {
      "pygments_lexer": "ipython3",
      "nbconvert_exporter": "python",
      "version": "3.6.4",
      "file_extension": ".py",
      "codemirror_mode": {
        "name": "ipython",
        "version": 3
      },
      "name": "python",
      "mimetype": "text/x-python"
    },
    "kaggle": {
      "accelerator": "none",
      "dataSources": [
        {
          "sourceId": 3551030,
          "sourceType": "datasetVersion",
          "datasetId": 116573
        }
      ],
      "isInternetEnabled": false,
      "language": "python",
      "sourceType": "notebook",
      "isGpuEnabled": false
    },
    "colab": {
      "name": "Exercise: Line Charts",
      "provenance": [],
      "include_colab_link": true
    }
  },
  "nbformat_minor": 0,
  "nbformat": 4,
  "cells": [
    {
      "cell_type": "markdown",
      "metadata": {
        "id": "view-in-github",
        "colab_type": "text"
      },
      "source": [
        "<a href=\"https://colab.research.google.com/github/Shashwot90/objectdetection/blob/main/Exercise_Line_Charts.ipynb\" target=\"_parent\"><img src=\"https://colab.research.google.com/assets/colab-badge.svg\" alt=\"Open In Colab\"/></a>"
      ]
    },
    {
      "source": [
        "\n",
        "# IMPORTANT: RUN THIS CELL IN ORDER TO IMPORT YOUR KAGGLE DATA SOURCES\n",
        "# TO THE CORRECT LOCATION (/kaggle/input) IN YOUR NOTEBOOK,\n",
        "# THEN FEEL FREE TO DELETE THIS CELL.\n",
        "# NOTE: THIS NOTEBOOK ENVIRONMENT DIFFERS FROM KAGGLE'S PYTHON\n",
        "# ENVIRONMENT SO THERE MAY BE MISSING LIBRARIES USED BY YOUR\n",
        "# NOTEBOOK.\n",
        "\n",
        "import os\n",
        "import sys\n",
        "from tempfile import NamedTemporaryFile\n",
        "from urllib.request import urlopen\n",
        "from urllib.parse import unquote, urlparse\n",
        "from urllib.error import HTTPError\n",
        "from zipfile import ZipFile\n",
        "import tarfile\n",
        "import shutil\n",
        "\n",
        "CHUNK_SIZE = 40960\n",
        "DATA_SOURCE_MAPPING = ':https%3A%2F%2Fstorage.googleapis.com%2Fkaggle-data-sets%2F116573%2F3551030%2Fbundle%2Farchive.zip%3FX-Goog-Algorithm%3DGOOG4-RSA-SHA256%26X-Goog-Credential%3Dgcp-kaggle-com%2540kaggle-161607.iam.gserviceaccount.com%252F20240327%252Fauto%252Fstorage%252Fgoog4_request%26X-Goog-Date%3D20240327T080233Z%26X-Goog-Expires%3D259200%26X-Goog-SignedHeaders%3Dhost%26X-Goog-Signature%3D4c2ac97902e55e3c83a36d6ed5ca3fcb4a98d70c71775821042ae6e60ad40d01294fb11895f4beaec0e5758715ce16547fa20ae3ed29266e2ffe0d83421dc2550a31d4f39cbe820e5f4af66a04b39e42098f6a49941589f63abbc33aca5cfaa3651190b959b434602f9009e24fd50bdab92d79e59ae694868bf64fc46205e0da609c17f22dc5c95cd27bd2bc1fa26163b6df48169c283361d2bef46f8dc28080c96a98d60ea48061b6cdf0a6b707a5197e340e8c626d05291243f1cd1c965bcd8b3a50fb83c950ddc0244538035e7848039ab3167670fd33e46877837ce5225a742209033bb17bf27542f94358e5beb5d66a7cd6abbf5b8c24dc8001e47cb3e4'\n",
        "\n",
        "KAGGLE_INPUT_PATH='/kaggle/input'\n",
        "KAGGLE_WORKING_PATH='/kaggle/working'\n",
        "KAGGLE_SYMLINK='kaggle'\n",
        "\n",
        "!umount /kaggle/input/ 2> /dev/null\n",
        "shutil.rmtree('/kaggle/input', ignore_errors=True)\n",
        "os.makedirs(KAGGLE_INPUT_PATH, 0o777, exist_ok=True)\n",
        "os.makedirs(KAGGLE_WORKING_PATH, 0o777, exist_ok=True)\n",
        "\n",
        "try:\n",
        "  os.symlink(KAGGLE_INPUT_PATH, os.path.join(\"..\", 'input'), target_is_directory=True)\n",
        "except FileExistsError:\n",
        "  pass\n",
        "try:\n",
        "  os.symlink(KAGGLE_WORKING_PATH, os.path.join(\"..\", 'working'), target_is_directory=True)\n",
        "except FileExistsError:\n",
        "  pass\n",
        "\n",
        "for data_source_mapping in DATA_SOURCE_MAPPING.split(','):\n",
        "    directory, download_url_encoded = data_source_mapping.split(':')\n",
        "    download_url = unquote(download_url_encoded)\n",
        "    filename = urlparse(download_url).path\n",
        "    destination_path = os.path.join(KAGGLE_INPUT_PATH, directory)\n",
        "    try:\n",
        "        with urlopen(download_url) as fileres, NamedTemporaryFile() as tfile:\n",
        "            total_length = fileres.headers['content-length']\n",
        "            print(f'Downloading {directory}, {total_length} bytes compressed')\n",
        "            dl = 0\n",
        "            data = fileres.read(CHUNK_SIZE)\n",
        "            while len(data) > 0:\n",
        "                dl += len(data)\n",
        "                tfile.write(data)\n",
        "                done = int(50 * dl / int(total_length))\n",
        "                sys.stdout.write(f\"\\r[{'=' * done}{' ' * (50-done)}] {dl} bytes downloaded\")\n",
        "                sys.stdout.flush()\n",
        "                data = fileres.read(CHUNK_SIZE)\n",
        "            if filename.endswith('.zip'):\n",
        "              with ZipFile(tfile) as zfile:\n",
        "                zfile.extractall(destination_path)\n",
        "            else:\n",
        "              with tarfile.open(tfile.name) as tarfile:\n",
        "                tarfile.extractall(destination_path)\n",
        "            print(f'\\nDownloaded and uncompressed: {directory}')\n",
        "    except HTTPError as e:\n",
        "        print(f'Failed to load (likely expired) {download_url} to path {destination_path}')\n",
        "        continue\n",
        "    except OSError as e:\n",
        "        print(f'Failed to load {download_url} to path {destination_path}')\n",
        "        continue\n",
        "\n",
        "print('Data source import complete.')\n"
      ],
      "metadata": {
        "id": "FIW5bS5u7r4A"
      },
      "cell_type": "code",
      "outputs": [],
      "execution_count": null
    },
    {
      "cell_type": "markdown",
      "source": [
        "**This notebook is an exercise in the [Data Visualization](https://www.kaggle.com/learn/data-visualization) course.  You can reference the tutorial at [this link](https://www.kaggle.com/alexisbcook/line-charts).**\n",
        "\n",
        "---\n"
      ],
      "metadata": {
        "id": "TjgO6iud7r4J"
      }
    },
    {
      "cell_type": "markdown",
      "source": [
        "In this exercise, you will use your new knowledge to propose a solution to a real-world scenario. To succeed, you will need to import data into Python, answer questions using the data, and generate **line charts** to understand patterns in the data.\n",
        "\n",
        "## Scenario\n",
        "\n",
        "You have recently been hired to manage the museums in the City of Los Angeles. Your first project focuses on the four museums pictured in the images below.\n",
        "\n",
        "![ex1_museums](https://i.imgur.com/pFYL8J1.png)\n",
        "\n",
        "You will leverage data from the Los Angeles [Data Portal](https://data.lacity.org/) that tracks monthly visitors to each museum.  \n",
        "\n",
        "![ex1_xlsx](https://i.imgur.com/mGWYlym.png)\n",
        "\n",
        "## Setup\n",
        "\n",
        "Run the next cell to import and configure the Python libraries that you need to complete the exercise."
      ],
      "metadata": {
        "id": "ABcEUGAa7r4N"
      }
    },
    {
      "cell_type": "code",
      "source": [
        "import pandas as pd\n",
        "pd.plotting.register_matplotlib_converters()\n",
        "import matplotlib.pyplot as plt\n",
        "%matplotlib inline\n",
        "import seaborn as sns\n",
        "print(\"Setup Complete\")"
      ],
      "metadata": {
        "execution": {
          "iopub.status.busy": "2022-11-22T14:01:31.969999Z",
          "iopub.execute_input": "2022-11-22T14:01:31.97048Z",
          "iopub.status.idle": "2022-11-22T14:01:33.23231Z",
          "shell.execute_reply.started": "2022-11-22T14:01:31.970386Z",
          "shell.execute_reply": "2022-11-22T14:01:33.230934Z"
        },
        "trusted": true,
        "id": "_fmHGkh97r4P"
      },
      "execution_count": null,
      "outputs": []
    },
    {
      "cell_type": "markdown",
      "source": [
        "The questions below will give you feedback on your work. Run the following cell to set up the feedback system."
      ],
      "metadata": {
        "id": "rYywG-y77r4Q"
      }
    },
    {
      "cell_type": "code",
      "source": [
        "# Set up code checking\n",
        "import os\n",
        "if not os.path.exists(\"../input/museum_visitors.csv\"):\n",
        "    os.symlink(\"../input/data-for-datavis/museum_visitors.csv\", \"../input/museum_visitors.csv\")\n",
        "from learntools.core import binder\n",
        "binder.bind(globals())\n",
        "from learntools.data_viz_to_coder.ex2 import *\n",
        "print(\"Setup Complete\")"
      ],
      "metadata": {
        "execution": {
          "iopub.status.busy": "2022-11-22T14:01:55.364586Z",
          "iopub.execute_input": "2022-11-22T14:01:55.364943Z",
          "iopub.status.idle": "2022-11-22T14:01:55.436451Z",
          "shell.execute_reply.started": "2022-11-22T14:01:55.364916Z",
          "shell.execute_reply": "2022-11-22T14:01:55.434912Z"
        },
        "trusted": true,
        "id": "D0prkZ2I7r4R"
      },
      "execution_count": null,
      "outputs": []
    },
    {
      "cell_type": "markdown",
      "source": [
        "## Step 1: Load the data\n",
        "\n",
        "Your first assignment is to read the LA Museum Visitors data file into `museum_data`.  Note that:\n",
        "- The filepath to the dataset is stored as `museum_filepath`.  Please **do not** change the provided value of the filepath.\n",
        "- The name of the column to use as row labels is `\"Date\"`.  (This can be seen in cell A1 when the file is opened in Excel.)\n",
        "\n",
        "To help with this, you may find it useful to revisit some relevant code from the tutorial, which we have pasted below:\n",
        "\n",
        "```python\n",
        "# Path of the file to read\n",
        "spotify_filepath = \"../input/spotify.csv\"\n",
        "\n",
        "# Read the file into a variable spotify_data\n",
        "spotify_data = pd.read_csv(spotify_filepath, index_col=\"Date\", parse_dates=True)\n",
        "```\n",
        "\n",
        "The code you need to write now looks very similar!"
      ],
      "metadata": {
        "id": "FEDcZRUn7r4S"
      }
    },
    {
      "cell_type": "code",
      "source": [
        "# Path of the file to read\n",
        "museum_filepath = \"../input/museum_visitors.csv\"\n",
        "\n",
        "# Fill in the line below to read the file into a variable museum_data\n",
        "museum_data = pd.read_csv(museum_filepath, index_col=\"Date\", parse_dates=True)\n",
        "\n",
        "# Run the line below with no changes to check that you've loaded the data correctly\n",
        "step_1.check()"
      ],
      "metadata": {
        "execution": {
          "iopub.status.busy": "2022-11-22T14:08:12.340733Z",
          "iopub.execute_input": "2022-11-22T14:08:12.341098Z",
          "iopub.status.idle": "2022-11-22T14:08:12.378684Z",
          "shell.execute_reply.started": "2022-11-22T14:08:12.341068Z",
          "shell.execute_reply": "2022-11-22T14:08:12.377501Z"
        },
        "trusted": true,
        "id": "br2y6G3l7r4U"
      },
      "execution_count": null,
      "outputs": []
    },
    {
      "cell_type": "code",
      "source": [
        "# Uncomment the line below to receive a hint\n",
        "#step_1.hint()\n",
        "# Uncomment the line below to see the solution\n",
        "#step_1.solution()"
      ],
      "metadata": {
        "id": "lS39uJCr7r4V"
      },
      "execution_count": null,
      "outputs": []
    },
    {
      "cell_type": "markdown",
      "source": [
        "## Step 2: Review the data\n",
        "\n",
        "Use a Python command to print the last 5 rows of the data."
      ],
      "metadata": {
        "id": "cyV5Qq737r4W"
      }
    },
    {
      "cell_type": "code",
      "source": [
        "# Print the last five rows of the data\n",
        "museum_data.tail() # Your code here"
      ],
      "metadata": {
        "execution": {
          "iopub.status.busy": "2022-11-22T14:09:15.369556Z",
          "iopub.execute_input": "2022-11-22T14:09:15.369983Z",
          "iopub.status.idle": "2022-11-22T14:09:15.387499Z",
          "shell.execute_reply.started": "2022-11-22T14:09:15.369949Z",
          "shell.execute_reply": "2022-11-22T14:09:15.385164Z"
        },
        "trusted": true,
        "id": "UDZIH9Jc7r4X"
      },
      "execution_count": null,
      "outputs": []
    },
    {
      "cell_type": "markdown",
      "source": [
        "The last row (for `2018-11-01`) tracks the number of visitors to each museum in November 2018, the next-to-last row (for `2018-10-01`) tracks the number of visitors to each museum in October 2018, _and so on_.\n",
        "\n",
        "Use the last 5 rows of the data to answer the questions below."
      ],
      "metadata": {
        "id": "GOMmyHdc7r4Y"
      }
    },
    {
      "cell_type": "code",
      "source": [
        "# Fill in the line below: How many visitors did the Chinese American Museum\n",
        "# receive in July 2018?\n",
        "ca_museum_jul18 = 2620\n",
        "\n",
        "# Fill in the line below: In October 2018, how many more visitors did Avila\n",
        "# Adobe receive than the Firehouse Museum?\n",
        "avila_oct18 = 14658\n",
        "\n",
        "# Check your answers\n",
        "step_2.check()"
      ],
      "metadata": {
        "execution": {
          "iopub.status.busy": "2022-11-22T14:28:50.112328Z",
          "iopub.execute_input": "2022-11-22T14:28:50.112785Z",
          "iopub.status.idle": "2022-11-22T14:28:50.123249Z",
          "shell.execute_reply.started": "2022-11-22T14:28:50.112749Z",
          "shell.execute_reply": "2022-11-22T14:28:50.122054Z"
        },
        "trusted": true,
        "id": "U_0PMJ-L7r4Z"
      },
      "execution_count": null,
      "outputs": []
    },
    {
      "cell_type": "code",
      "source": [
        "# Lines below will give you a hint or solution code\n",
        "#step_2.hint()\n",
        "#step_2.solution()"
      ],
      "metadata": {
        "id": "7uACfW9s7r4Z"
      },
      "execution_count": null,
      "outputs": []
    },
    {
      "cell_type": "markdown",
      "source": [
        "## Step 3: Convince the museum board\n",
        "\n",
        "The Firehouse Museum claims they ran an event in 2014 that brought an incredible number of visitors, and that they should get extra budget to run a similar event again.  The other museums think these types of events aren't that important, and budgets should be split purely based on recent visitors on an average day.  \n",
        "\n",
        "To show the museum board how the event compared to regular traffic at each museum, create a line chart that shows how the number of visitors to each museum evolved over time.  Your figure should have four lines (one for each museum).\n",
        "\n",
        "> **(Optional) Note**: If you have some prior experience with plotting figures in Python, you might be familiar with the `plt.show()` command.  If you decide to use this command, please place it **after** the line of code that checks your answer (in this case, place it after `step_3.check()` below) -- otherwise, the checking code will return an error!"
      ],
      "metadata": {
        "id": "8VVCN8iZ7r4a"
      }
    },
    {
      "cell_type": "code",
      "source": [
        "# Line chart showing the number of visitors to each museum over time\n",
        "sns.lineplot(data=museum_data)# Your code here\n",
        "\n",
        "# Check your answer\n",
        "step_3.check()"
      ],
      "metadata": {
        "execution": {
          "iopub.status.busy": "2022-11-22T14:39:35.926541Z",
          "iopub.execute_input": "2022-11-22T14:39:35.926965Z",
          "iopub.status.idle": "2022-11-22T14:39:36.261453Z",
          "shell.execute_reply.started": "2022-11-22T14:39:35.92693Z",
          "shell.execute_reply": "2022-11-22T14:39:36.260005Z"
        },
        "trusted": true,
        "id": "rBXiZSlm7r4a"
      },
      "execution_count": null,
      "outputs": []
    },
    {
      "cell_type": "code",
      "source": [
        "# Lines below will give you a hint or solution code\n",
        "step_3.hint()\n",
        "#step_3.solution_plot()"
      ],
      "metadata": {
        "execution": {
          "iopub.status.busy": "2022-11-22T14:37:05.618091Z",
          "iopub.execute_input": "2022-11-22T14:37:05.618489Z",
          "iopub.status.idle": "2022-11-22T14:37:05.629428Z",
          "shell.execute_reply.started": "2022-11-22T14:37:05.618457Z",
          "shell.execute_reply": "2022-11-22T14:37:05.6279Z"
        },
        "trusted": true,
        "id": "fSF9vNlM7r4b"
      },
      "execution_count": null,
      "outputs": []
    },
    {
      "cell_type": "markdown",
      "source": [
        "## Step 4: Assess seasonality\n",
        "\n",
        "When meeting with the employees at Avila Adobe, you hear that one major pain point is that the number of museum visitors varies greatly with the seasons, with low seasons (when the employees are perfectly staffed and happy) and also high seasons (when the employees are understaffed and stressed).  You realize that if you can predict these high and low seasons, you can plan ahead to hire some additional seasonal employees to help out with the extra work.\n",
        "\n",
        "#### Part A\n",
        "Create a line chart that shows how the number of visitors to Avila Adobe has evolved over time.  (_If your code returns an error, the first thing that you should check is that you've spelled the name of the column correctly!  You must write the name of the column exactly as it appears in the dataset._)"
      ],
      "metadata": {
        "id": "3gcOPt_I7r4b"
      }
    },
    {
      "cell_type": "code",
      "source": [
        "# Line plot showing the number of visitors to Avila Adobe over time\n",
        "sns.lineplot(data=museum_data['Avila Adobe'], label=\"Avila Adobe\") # Your code here\n",
        "\n",
        "# Check your answer\n",
        "step_4.a.check()"
      ],
      "metadata": {
        "execution": {
          "iopub.status.busy": "2022-11-22T14:42:21.988553Z",
          "iopub.execute_input": "2022-11-22T14:42:21.989387Z",
          "iopub.status.idle": "2022-11-22T14:42:22.212912Z",
          "shell.execute_reply.started": "2022-11-22T14:42:21.989346Z",
          "shell.execute_reply": "2022-11-22T14:42:22.211254Z"
        },
        "trusted": true,
        "id": "rB45ygjH7r4c"
      },
      "execution_count": null,
      "outputs": []
    },
    {
      "cell_type": "code",
      "source": [
        "# Lines below will give you a hint or solution code\n",
        "#step_4.a.hint()\n",
        "#step_4.a.solution_plot()"
      ],
      "metadata": {
        "id": "4-NFlBKi7r4c"
      },
      "execution_count": null,
      "outputs": []
    },
    {
      "cell_type": "markdown",
      "source": [
        "#### Part B\n",
        "\n",
        "Does Avila Adobe get more visitors:\n",
        "- in September-February (in LA, the fall and winter months), or\n",
        "- in March-August (in LA, the spring and summer)?  \n",
        "\n",
        "Using this information, when should the museum staff additional seasonal employees?"
      ],
      "metadata": {
        "id": "20KiKHP07r4c"
      }
    },
    {
      "cell_type": "code",
      "source": [
        "step_4.b.hint()\n",
        "#March-August"
      ],
      "metadata": {
        "execution": {
          "iopub.status.busy": "2022-11-22T15:08:57.091213Z",
          "iopub.execute_input": "2022-11-22T15:08:57.091582Z",
          "iopub.status.idle": "2022-11-22T15:08:57.112752Z",
          "shell.execute_reply.started": "2022-11-22T15:08:57.091537Z",
          "shell.execute_reply": "2022-11-22T15:08:57.110811Z"
        },
        "trusted": true,
        "id": "vRPZq3oX7r4d"
      },
      "execution_count": null,
      "outputs": []
    },
    {
      "cell_type": "code",
      "source": [
        "# Check your answer (Run this code cell to receive credit!)\n",
        "step_4.b.solution()"
      ],
      "metadata": {
        "execution": {
          "iopub.status.busy": "2022-11-22T15:09:05.432796Z",
          "iopub.execute_input": "2022-11-22T15:09:05.433404Z",
          "iopub.status.idle": "2022-11-22T15:09:05.441661Z",
          "shell.execute_reply.started": "2022-11-22T15:09:05.43337Z",
          "shell.execute_reply": "2022-11-22T15:09:05.44022Z"
        },
        "trusted": true,
        "id": "yQm7kEm97r4d"
      },
      "execution_count": null,
      "outputs": []
    },
    {
      "cell_type": "markdown",
      "source": [
        "# Keep going\n",
        "\n",
        "Move on to learn about **[bar charts and heatmaps](https://www.kaggle.com/alexisbcook/bar-charts-and-heatmaps)** with a new dataset!"
      ],
      "metadata": {
        "id": "92b1_Ug97r4d"
      }
    },
    {
      "cell_type": "markdown",
      "source": [
        "---\n",
        "\n",
        "\n",
        "\n",
        "\n",
        "*Have questions or comments? Visit the [course discussion forum](https://www.kaggle.com/learn/data-visualization/discussion) to chat with other learners.*"
      ],
      "metadata": {
        "id": "HFsYKPZj7r4d"
      }
    }
  ]
}