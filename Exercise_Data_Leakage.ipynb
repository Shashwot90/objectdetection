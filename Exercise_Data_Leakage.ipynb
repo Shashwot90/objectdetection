{
  "metadata": {
    "kernelspec": {
      "display_name": "Python 3",
      "language": "python",
      "name": "python3"
    },
    "language_info": {
      "name": "python",
      "version": "3.10.13",
      "mimetype": "text/x-python",
      "codemirror_mode": {
        "name": "ipython",
        "version": 3
      },
      "pygments_lexer": "ipython3",
      "nbconvert_exporter": "python",
      "file_extension": ".py"
    },
    "kaggle": {
      "accelerator": "none",
      "dataSources": [
        {
          "sourceId": 10211,
          "databundleVersionId": 111096,
          "sourceType": "competition"
        }
      ],
      "isInternetEnabled": false,
      "language": "python",
      "sourceType": "notebook",
      "isGpuEnabled": false
    },
    "colab": {
      "name": "Exercise: Data Leakage",
      "provenance": [],
      "include_colab_link": true
    }
  },
  "nbformat_minor": 0,
  "nbformat": 4,
  "cells": [
    {
      "cell_type": "markdown",
      "metadata": {
        "id": "view-in-github",
        "colab_type": "text"
      },
      "source": [
        "<a href=\"https://colab.research.google.com/github/Shashwot90/objectdetection/blob/main/Exercise_Data_Leakage.ipynb\" target=\"_parent\"><img src=\"https://colab.research.google.com/assets/colab-badge.svg\" alt=\"Open In Colab\"/></a>"
      ]
    },
    {
      "source": [
        "\n",
        "# IMPORTANT: RUN THIS CELL IN ORDER TO IMPORT YOUR KAGGLE DATA SOURCES\n",
        "# TO THE CORRECT LOCATION (/kaggle/input) IN YOUR NOTEBOOK,\n",
        "# THEN FEEL FREE TO DELETE THIS CELL.\n",
        "# NOTE: THIS NOTEBOOK ENVIRONMENT DIFFERS FROM KAGGLE'S PYTHON\n",
        "# ENVIRONMENT SO THERE MAY BE MISSING LIBRARIES USED BY YOUR\n",
        "# NOTEBOOK.\n",
        "\n",
        "import os\n",
        "import sys\n",
        "from tempfile import NamedTemporaryFile\n",
        "from urllib.request import urlopen\n",
        "from urllib.parse import unquote, urlparse\n",
        "from urllib.error import HTTPError\n",
        "from zipfile import ZipFile\n",
        "import tarfile\n",
        "import shutil\n",
        "\n",
        "CHUNK_SIZE = 40960\n",
        "DATA_SOURCE_MAPPING = ':https%3A%2F%2Fstorage.googleapis.com%2Fkaggle-competitions-data%2Fkaggle-v2%2F10211%2F111096%2Fbundle%2Farchive.zip%3FX-Goog-Algorithm%3DGOOG4-RSA-SHA256%26X-Goog-Credential%3Dgcp-kaggle-com%2540kaggle-161607.iam.gserviceaccount.com%252F20240305%252Fauto%252Fstorage%252Fgoog4_request%26X-Goog-Date%3D20240305T111411Z%26X-Goog-Expires%3D259200%26X-Goog-SignedHeaders%3Dhost%26X-Goog-Signature%3Db2c5ea7ffeecb02c8c00eddd0b7ea22723f11cf4553ea1393244afdd853fbb9e920b899766df6b9e44fb74287e22f9c0b7cc8ff944f02703a183748925f9b6fc5c31b72fd094528f4aac81191b65a070a00107b2f89c3f993da8e0a1d1fd26604de61720e6dc1c2d64f9bd5ea69dc57343e964844e30a759547ca1ee9ff0cf20cd223e53bcf3c1ef9e700762e93fa0c5c5b3134c5fa4bdcb56feb85d3584bf0ab090b267d8d9ab20aa22fd04495161f64d7a0aaee84101444457a253d4d2dea44e2066bdd1373ac297d8d2faac9b247af05f59bdd2400fd39996e35c9ca71ec3a1c21c08cc8e689d4643fcc0019b4bd6fd5ed3debecddfe98b0a697a2d579942'\n",
        "\n",
        "KAGGLE_INPUT_PATH='/kaggle/input'\n",
        "KAGGLE_WORKING_PATH='/kaggle/working'\n",
        "KAGGLE_SYMLINK='kaggle'\n",
        "\n",
        "!umount /kaggle/input/ 2> /dev/null\n",
        "shutil.rmtree('/kaggle/input', ignore_errors=True)\n",
        "os.makedirs(KAGGLE_INPUT_PATH, 0o777, exist_ok=True)\n",
        "os.makedirs(KAGGLE_WORKING_PATH, 0o777, exist_ok=True)\n",
        "\n",
        "try:\n",
        "  os.symlink(KAGGLE_INPUT_PATH, os.path.join(\"..\", 'input'), target_is_directory=True)\n",
        "except FileExistsError:\n",
        "  pass\n",
        "try:\n",
        "  os.symlink(KAGGLE_WORKING_PATH, os.path.join(\"..\", 'working'), target_is_directory=True)\n",
        "except FileExistsError:\n",
        "  pass\n",
        "\n",
        "for data_source_mapping in DATA_SOURCE_MAPPING.split(','):\n",
        "    directory, download_url_encoded = data_source_mapping.split(':')\n",
        "    download_url = unquote(download_url_encoded)\n",
        "    filename = urlparse(download_url).path\n",
        "    destination_path = os.path.join(KAGGLE_INPUT_PATH, directory)\n",
        "    try:\n",
        "        with urlopen(download_url) as fileres, NamedTemporaryFile() as tfile:\n",
        "            total_length = fileres.headers['content-length']\n",
        "            print(f'Downloading {directory}, {total_length} bytes compressed')\n",
        "            dl = 0\n",
        "            data = fileres.read(CHUNK_SIZE)\n",
        "            while len(data) > 0:\n",
        "                dl += len(data)\n",
        "                tfile.write(data)\n",
        "                done = int(50 * dl / int(total_length))\n",
        "                sys.stdout.write(f\"\\r[{'=' * done}{' ' * (50-done)}] {dl} bytes downloaded\")\n",
        "                sys.stdout.flush()\n",
        "                data = fileres.read(CHUNK_SIZE)\n",
        "            if filename.endswith('.zip'):\n",
        "              with ZipFile(tfile) as zfile:\n",
        "                zfile.extractall(destination_path)\n",
        "            else:\n",
        "              with tarfile.open(tfile.name) as tarfile:\n",
        "                tarfile.extractall(destination_path)\n",
        "            print(f'\\nDownloaded and uncompressed: {directory}')\n",
        "    except HTTPError as e:\n",
        "        print(f'Failed to load (likely expired) {download_url} to path {destination_path}')\n",
        "        continue\n",
        "    except OSError as e:\n",
        "        print(f'Failed to load {download_url} to path {destination_path}')\n",
        "        continue\n",
        "\n",
        "print('Data source import complete.')\n"
      ],
      "metadata": {
        "id": "jik30fFaUkJA"
      },
      "cell_type": "code",
      "outputs": [],
      "execution_count": null
    },
    {
      "cell_type": "markdown",
      "source": [
        "**This notebook is an exercise in the [Intermediate Machine Learning](https://www.kaggle.com/learn/intermediate-machine-learning) course.  You can reference the tutorial at [this link](https://www.kaggle.com/alexisbcook/data-leakage).**\n",
        "\n",
        "---\n"
      ],
      "metadata": {
        "id": "ioUbqxRWUkJD"
      }
    },
    {
      "cell_type": "markdown",
      "source": [
        "Most people find target leakage very tricky until they've thought about it for a long time.\n",
        "\n",
        "So, before trying to think about leakage in the housing price example, we'll go through a few examples in other applications. Things will feel more familiar once you come back to a question about house prices.\n",
        "\n",
        "# Setup\n",
        "\n",
        "The questions below will give you feedback on your answers. Run the following cell to set up the feedback system."
      ],
      "metadata": {
        "id": "wLV9SpA9UkJE"
      }
    },
    {
      "cell_type": "code",
      "source": [
        "# Set up code checking\n",
        "from learntools.core import binder\n",
        "binder.bind(globals())\n",
        "from learntools.ml_intermediate.ex7 import *\n",
        "print(\"Setup Complete\")"
      ],
      "metadata": {
        "execution": {
          "iopub.status.busy": "2024-02-25T12:21:01.840048Z",
          "iopub.execute_input": "2024-02-25T12:21:01.840444Z",
          "iopub.status.idle": "2024-02-25T12:21:02.306806Z",
          "shell.execute_reply.started": "2024-02-25T12:21:01.840416Z",
          "shell.execute_reply": "2024-02-25T12:21:02.304358Z"
        },
        "trusted": true,
        "id": "YHCEe54BUkJE",
        "outputId": "6c06a1d5-eccb-4bfe-8590-f744609b500b"
      },
      "execution_count": null,
      "outputs": [
        {
          "name": "stdout",
          "text": "Setup Complete\n",
          "output_type": "stream"
        }
      ]
    },
    {
      "cell_type": "markdown",
      "source": [
        "# Step 1: The Data Science of Shoelaces\n",
        "\n",
        "Nike has hired you as a data science consultant to help them save money on shoe materials. Your first assignment is to review a model one of their employees built to predict how many shoelaces they'll need each month. The features going into the machine learning model include:\n",
        "- The current month (January, February, etc)\n",
        "- Advertising expenditures in the previous month\n",
        "- Various macroeconomic features (like the unemployment rate) as of the beginning of the current month\n",
        "- The amount of leather they ended up using in the current month\n",
        "\n",
        "The results show the model is almost perfectly accurate if you include the feature about how much leather they used. But it is only moderately accurate if you leave that feature out. You realize this is because the amount of leather they use is a perfect indicator of how many shoes they produce, which in turn tells you how many shoelaces they need.\n",
        "\n",
        "Do you think the _leather used_ feature constitutes a source of data leakage? If your answer is \"it depends,\" what does it depend on?\n",
        "\n",
        "After you have thought about your answer, check it against the solution below."
      ],
      "metadata": {
        "id": "g6QNl629UkJF"
      }
    },
    {
      "cell_type": "code",
      "source": [
        "# Check your answer (Run this code cell to receive credit!)\n",
        "q_1.check()"
      ],
      "metadata": {
        "execution": {
          "iopub.status.busy": "2024-02-25T12:21:02.309292Z",
          "iopub.execute_input": "2024-02-25T12:21:02.309901Z",
          "iopub.status.idle": "2024-02-25T12:21:02.325078Z",
          "shell.execute_reply.started": "2024-02-25T12:21:02.309859Z",
          "shell.execute_reply": "2024-02-25T12:21:02.323728Z"
        },
        "trusted": true,
        "id": "DVlNqfgdUkJF",
        "outputId": "371fd36b-5e9a-433f-e863-a5b7c3268d30"
      },
      "execution_count": null,
      "outputs": [
        {
          "output_type": "display_data",
          "data": {
            "text/plain": "<IPython.core.display.Javascript object>",
            "application/javascript": "parent.postMessage({\"jupyterEvent\": \"custom.exercise_interaction\", \"data\": {\"outcomeType\": 1, \"valueTowardsCompletion\": 0.2, \"interactionType\": 1, \"questionType\": 4, \"questionId\": \"1_DataScienceOfShoelaces\", \"learnToolsVersion\": \"0.3.4\", \"failureMessage\": \"\", \"exceptionClass\": \"\", \"trace\": \"\"}}, \"*\")"
          },
          "metadata": {}
        },
        {
          "output_type": "display_data",
          "data": {
            "text/plain": "Correct: \n\nThis is tricky, and it depends on details of how data is collected (which is common when thinking about leakage). Would you at the beginning of the month decide how much leather will be used that month? If so, this is ok. But if that is determined during the month, you would not have access to it when you make the prediction. If you have a guess at the beginning of the month, and it is subsequently changed during the month, the actual amount used during the month cannot be used as a feature (because it causes leakage).",
            "text/markdown": "<span style=\"color:#33cc33\">Correct:</span> \n\nThis is tricky, and it depends on details of how data is collected (which is common when thinking about leakage). Would you at the beginning of the month decide how much leather will be used that month? If so, this is ok. But if that is determined during the month, you would not have access to it when you make the prediction. If you have a guess at the beginning of the month, and it is subsequently changed during the month, the actual amount used during the month cannot be used as a feature (because it causes leakage)."
          },
          "metadata": {}
        }
      ]
    },
    {
      "cell_type": "markdown",
      "source": [
        "# Step 2: Return of the Shoelaces\n",
        "\n",
        "You have a new idea. You could use the amount of leather Nike ordered (rather than the amount they actually used) leading up to a given month as a predictor in your shoelace model.\n",
        "\n",
        "Does this change your answer about whether there is a leakage problem? If you answer \"it depends,\" what does it depend on?"
      ],
      "metadata": {
        "id": "FDUGdtYJUkJF"
      }
    },
    {
      "cell_type": "code",
      "source": [
        "# Check your answer (Run this code cell to receive credit!)\n",
        "q_2.check()"
      ],
      "metadata": {
        "execution": {
          "iopub.status.busy": "2024-02-25T12:21:02.328891Z",
          "iopub.execute_input": "2024-02-25T12:21:02.329236Z",
          "iopub.status.idle": "2024-02-25T12:21:02.339061Z",
          "shell.execute_reply.started": "2024-02-25T12:21:02.329209Z",
          "shell.execute_reply": "2024-02-25T12:21:02.338063Z"
        },
        "trusted": true,
        "id": "LTVF3SnvUkJF",
        "outputId": "058b8c00-50a1-4034-849d-7826a1343f34"
      },
      "execution_count": null,
      "outputs": [
        {
          "output_type": "display_data",
          "data": {
            "text/plain": "<IPython.core.display.Javascript object>",
            "application/javascript": "parent.postMessage({\"jupyterEvent\": \"custom.exercise_interaction\", \"data\": {\"outcomeType\": 1, \"valueTowardsCompletion\": 0.2, \"interactionType\": 1, \"questionType\": 4, \"questionId\": \"2_RevengeOfShoelaces\", \"learnToolsVersion\": \"0.3.4\", \"failureMessage\": \"\", \"exceptionClass\": \"\", \"trace\": \"\"}}, \"*\")"
          },
          "metadata": {}
        },
        {
          "output_type": "display_data",
          "data": {
            "text/plain": "Correct: \n\nThis could be fine, but it depends on whether they order shoelaces first or leather first. If they order shoelaces first, you won't know how much leather they've ordered when you predict their shoelace needs. If they order leather first, then you'll have that number available when you place your shoelace order, and you should be ok.",
            "text/markdown": "<span style=\"color:#33cc33\">Correct:</span> \n\nThis could be fine, but it depends on whether they order shoelaces first or leather first. If they order shoelaces first, you won't know how much leather they've ordered when you predict their shoelace needs. If they order leather first, then you'll have that number available when you place your shoelace order, and you should be ok."
          },
          "metadata": {}
        }
      ]
    },
    {
      "cell_type": "markdown",
      "source": [
        "# Step 3: Getting Rich With Cryptocurrencies?\n",
        "\n",
        "You saved Nike so much money that they gave you a bonus. Congratulations.\n",
        "\n",
        "Your friend, who is also a data scientist, says he has built a model that will let you turn your bonus into millions of dollars. Specifically, his model predicts the price of a new cryptocurrency (like Bitcoin, but a newer one) one day ahead of the moment of prediction. His plan is to purchase the cryptocurrency whenever the model says the price of the currency (in dollars) is about to go up.\n",
        "\n",
        "The most important features in his model are:\n",
        "- Current price of the currency\n",
        "- Amount of the currency sold in the last 24 hours\n",
        "- Change in the currency price in the last 24 hours\n",
        "- Change in the currency price in the last 1 hour\n",
        "- Number of new tweets in the last 24 hours that mention the currency\n",
        "\n",
        "The value of the cryptocurrency in dollars has fluctuated up and down by over $\\$$100 in the last year, and yet his model's average error is less than $\\$$1. He says this is proof his model is accurate, and you should invest with him, buying the currency whenever the model says it is about to go up.\n",
        "\n",
        "Is he right? If there is a problem with his model, what is it?"
      ],
      "metadata": {
        "id": "RXUz3Hl-UkJG"
      }
    },
    {
      "cell_type": "code",
      "source": [
        "# Check your answer (Run this code cell to receive credit!)\n",
        "q_3.check()"
      ],
      "metadata": {
        "execution": {
          "iopub.status.busy": "2024-02-25T12:21:02.340713Z",
          "iopub.execute_input": "2024-02-25T12:21:02.341046Z",
          "iopub.status.idle": "2024-02-25T12:21:02.350852Z",
          "shell.execute_reply.started": "2024-02-25T12:21:02.341018Z",
          "shell.execute_reply": "2024-02-25T12:21:02.349408Z"
        },
        "trusted": true,
        "id": "NuIMzp7DUkJG",
        "outputId": "118e0556-88c7-4b4e-fe21-c0c76f3acbb1"
      },
      "execution_count": null,
      "outputs": [
        {
          "output_type": "display_data",
          "data": {
            "text/plain": "<IPython.core.display.Javascript object>",
            "application/javascript": "parent.postMessage({\"jupyterEvent\": \"custom.exercise_interaction\", \"data\": {\"outcomeType\": 1, \"valueTowardsCompletion\": 0.2, \"interactionType\": 1, \"questionType\": 4, \"questionId\": \"3_CryptoWealthJK\", \"learnToolsVersion\": \"0.3.4\", \"failureMessage\": \"\", \"exceptionClass\": \"\", \"trace\": \"\"}}, \"*\")"
          },
          "metadata": {}
        },
        {
          "output_type": "display_data",
          "data": {
            "text/plain": "Correct: \n\nThere is no source of leakage here. These features should be available at the moment you want to make a predition, and they're unlikely to be changed in the training data after the prediction target is determined. But, the way he describes accuracy could be misleading if you aren't careful. If the price moves gradually, today's price will be an accurate predictor of tomorrow's price, but it may not tell you whether it's a good time to invest. For instance, if it is $100 today, a model predicting a price of $100 tomorrow may seem accurate, even if it can't tell you whether the price is going up or down from the current price. A better prediction target would be the change in price over the next day. If you can consistently predict whether the price is about to go up or down (and by how much), you may have a winning investment opportunity.",
            "text/markdown": "<span style=\"color:#33cc33\">Correct:</span> \n\nThere is no source of leakage here. These features should be available at the moment you want to make a predition, and they're unlikely to be changed in the training data after the prediction target is determined. But, the way he describes accuracy could be misleading if you aren't careful. If the price moves gradually, today's price will be an accurate predictor of tomorrow's price, but it may not tell you whether it's a good time to invest. For instance, if it is $100 today, a model predicting a price of $100 tomorrow may seem accurate, even if it can't tell you whether the price is going up or down from the current price. A better prediction target would be the change in price over the next day. If you can consistently predict whether the price is about to go up or down (and by how much), you may have a winning investment opportunity."
          },
          "metadata": {}
        }
      ]
    },
    {
      "cell_type": "markdown",
      "source": [
        "# Step 4: Preventing Infections\n",
        "\n",
        "An agency that provides healthcare wants to predict which patients from a rare surgery are at risk of infection, so it can alert the nurses to be especially careful when following up with those patients.\n",
        "\n",
        "You want to build a model. Each row in the modeling dataset will be a single patient who received the surgery, and the prediction target will be whether they got an infection.\n",
        "\n",
        "Some surgeons may do the procedure in a manner that raises or lowers the risk of infection. But how can you best incorporate the surgeon information into the model?\n",
        "\n",
        "You have a clever idea.\n",
        "1. Take all surgeries by each surgeon and calculate the infection rate among those surgeons.\n",
        "2. For each patient in the data, find out who the surgeon was and plug in that surgeon's average infection rate as a feature.\n",
        "\n",
        "Does this pose any target leakage issues?\n",
        "Does it pose any train-test contamination issues?"
      ],
      "metadata": {
        "id": "77zYPhdvUkJG"
      }
    },
    {
      "cell_type": "code",
      "source": [
        "# Check your answer (Run this code cell to receive credit!)\n",
        "q_4.check()"
      ],
      "metadata": {
        "execution": {
          "iopub.status.busy": "2024-02-25T12:21:02.353581Z",
          "iopub.execute_input": "2024-02-25T12:21:02.353902Z",
          "iopub.status.idle": "2024-02-25T12:21:02.363811Z",
          "shell.execute_reply.started": "2024-02-25T12:21:02.353875Z",
          "shell.execute_reply": "2024-02-25T12:21:02.362495Z"
        },
        "trusted": true,
        "id": "kBzJwIgeUkJG",
        "outputId": "7ec04425-0970-46bf-e02a-b467ee0c1ab5"
      },
      "execution_count": null,
      "outputs": [
        {
          "output_type": "display_data",
          "data": {
            "text/plain": "<IPython.core.display.Javascript object>",
            "application/javascript": "parent.postMessage({\"jupyterEvent\": \"custom.exercise_interaction\", \"data\": {\"outcomeType\": 1, \"valueTowardsCompletion\": 0.2, \"interactionType\": 1, \"questionType\": 4, \"questionId\": \"4_PreventingInfections\", \"learnToolsVersion\": \"0.3.4\", \"failureMessage\": \"\", \"exceptionClass\": \"\", \"trace\": \"\"}}, \"*\")"
          },
          "metadata": {}
        },
        {
          "output_type": "display_data",
          "data": {
            "text/plain": "Correct: \n\nThis poses a risk of both target leakage and train-test contamination (though you may be able to avoid both if you are careful).\n\nYou have target leakage if a given patient's outcome contributes to the infection rate for his surgeon, which is then plugged back into the prediction model for whether that patient becomes infected. You can avoid target leakage if you calculate the surgeon's infection rate by using only the surgeries before the patient we are predicting for. Calculating this for each surgery in your training data may be a little tricky.\n\nYou also have a train-test contamination problem if you calculate this using all surgeries a surgeon performed, including those from the test-set. The result would be that your model could look very accurate on the test set, even if it wouldn't generalize well to new patients after the model is deployed. This would happen because the surgeon-risk feature accounts for data in the test set. Test sets exist to estimate how the model will do when seeing new data. So this contamination defeats the purpose of the test set.",
            "text/markdown": "<span style=\"color:#33cc33\">Correct:</span> \n\nThis poses a risk of both target leakage and train-test contamination (though you may be able to avoid both if you are careful).\n\nYou have target leakage if a given patient's outcome contributes to the infection rate for his surgeon, which is then plugged back into the prediction model for whether that patient becomes infected. You can avoid target leakage if you calculate the surgeon's infection rate by using only the surgeries before the patient we are predicting for. Calculating this for each surgery in your training data may be a little tricky.\n\nYou also have a train-test contamination problem if you calculate this using all surgeries a surgeon performed, including those from the test-set. The result would be that your model could look very accurate on the test set, even if it wouldn't generalize well to new patients after the model is deployed. This would happen because the surgeon-risk feature accounts for data in the test set. Test sets exist to estimate how the model will do when seeing new data. So this contamination defeats the purpose of the test set."
          },
          "metadata": {}
        }
      ]
    },
    {
      "cell_type": "markdown",
      "source": [
        "# Step 5: Housing Prices\n",
        "\n",
        "You will build a model to predict housing prices.  The model will be deployed on an ongoing basis, to predict the price of a new house when a description is added to a website.  Here are four features that could be used as predictors.\n",
        "1. Size of the house (in square meters)\n",
        "2. Average sales price of homes in the same neighborhood\n",
        "3. Latitude and longitude of the house\n",
        "4. Whether the house has a basement\n",
        "\n",
        "You have historic data to train and validate the model.\n",
        "\n",
        "Which of the features is most likely to be a source of leakage?"
      ],
      "metadata": {
        "id": "t6mnAlpQUkJG"
      }
    },
    {
      "cell_type": "code",
      "source": [
        "# Fill in the line below with one of 1, 2, 3 or 4.\n",
        "potential_leakage_feature = 2\n",
        "\n",
        "# Check your answer\n",
        "q_5.check()"
      ],
      "metadata": {
        "execution": {
          "iopub.status.busy": "2024-02-25T12:25:39.243913Z",
          "iopub.execute_input": "2024-02-25T12:25:39.244406Z",
          "iopub.status.idle": "2024-02-25T12:25:39.258064Z",
          "shell.execute_reply.started": "2024-02-25T12:25:39.244367Z",
          "shell.execute_reply": "2024-02-25T12:25:39.256988Z"
        },
        "trusted": true,
        "id": "DTZ_FH4yUkJH",
        "outputId": "0f8f61cb-c208-45ec-cfeb-c6350aac72ee"
      },
      "execution_count": null,
      "outputs": [
        {
          "output_type": "display_data",
          "data": {
            "text/plain": "<IPython.core.display.Javascript object>",
            "application/javascript": "parent.postMessage({\"jupyterEvent\": \"custom.exercise_interaction\", \"data\": {\"outcomeType\": 1, \"valueTowardsCompletion\": 0.2, \"interactionType\": 1, \"questionType\": 2, \"questionId\": \"5_HomeAgainLeakage\", \"learnToolsVersion\": \"0.3.4\", \"failureMessage\": \"\", \"exceptionClass\": \"\", \"trace\": \"\"}}, \"*\")"
          },
          "metadata": {}
        },
        {
          "output_type": "display_data",
          "data": {
            "text/plain": "Correct: \n\n2 is the source of target leakage. Here is an analysis for each feature: \n\n1. The size of a house is unlikely to be changed after it is sold (though technically it's possible). But typically this will be available when we need to make a prediction, and the data won't be modified after the home is sold. So it is pretty safe. \n\n2. We don't know the rules for when this is updated. If the field is updated in the raw data after a home was sold, and the home's sale is used to calculate the average, this constitutes a case of target leakage. At an extreme, if only one home is sold in the neighborhood, and it is the home we are trying to predict, then the average will be exactly equal to the value we are trying to predict.  In general, for neighborhoods with few sales, the model will perform very well on the training data.  But when you apply the model, the home you are predicting won't have been sold yet, so this feature won't work the same as it did in the training data. \n\n3. These don't change, and will be available at the time we want to make a prediction. So there's no risk of target leakage here. \n\n4. This also doesn't change, and it is available at the time we want to make a prediction. So there's no risk of target leakage here.",
            "text/markdown": "<span style=\"color:#33cc33\">Correct:</span> \n\n2 is the source of target leakage. Here is an analysis for each feature: \n\n1. The size of a house is unlikely to be changed after it is sold (though technically it's possible). But typically this will be available when we need to make a prediction, and the data won't be modified after the home is sold. So it is pretty safe. \n\n2. We don't know the rules for when this is updated. If the field is updated in the raw data after a home was sold, and the home's sale is used to calculate the average, this constitutes a case of target leakage. At an extreme, if only one home is sold in the neighborhood, and it is the home we are trying to predict, then the average will be exactly equal to the value we are trying to predict.  In general, for neighborhoods with few sales, the model will perform very well on the training data.  But when you apply the model, the home you are predicting won't have been sold yet, so this feature won't work the same as it did in the training data. \n\n3. These don't change, and will be available at the time we want to make a prediction. So there's no risk of target leakage here. \n\n4. This also doesn't change, and it is available at the time we want to make a prediction. So there's no risk of target leakage here."
          },
          "metadata": {}
        }
      ]
    },
    {
      "cell_type": "code",
      "source": [
        "#q_5.hint()\n",
        "#q_5.solution()"
      ],
      "metadata": {
        "execution": {
          "iopub.status.busy": "2024-02-25T12:21:02.376896Z",
          "iopub.execute_input": "2024-02-25T12:21:02.377259Z",
          "iopub.status.idle": "2024-02-25T12:21:02.383446Z",
          "shell.execute_reply.started": "2024-02-25T12:21:02.377223Z",
          "shell.execute_reply": "2024-02-25T12:21:02.382562Z"
        },
        "trusted": true,
        "id": "XSaNzhWdUkJH"
      },
      "execution_count": null,
      "outputs": []
    },
    {
      "cell_type": "markdown",
      "source": [
        "# Conclusion\n",
        "Leakage is a hard and subtle issue. You should be proud if you picked up on the issues in these examples.\n",
        "\n",
        "Now you have the tools to make highly accurate models, and pick up on the most difficult practical problems that arise with applying these models to solve real problems.\n",
        "\n",
        "There is still a lot of room to build knowledge and experience. Try out a [Competition](https://www.kaggle.com/competitions) or look through our [Datasets](https://kaggle.com/datasets) to practice your new skills.\n",
        "\n",
        "Again, Congratulations!"
      ],
      "metadata": {
        "id": "xcv45Hq3UkJH"
      }
    },
    {
      "cell_type": "markdown",
      "source": [
        "---\n",
        "\n",
        "\n",
        "\n",
        "\n",
        "*Have questions or comments? Visit the [course discussion forum](https://www.kaggle.com/learn/intermediate-machine-learning/discussion) to chat with other learners.*"
      ],
      "metadata": {
        "id": "7xAzyoDKUkJH"
      }
    }
  ]
}