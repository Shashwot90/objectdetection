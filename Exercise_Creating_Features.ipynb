{
  "metadata": {
    "jupytext": {
      "cell_metadata_filter": "-all",
      "formats": "ipynb"
    },
    "kernelspec": {
      "display_name": "Python 3",
      "language": "python",
      "name": "python3"
    },
    "language_info": {
      "name": "python",
      "version": "3.10.13",
      "mimetype": "text/x-python",
      "codemirror_mode": {
        "name": "ipython",
        "version": 3
      },
      "pygments_lexer": "ipython3",
      "nbconvert_exporter": "python",
      "file_extension": ".py"
    },
    "kaggle": {
      "accelerator": "none",
      "dataSources": [
        {
          "sourceId": 1828856,
          "sourceType": "datasetVersion",
          "datasetId": 933090
        }
      ],
      "isInternetEnabled": false,
      "language": "python",
      "sourceType": "notebook",
      "isGpuEnabled": false
    },
    "colab": {
      "name": "Exercise: Creating Features",
      "provenance": [],
      "include_colab_link": true
    }
  },
  "nbformat_minor": 0,
  "nbformat": 4,
  "cells": [
    {
      "cell_type": "markdown",
      "metadata": {
        "id": "view-in-github",
        "colab_type": "text"
      },
      "source": [
        "<a href=\"https://colab.research.google.com/github/Shashwot90/objectdetection/blob/main/Exercise_Creating_Features.ipynb\" target=\"_parent\"><img src=\"https://colab.research.google.com/assets/colab-badge.svg\" alt=\"Open In Colab\"/></a>"
      ]
    },
    {
      "source": [
        "\n",
        "# IMPORTANT: RUN THIS CELL IN ORDER TO IMPORT YOUR KAGGLE DATA SOURCES\n",
        "# TO THE CORRECT LOCATION (/kaggle/input) IN YOUR NOTEBOOK,\n",
        "# THEN FEEL FREE TO DELETE THIS CELL.\n",
        "# NOTE: THIS NOTEBOOK ENVIRONMENT DIFFERS FROM KAGGLE'S PYTHON\n",
        "# ENVIRONMENT SO THERE MAY BE MISSING LIBRARIES USED BY YOUR\n",
        "# NOTEBOOK.\n",
        "\n",
        "import os\n",
        "import sys\n",
        "from tempfile import NamedTemporaryFile\n",
        "from urllib.request import urlopen\n",
        "from urllib.parse import unquote, urlparse\n",
        "from urllib.error import HTTPError\n",
        "from zipfile import ZipFile\n",
        "import tarfile\n",
        "import shutil\n",
        "\n",
        "CHUNK_SIZE = 40960\n",
        "DATA_SOURCE_MAPPING = 'fe-course-data:https%3A%2F%2Fstorage.googleapis.com%2Fkaggle-data-sets%2F933090%2F1828856%2Fbundle%2Farchive.zip%3FX-Goog-Algorithm%3DGOOG4-RSA-SHA256%26X-Goog-Credential%3Dgcp-kaggle-com%2540kaggle-161607.iam.gserviceaccount.com%252F20240311%252Fauto%252Fstorage%252Fgoog4_request%26X-Goog-Date%3D20240311T082621Z%26X-Goog-Expires%3D259200%26X-Goog-SignedHeaders%3Dhost%26X-Goog-Signature%3Da7965b416bdbe878a73ba18a14171a997574bae283bd6aee26ae710fff5689455fa356ce65aeecbc9d998faa2ab1af92aef6c3d3ccd6f86a12d7f31105c883edb2df864029bc3563d920874d30a055c587d496a2d4e4820b8e0d180f793b8c04529431b47e9194b814fe3fbe644fdbf92ad2f44c8e93aba543659ba73c436f9e70850c6c5a1546d5fdd96db3c0073d52d42cf6a2b95f8f83cf37b642af790af1f0d93609b57655d23d22cccf341051fb0c7a4810fbff4c02cee769c67331f545d43b354e00c36107485540197ff8917e52e09c8352308ca3442aa129c0611bc5e0b5d5cee033a7e182d253545f7d8e3b84f50eecf05c8089487cdeb71f35edcc'\n",
        "\n",
        "KAGGLE_INPUT_PATH='/kaggle/input'\n",
        "KAGGLE_WORKING_PATH='/kaggle/working'\n",
        "KAGGLE_SYMLINK='kaggle'\n",
        "\n",
        "!umount /kaggle/input/ 2> /dev/null\n",
        "shutil.rmtree('/kaggle/input', ignore_errors=True)\n",
        "os.makedirs(KAGGLE_INPUT_PATH, 0o777, exist_ok=True)\n",
        "os.makedirs(KAGGLE_WORKING_PATH, 0o777, exist_ok=True)\n",
        "\n",
        "try:\n",
        "  os.symlink(KAGGLE_INPUT_PATH, os.path.join(\"..\", 'input'), target_is_directory=True)\n",
        "except FileExistsError:\n",
        "  pass\n",
        "try:\n",
        "  os.symlink(KAGGLE_WORKING_PATH, os.path.join(\"..\", 'working'), target_is_directory=True)\n",
        "except FileExistsError:\n",
        "  pass\n",
        "\n",
        "for data_source_mapping in DATA_SOURCE_MAPPING.split(','):\n",
        "    directory, download_url_encoded = data_source_mapping.split(':')\n",
        "    download_url = unquote(download_url_encoded)\n",
        "    filename = urlparse(download_url).path\n",
        "    destination_path = os.path.join(KAGGLE_INPUT_PATH, directory)\n",
        "    try:\n",
        "        with urlopen(download_url) as fileres, NamedTemporaryFile() as tfile:\n",
        "            total_length = fileres.headers['content-length']\n",
        "            print(f'Downloading {directory}, {total_length} bytes compressed')\n",
        "            dl = 0\n",
        "            data = fileres.read(CHUNK_SIZE)\n",
        "            while len(data) > 0:\n",
        "                dl += len(data)\n",
        "                tfile.write(data)\n",
        "                done = int(50 * dl / int(total_length))\n",
        "                sys.stdout.write(f\"\\r[{'=' * done}{' ' * (50-done)}] {dl} bytes downloaded\")\n",
        "                sys.stdout.flush()\n",
        "                data = fileres.read(CHUNK_SIZE)\n",
        "            if filename.endswith('.zip'):\n",
        "              with ZipFile(tfile) as zfile:\n",
        "                zfile.extractall(destination_path)\n",
        "            else:\n",
        "              with tarfile.open(tfile.name) as tarfile:\n",
        "                tarfile.extractall(destination_path)\n",
        "            print(f'\\nDownloaded and uncompressed: {directory}')\n",
        "    except HTTPError as e:\n",
        "        print(f'Failed to load (likely expired) {download_url} to path {destination_path}')\n",
        "        continue\n",
        "    except OSError as e:\n",
        "        print(f'Failed to load {download_url} to path {destination_path}')\n",
        "        continue\n",
        "\n",
        "print('Data source import complete.')\n"
      ],
      "metadata": {
        "id": "5mwuvrlGnsc8"
      },
      "cell_type": "code",
      "outputs": [],
      "execution_count": null
    },
    {
      "cell_type": "markdown",
      "source": [
        "**This notebook is an exercise in the [Feature Engineering](https://www.kaggle.com/learn/feature-engineering) course.  You can reference the tutorial at [this link](https://www.kaggle.com/ryanholbrook/creating-features).**\n",
        "\n",
        "---\n"
      ],
      "metadata": {
        "id": "uAyQJO3ansdE"
      }
    },
    {
      "cell_type": "markdown",
      "source": [
        "# Introduction #\n",
        "\n",
        "In this exercise you'll start developing the features you identified in Exercise 2 as having the most potential. As you work through this exercise, you might take a moment to look at the data documentation again and consider whether the features we're creating make sense from a real-world perspective, and whether there are any useful combinations that stand out to you.\n",
        "\n",
        "Run this cell to set everything up!"
      ],
      "metadata": {
        "id": "GrPHVoLhnsdH"
      }
    },
    {
      "cell_type": "code",
      "source": [
        "# Setup feedback system\n",
        "from learntools.core import binder\n",
        "binder.bind(globals())\n",
        "from learntools.feature_engineering_new.ex3 import *\n",
        "\n",
        "import numpy as np\n",
        "import pandas as pd\n",
        "from sklearn.model_selection import cross_val_score\n",
        "from xgboost import XGBRegressor\n",
        "\n",
        "\n",
        "def score_dataset(X, y, model=XGBRegressor()):\n",
        "    # Label encoding for categoricals\n",
        "    for colname in X.select_dtypes([\"category\", \"object\"]):\n",
        "        X[colname], _ = X[colname].factorize()\n",
        "    # Metric for Housing competition is RMSLE (Root Mean Squared Log Error)\n",
        "    score = cross_val_score(\n",
        "        model, X, y, cv=5, scoring=\"neg_mean_squared_log_error\",\n",
        "    )\n",
        "    score = -1 * score.mean()\n",
        "    score = np.sqrt(score)\n",
        "    return score\n",
        "\n",
        "\n",
        "# Prepare data\n",
        "df = pd.read_csv(\"../input/fe-course-data/ames.csv\")\n",
        "X = df.copy()\n",
        "y = X.pop(\"SalePrice\")"
      ],
      "metadata": {
        "execution": {
          "iopub.status.busy": "2024-03-10T06:43:27.517635Z",
          "iopub.execute_input": "2024-03-10T06:43:27.518134Z",
          "iopub.status.idle": "2024-03-10T06:43:27.603309Z",
          "shell.execute_reply.started": "2024-03-10T06:43:27.518095Z",
          "shell.execute_reply": "2024-03-10T06:43:27.602174Z"
        },
        "trusted": true,
        "id": "NHqBp-JBnsdI"
      },
      "execution_count": null,
      "outputs": []
    },
    {
      "cell_type": "markdown",
      "source": [
        "-------------------------------------------------------------------------------\n",
        "\n",
        "Let's start with a few mathematical combinations. We'll focus on features describing areas -- having the same units (square-feet) makes it easy to combine them in sensible ways. Since we're using XGBoost (a tree-based model), we'll focus on ratios and sums.\n",
        "\n",
        "# 1) Create Mathematical Transforms\n",
        "\n",
        "Create the following features:\n",
        "\n",
        "- `LivLotRatio`: the ratio of `GrLivArea` to `LotArea`\n",
        "- `Spaciousness`: the sum of `FirstFlrSF` and `SecondFlrSF` divided by `TotRmsAbvGrd`\n",
        "- `TotalOutsideSF`: the sum of `WoodDeckSF`, `OpenPorchSF`, `EnclosedPorch`, `Threeseasonporch`, and `ScreenPorch`"
      ],
      "metadata": {
        "id": "IObYRsBmnsdJ"
      }
    },
    {
      "cell_type": "code",
      "source": [
        "# YOUR CODE HERE\n",
        "X_1 = pd.DataFrame()  # dataframe to hold new features\n",
        "\n",
        "X_1[\"LivLotRatio\"] = df.GrLivArea / df.LotArea\n",
        "X_1[\"Spaciousness\"] = (df.FirstFlrSF + df.SecondFlrSF) / df.TotRmsAbvGrd\n",
        "X_1[\"TotalOutsideSF\"] = df.WoodDeckSF + df.OpenPorchSF+ df.EnclosedPorch+ df.Threeseasonporch+df.ScreenPorch\n",
        "\n",
        "\n",
        "# Check your answer\n",
        "q_1.check()"
      ],
      "metadata": {
        "lines_to_next_cell": 0,
        "execution": {
          "iopub.status.busy": "2024-03-10T06:45:25.633343Z",
          "iopub.execute_input": "2024-03-10T06:45:25.633849Z",
          "iopub.status.idle": "2024-03-10T06:45:25.657909Z",
          "shell.execute_reply.started": "2024-03-10T06:45:25.633815Z",
          "shell.execute_reply": "2024-03-10T06:45:25.656639Z"
        },
        "trusted": true,
        "id": "zKiQhc9cnsdK",
        "outputId": "34115222-a433-4c72-8d16-a6505eaecb8e"
      },
      "execution_count": null,
      "outputs": [
        {
          "output_type": "display_data",
          "data": {
            "text/plain": "<IPython.core.display.Javascript object>",
            "application/javascript": "parent.postMessage({\"jupyterEvent\": \"custom.exercise_interaction\", \"data\": {\"outcomeType\": 1, \"valueTowardsCompletion\": 0.2, \"interactionType\": 1, \"questionType\": 2, \"questionId\": \"1_Q1\", \"learnToolsVersion\": \"0.3.4\", \"failureMessage\": \"\", \"exceptionClass\": \"\", \"trace\": \"\"}}, \"*\")"
          },
          "metadata": {}
        },
        {
          "output_type": "display_data",
          "data": {
            "text/plain": "Correct",
            "text/markdown": "<span style=\"color:#33cc33\">Correct</span>"
          },
          "metadata": {}
        }
      ]
    },
    {
      "cell_type": "code",
      "source": [
        "# Lines below will give you a hint or solution code\n",
        "#q_1.hint()\n",
        "q_1.solution()"
      ],
      "metadata": {
        "lines_to_next_cell": 0,
        "execution": {
          "iopub.status.busy": "2024-03-10T06:44:59.491267Z",
          "iopub.execute_input": "2024-03-10T06:44:59.491785Z",
          "iopub.status.idle": "2024-03-10T06:44:59.503956Z",
          "shell.execute_reply.started": "2024-03-10T06:44:59.491711Z",
          "shell.execute_reply": "2024-03-10T06:44:59.50261Z"
        },
        "trusted": true,
        "id": "I8kt65OvnsdN",
        "outputId": "e142c9b4-a671-4c70-d75a-521de969a23e"
      },
      "execution_count": null,
      "outputs": [
        {
          "output_type": "display_data",
          "data": {
            "text/plain": "<IPython.core.display.Javascript object>",
            "application/javascript": "parent.postMessage({\"jupyterEvent\": \"custom.exercise_interaction\", \"data\": {\"interactionType\": 3, \"questionType\": 2, \"questionId\": \"1_Q1\", \"learnToolsVersion\": \"0.3.4\", \"valueTowardsCompletion\": 0.0, \"failureMessage\": \"\", \"exceptionClass\": \"\", \"trace\": \"\", \"outcomeType\": 4}}, \"*\")"
          },
          "metadata": {}
        },
        {
          "output_type": "display_data",
          "data": {
            "text/plain": "Solution: \n```python\n\nX_1[\"LivLotRatio\"] = df.GrLivArea / df.LotArea\nX_1[\"Spaciousness\"] = (df.FirstFlrSF + df.SecondFlrSF) / df.TotRmsAbvGrd\nX_1[\"TotalOutsideSF\"] = df.WoodDeckSF + df.OpenPorchSF + df.EnclosedPorch + df.Threeseasonporch + df.ScreenPorch\n\n```",
            "text/markdown": "<span style=\"color:#33cc99\">Solution:</span> \n```python\n\nX_1[\"LivLotRatio\"] = df.GrLivArea / df.LotArea\nX_1[\"Spaciousness\"] = (df.FirstFlrSF + df.SecondFlrSF) / df.TotRmsAbvGrd\nX_1[\"TotalOutsideSF\"] = df.WoodDeckSF + df.OpenPorchSF + df.EnclosedPorch + df.Threeseasonporch + df.ScreenPorch\n\n```"
          },
          "metadata": {}
        }
      ]
    },
    {
      "cell_type": "markdown",
      "source": [
        "-------------------------------------------------------------------------------\n",
        "\n",
        "If you've discovered an interaction effect between a numeric feature and a categorical feature, you might want to model it explicitly using a one-hot encoding, like so:\n",
        "\n",
        "```\n",
        "# One-hot encode Categorical feature, adding a column prefix \"Cat\"\n",
        "X_new = pd.get_dummies(df.Categorical, prefix=\"Cat\")\n",
        "\n",
        "# Multiply row-by-row\n",
        "X_new = X_new.mul(df.Continuous, axis=0)\n",
        "\n",
        "# Join the new features to the feature set\n",
        "X = X.join(X_new)\n",
        "```\n",
        "\n",
        "# 2) Interaction with a Categorical\n",
        "\n",
        "We discovered an interaction between `BldgType` and `GrLivArea` in Exercise 2. Now create their interaction features."
      ],
      "metadata": {
        "id": "gfPN05u8nsdQ"
      }
    },
    {
      "cell_type": "code",
      "source": [
        "# YOUR CODE HERE\n",
        "# One-hot encode BldgType. Use `prefix=\"Bldg\"` in `get_dummies`\n",
        "X_2 =  pd.get_dummies(df.BldgType, prefix=\"Bldg\")\n",
        "# Multiply\n",
        "X_2 = X_2.mul(df.GrLivArea, axis=0)\n",
        "\n",
        "\n",
        "# Check your answer\n",
        "q_2.check()"
      ],
      "metadata": {
        "lines_to_next_cell": 0,
        "execution": {
          "iopub.status.busy": "2024-03-10T06:51:45.37832Z",
          "iopub.execute_input": "2024-03-10T06:51:45.378844Z",
          "iopub.status.idle": "2024-03-10T06:51:45.4015Z",
          "shell.execute_reply.started": "2024-03-10T06:51:45.3788Z",
          "shell.execute_reply": "2024-03-10T06:51:45.399948Z"
        },
        "trusted": true,
        "id": "zbcR3uYHnsdR",
        "outputId": "239fe7a4-f488-4bf1-c209-3ff852c31418"
      },
      "execution_count": null,
      "outputs": [
        {
          "output_type": "display_data",
          "data": {
            "text/plain": "<IPython.core.display.Javascript object>",
            "application/javascript": "parent.postMessage({\"jupyterEvent\": \"custom.exercise_interaction\", \"data\": {\"outcomeType\": 1, \"valueTowardsCompletion\": 0.2, \"interactionType\": 1, \"questionType\": 2, \"questionId\": \"2_Q2\", \"learnToolsVersion\": \"0.3.4\", \"failureMessage\": \"\", \"exceptionClass\": \"\", \"trace\": \"\"}}, \"*\")"
          },
          "metadata": {}
        },
        {
          "output_type": "display_data",
          "data": {
            "text/plain": "Correct",
            "text/markdown": "<span style=\"color:#33cc33\">Correct</span>"
          },
          "metadata": {}
        }
      ]
    },
    {
      "cell_type": "code",
      "source": [
        "# Lines below will give you a hint or solution code\n",
        "#q_2.hint()\n",
        "q_2.solution()"
      ],
      "metadata": {
        "lines_to_next_cell": 0,
        "execution": {
          "iopub.status.busy": "2024-03-10T06:50:42.389864Z",
          "iopub.execute_input": "2024-03-10T06:50:42.390401Z",
          "iopub.status.idle": "2024-03-10T06:50:42.402843Z",
          "shell.execute_reply.started": "2024-03-10T06:50:42.390363Z",
          "shell.execute_reply": "2024-03-10T06:50:42.401341Z"
        },
        "trusted": true,
        "id": "am65AQbunsdS",
        "outputId": "98ef1cb7-d479-4398-d32c-7da5611a62fa"
      },
      "execution_count": null,
      "outputs": [
        {
          "output_type": "display_data",
          "data": {
            "text/plain": "<IPython.core.display.Javascript object>",
            "application/javascript": "parent.postMessage({\"jupyterEvent\": \"custom.exercise_interaction\", \"data\": {\"interactionType\": 3, \"questionType\": 2, \"questionId\": \"2_Q2\", \"learnToolsVersion\": \"0.3.4\", \"valueTowardsCompletion\": 0.0, \"failureMessage\": \"\", \"exceptionClass\": \"\", \"trace\": \"\", \"outcomeType\": 4}}, \"*\")"
          },
          "metadata": {}
        },
        {
          "output_type": "display_data",
          "data": {
            "text/plain": "Solution: \n```python\n\nX_2 = pd.get_dummies(df.BldgType, prefix=\"Bldg\")\nX_2 = X_2.mul(df.GrLivArea, axis=0)\n\n```",
            "text/markdown": "<span style=\"color:#33cc99\">Solution:</span> \n```python\n\nX_2 = pd.get_dummies(df.BldgType, prefix=\"Bldg\")\nX_2 = X_2.mul(df.GrLivArea, axis=0)\n\n```"
          },
          "metadata": {}
        }
      ]
    },
    {
      "cell_type": "markdown",
      "source": [
        "# 3) Count Feature\n",
        "\n",
        "Let's try creating a feature that describes how many kinds of outdoor areas a dwelling has. Create a feature `PorchTypes` that counts how many of the following are greater than 0.0:\n",
        "\n",
        "```\n",
        "WoodDeckSF\n",
        "OpenPorchSF\n",
        "EnclosedPorch\n",
        "Threeseasonporch\n",
        "ScreenPorch\n",
        "```"
      ],
      "metadata": {
        "lines_to_next_cell": 0,
        "id": "aOjq6L_cnsdT"
      }
    },
    {
      "cell_type": "code",
      "source": [
        "X_3 = pd.DataFrame()\n",
        "\n",
        "# YOUR CODE HERE\n",
        "X_3[\"PorchTypes\"] =  df[[ \"WoodDeckSF\",\n",
        "\"OpenPorchSF\",\n",
        "\"EnclosedPorch\",\n",
        "\"Threeseasonporch\",\n",
        "\"ScreenPorch\"]].gt(0.0).sum(axis=1)\n",
        "\n",
        "# Check your answer\n",
        "q_3.check()"
      ],
      "metadata": {
        "lines_to_next_cell": 0,
        "execution": {
          "iopub.status.busy": "2024-03-10T07:00:19.272874Z",
          "iopub.execute_input": "2024-03-10T07:00:19.273404Z",
          "iopub.status.idle": "2024-03-10T07:00:19.296855Z",
          "shell.execute_reply.started": "2024-03-10T07:00:19.273365Z",
          "shell.execute_reply": "2024-03-10T07:00:19.295635Z"
        },
        "trusted": true,
        "id": "uyrmD62qnsdU",
        "outputId": "76435af8-ef41-4c0c-ba56-b9594c8afec3"
      },
      "execution_count": null,
      "outputs": [
        {
          "output_type": "display_data",
          "data": {
            "text/plain": "<IPython.core.display.Javascript object>",
            "application/javascript": "parent.postMessage({\"jupyterEvent\": \"custom.exercise_interaction\", \"data\": {\"outcomeType\": 1, \"valueTowardsCompletion\": 0.2, \"interactionType\": 1, \"questionType\": 2, \"questionId\": \"3_Q3\", \"learnToolsVersion\": \"0.3.4\", \"failureMessage\": \"\", \"exceptionClass\": \"\", \"trace\": \"\"}}, \"*\")"
          },
          "metadata": {}
        },
        {
          "output_type": "display_data",
          "data": {
            "text/plain": "Correct",
            "text/markdown": "<span style=\"color:#33cc33\">Correct</span>"
          },
          "metadata": {}
        }
      ]
    },
    {
      "cell_type": "code",
      "source": [
        "# Lines below will give you a hint or solution code\n",
        "q_3.hint()\n",
        "#q_3.solution()"
      ],
      "metadata": {
        "lines_to_next_cell": 0,
        "execution": {
          "iopub.status.busy": "2024-03-10T06:59:14.837083Z",
          "iopub.execute_input": "2024-03-10T06:59:14.837615Z",
          "iopub.status.idle": "2024-03-10T06:59:14.849961Z",
          "shell.execute_reply.started": "2024-03-10T06:59:14.837573Z",
          "shell.execute_reply": "2024-03-10T06:59:14.84854Z"
        },
        "trusted": true,
        "id": "1ml39kOCnsdV",
        "outputId": "19b808c0-c362-4f98-8d3d-74ebbd97db45"
      },
      "execution_count": null,
      "outputs": [
        {
          "output_type": "display_data",
          "data": {
            "text/plain": "<IPython.core.display.Javascript object>",
            "application/javascript": "parent.postMessage({\"jupyterEvent\": \"custom.exercise_interaction\", \"data\": {\"interactionType\": 2, \"questionType\": 2, \"questionId\": \"3_Q3\", \"learnToolsVersion\": \"0.3.4\", \"valueTowardsCompletion\": 0.0, \"failureMessage\": \"\", \"exceptionClass\": \"\", \"trace\": \"\", \"outcomeType\": 4}}, \"*\")"
          },
          "metadata": {}
        },
        {
          "output_type": "display_data",
          "data": {
            "text/plain": "Hint: Your code should look someting like:\n```python\nX_3 = pd.DataFrame()\n\nX_3[\"PorchTypes\"] = df[[\n    ____,\n    ____,\n    ____,\n    ____,\n    ____,\n]].____.sum(axis=1)\n```",
            "text/markdown": "<span style=\"color:#3366cc\">Hint:</span> Your code should look someting like:\n```python\nX_3 = pd.DataFrame()\n\nX_3[\"PorchTypes\"] = df[[\n    ____,\n    ____,\n    ____,\n    ____,\n    ____,\n]].____.sum(axis=1)\n```\n"
          },
          "metadata": {}
        }
      ]
    },
    {
      "cell_type": "markdown",
      "source": [
        "# 4) Break Down a Categorical Feature\n",
        "\n",
        "`MSSubClass` describes the type of a dwelling:"
      ],
      "metadata": {
        "id": "_eyc1MqqnsdW"
      }
    },
    {
      "cell_type": "code",
      "source": [
        "df.MSSubClass.unique()"
      ],
      "metadata": {
        "execution": {
          "iopub.status.busy": "2024-03-10T07:00:26.527356Z",
          "iopub.execute_input": "2024-03-10T07:00:26.528742Z",
          "iopub.status.idle": "2024-03-10T07:00:26.538958Z",
          "shell.execute_reply.started": "2024-03-10T07:00:26.528633Z",
          "shell.execute_reply": "2024-03-10T07:00:26.537285Z"
        },
        "trusted": true,
        "id": "uSH2vy2FnsdX",
        "outputId": "ef4ea2b5-5928-4f5d-d275-ecf5d5691341"
      },
      "execution_count": null,
      "outputs": [
        {
          "execution_count": 15,
          "output_type": "execute_result",
          "data": {
            "text/plain": "array(['One_Story_1946_and_Newer_All_Styles', 'Two_Story_1946_and_Newer',\n       'One_Story_PUD_1946_and_Newer',\n       'One_and_Half_Story_Finished_All_Ages', 'Split_Foyer',\n       'Two_Story_PUD_1946_and_Newer', 'Split_or_Multilevel',\n       'One_Story_1945_and_Older', 'Duplex_All_Styles_and_Ages',\n       'Two_Family_conversion_All_Styles_and_Ages',\n       'One_and_Half_Story_Unfinished_All_Ages',\n       'Two_Story_1945_and_Older', 'Two_and_Half_Story_All_Ages',\n       'One_Story_with_Finished_Attic_All_Ages',\n       'PUD_Multilevel_Split_Level_Foyer',\n       'One_and_Half_Story_PUD_All_Ages'], dtype=object)"
          },
          "metadata": {}
        }
      ]
    },
    {
      "cell_type": "markdown",
      "source": [
        "You can see that there is a more general categorization described (roughly) by the first word of each category. Create a feature containing only these first words by splitting `MSSubClass` at the first underscore `_`. (Hint: In the `split` method use an argument `n=1`.)"
      ],
      "metadata": {
        "id": "prH7myfznsda"
      }
    },
    {
      "cell_type": "code",
      "source": [
        "X_4 = pd.DataFrame()\n",
        "\n",
        "# YOUR CODE HERE\n",
        "X_4[\"MSClass\"] = df.MSSubClass.str.split(\"_\", n=1, expand=True)[0]\n",
        "\n",
        "# Check your answer\n",
        "q_4.check()"
      ],
      "metadata": {
        "lines_to_next_cell": 0,
        "execution": {
          "iopub.status.busy": "2024-03-10T07:03:54.4713Z",
          "iopub.execute_input": "2024-03-10T07:03:54.471755Z",
          "iopub.status.idle": "2024-03-10T07:03:54.503156Z",
          "shell.execute_reply.started": "2024-03-10T07:03:54.47172Z",
          "shell.execute_reply": "2024-03-10T07:03:54.501748Z"
        },
        "trusted": true,
        "id": "99mH8c7nnsda",
        "outputId": "b3362e33-e076-4f37-d58a-decf5eee03bc"
      },
      "execution_count": null,
      "outputs": [
        {
          "output_type": "display_data",
          "data": {
            "text/plain": "<IPython.core.display.Javascript object>",
            "application/javascript": "parent.postMessage({\"jupyterEvent\": \"custom.exercise_interaction\", \"data\": {\"outcomeType\": 1, \"valueTowardsCompletion\": 0.2, \"interactionType\": 1, \"questionType\": 2, \"questionId\": \"4_Q4\", \"learnToolsVersion\": \"0.3.4\", \"failureMessage\": \"\", \"exceptionClass\": \"\", \"trace\": \"\"}}, \"*\")"
          },
          "metadata": {}
        },
        {
          "output_type": "display_data",
          "data": {
            "text/plain": "Correct",
            "text/markdown": "<span style=\"color:#33cc33\">Correct</span>"
          },
          "metadata": {}
        }
      ]
    },
    {
      "cell_type": "code",
      "source": [
        "# Lines below will give you a hint or solution code\n",
        "q_4.hint()\n",
        "q_4.solution()"
      ],
      "metadata": {
        "lines_to_next_cell": 0,
        "execution": {
          "iopub.status.busy": "2024-03-10T07:02:56.829664Z",
          "iopub.execute_input": "2024-03-10T07:02:56.830473Z",
          "iopub.status.idle": "2024-03-10T07:02:56.844711Z",
          "shell.execute_reply.started": "2024-03-10T07:02:56.830432Z",
          "shell.execute_reply": "2024-03-10T07:02:56.843336Z"
        },
        "trusted": true,
        "id": "OcgE65i5nsdb",
        "outputId": "dd4b4a5e-9302-416c-9394-d2ca9cc540e9"
      },
      "execution_count": null,
      "outputs": [
        {
          "output_type": "display_data",
          "data": {
            "text/plain": "<IPython.core.display.Javascript object>",
            "application/javascript": "parent.postMessage({\"jupyterEvent\": \"custom.exercise_interaction\", \"data\": {\"interactionType\": 2, \"questionType\": 2, \"questionId\": \"4_Q4\", \"learnToolsVersion\": \"0.3.4\", \"valueTowardsCompletion\": 0.0, \"failureMessage\": \"\", \"exceptionClass\": \"\", \"trace\": \"\", \"outcomeType\": 4}}, \"*\")"
          },
          "metadata": {}
        },
        {
          "output_type": "display_data",
          "data": {
            "text/plain": "Hint: Your code should look something like:\n```python\nX_4 = pd.DataFrame()\n\nX_4[\"MSClass\"] = df.____.str.____(____, n=1, expand=True)[____]\n```",
            "text/markdown": "<span style=\"color:#3366cc\">Hint:</span> Your code should look something like:\n```python\nX_4 = pd.DataFrame()\n\nX_4[\"MSClass\"] = df.____.str.____(____, n=1, expand=True)[____]\n```\n"
          },
          "metadata": {}
        },
        {
          "output_type": "display_data",
          "data": {
            "text/plain": "<IPython.core.display.Javascript object>",
            "application/javascript": "parent.postMessage({\"jupyterEvent\": \"custom.exercise_interaction\", \"data\": {\"interactionType\": 3, \"questionType\": 2, \"questionId\": \"4_Q4\", \"learnToolsVersion\": \"0.3.4\", \"valueTowardsCompletion\": 0.0, \"failureMessage\": \"\", \"exceptionClass\": \"\", \"trace\": \"\", \"outcomeType\": 4}}, \"*\")"
          },
          "metadata": {}
        },
        {
          "output_type": "display_data",
          "data": {
            "text/plain": "Solution: \n```python\n\nX_4 = pd.DataFrame()\n\nX_4[\"MSClass\"] = df.MSSubClass.str.split(\"_\", n=1, expand=True)[0]\n\n```",
            "text/markdown": "<span style=\"color:#33cc99\">Solution:</span> \n```python\n\nX_4 = pd.DataFrame()\n\nX_4[\"MSClass\"] = df.MSSubClass.str.split(\"_\", n=1, expand=True)[0]\n\n```"
          },
          "metadata": {}
        }
      ]
    },
    {
      "cell_type": "markdown",
      "source": [
        "# 5) Use a Grouped Transform\n",
        "\n",
        "The value of a home often depends on how it compares to typical homes in its neighborhood. Create a feature `MedNhbdArea` that describes the *median* of `GrLivArea` grouped on `Neighborhood`."
      ],
      "metadata": {
        "id": "Z7D8ASAfnsdd"
      }
    },
    {
      "cell_type": "code",
      "source": [
        "X_5 = pd.DataFrame()\n",
        "\n",
        "# YOUR CODE HERE\n",
        "X_5[\"MedNhbdArea\"] = df.groupby(\"Neighborhood\")[\"GrLivArea\"].transform(\"median\")\n",
        "\n",
        "# Check your answer\n",
        "q_5.check()"
      ],
      "metadata": {
        "lines_to_next_cell": 0,
        "execution": {
          "iopub.status.busy": "2024-03-10T07:10:33.574211Z",
          "iopub.execute_input": "2024-03-10T07:10:33.574729Z",
          "iopub.status.idle": "2024-03-10T07:10:33.59915Z",
          "shell.execute_reply.started": "2024-03-10T07:10:33.574691Z",
          "shell.execute_reply": "2024-03-10T07:10:33.597765Z"
        },
        "trusted": true,
        "id": "7-42_SwCnsdd",
        "outputId": "539eceb6-c5d2-4fb4-a557-de78da8b4f9f"
      },
      "execution_count": null,
      "outputs": [
        {
          "output_type": "display_data",
          "data": {
            "text/plain": "<IPython.core.display.Javascript object>",
            "application/javascript": "parent.postMessage({\"jupyterEvent\": \"custom.exercise_interaction\", \"data\": {\"outcomeType\": 1, \"valueTowardsCompletion\": 0.2, \"interactionType\": 1, \"questionType\": 2, \"questionId\": \"5_Q5\", \"learnToolsVersion\": \"0.3.4\", \"failureMessage\": \"\", \"exceptionClass\": \"\", \"trace\": \"\"}}, \"*\")"
          },
          "metadata": {}
        },
        {
          "output_type": "display_data",
          "data": {
            "text/plain": "Correct",
            "text/markdown": "<span style=\"color:#33cc33\">Correct</span>"
          },
          "metadata": {}
        }
      ]
    },
    {
      "cell_type": "code",
      "source": [
        "# Lines below will give you a hint or solution code\n",
        "q_5.hint()\n",
        "#q_5.solution()"
      ],
      "metadata": {
        "lines_to_next_cell": 0,
        "execution": {
          "iopub.status.busy": "2024-03-10T07:10:16.330567Z",
          "iopub.execute_input": "2024-03-10T07:10:16.331097Z",
          "iopub.status.idle": "2024-03-10T07:10:16.342691Z",
          "shell.execute_reply.started": "2024-03-10T07:10:16.331057Z",
          "shell.execute_reply": "2024-03-10T07:10:16.341241Z"
        },
        "trusted": true,
        "id": "_e2oyzK-nsde",
        "outputId": "b4d03464-1a76-434a-bf4f-ef2661688d51"
      },
      "execution_count": null,
      "outputs": [
        {
          "output_type": "display_data",
          "data": {
            "text/plain": "<IPython.core.display.Javascript object>",
            "application/javascript": "parent.postMessage({\"jupyterEvent\": \"custom.exercise_interaction\", \"data\": {\"interactionType\": 2, \"questionType\": 2, \"questionId\": \"5_Q5\", \"learnToolsVersion\": \"0.3.4\", \"valueTowardsCompletion\": 0.0, \"failureMessage\": \"\", \"exceptionClass\": \"\", \"trace\": \"\", \"outcomeType\": 4}}, \"*\")"
          },
          "metadata": {}
        },
        {
          "output_type": "display_data",
          "data": {
            "text/plain": "Hint: Your code should look something like:\n```python\nX_5 = pd.DataFrame()\n\nX_5[\"MedNhbdArea\"] = df.____(\"Neighborhood\")[\"____\"].transform(____)\n```",
            "text/markdown": "<span style=\"color:#3366cc\">Hint:</span> Your code should look something like:\n```python\nX_5 = pd.DataFrame()\n\nX_5[\"MedNhbdArea\"] = df.____(\"Neighborhood\")[\"____\"].transform(____)\n```\n"
          },
          "metadata": {}
        }
      ]
    },
    {
      "cell_type": "markdown",
      "source": [
        "Now you've made your first new feature set! If you like, you can run the cell below to score the model with all of your new features added:"
      ],
      "metadata": {
        "id": "O0OCx6Tgnsdf"
      }
    },
    {
      "cell_type": "code",
      "source": [
        "X_new = X.join([X_1, X_2, X_3, X_4, X_5])\n",
        "score_dataset(X_new, y)"
      ],
      "metadata": {
        "id": "xuBs5ok3nsdf"
      },
      "execution_count": null,
      "outputs": []
    },
    {
      "cell_type": "markdown",
      "source": [
        "# Keep Going #\n",
        "\n",
        "[**Untangle spatial relationships**](https://www.kaggle.com/ryanholbrook/clustering-with-k-means) by adding cluster labels to your dataset."
      ],
      "metadata": {
        "id": "DgUcYvvnnsdf"
      }
    },
    {
      "cell_type": "markdown",
      "source": [
        "---\n",
        "\n",
        "\n",
        "\n",
        "\n",
        "*Have questions or comments? Visit the [course discussion forum](https://www.kaggle.com/learn/feature-engineering/discussion) to chat with other learners.*"
      ],
      "metadata": {
        "id": "nr0Z7WrAnsdf"
      }
    }
  ]
}