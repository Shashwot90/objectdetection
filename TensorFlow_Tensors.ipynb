{
  "nbformat": 4,
  "nbformat_minor": 0,
  "metadata": {
    "colab": {
      "provenance": [],
      "authorship_tag": "ABX9TyO4seL8hpDziwhhvHa/dXpe",
      "include_colab_link": true
    },
    "kernelspec": {
      "name": "python3",
      "display_name": "Python 3"
    },
    "language_info": {
      "name": "python"
    }
  },
  "cells": [
    {
      "cell_type": "markdown",
      "metadata": {
        "id": "view-in-github",
        "colab_type": "text"
      },
      "source": [
        "<a href=\"https://colab.research.google.com/github/Shashwot90/objectdetection/blob/main/TensorFlow_Tensors.ipynb\" target=\"_parent\"><img src=\"https://colab.research.google.com/assets/colab-badge.svg\" alt=\"Open In Colab\"/></a>"
      ]
    },
    {
      "cell_type": "code",
      "execution_count": 1,
      "metadata": {
        "id": "WqVFOQ4n12Zc"
      },
      "outputs": [],
      "source": [
        "import tensorflow as tf"
      ]
    },
    {
      "cell_type": "code",
      "source": [
        "tensor_zero_d = tf.constant(4)\n",
        "print(tensor_zero_d)"
      ],
      "metadata": {
        "colab": {
          "base_uri": "https://localhost:8080/"
        },
        "id": "JmbqrFNW3Zkk",
        "outputId": "b023215a-b274-402e-8587-8f9308035ec1"
      },
      "execution_count": 2,
      "outputs": [
        {
          "output_type": "stream",
          "name": "stdout",
          "text": [
            "tf.Tensor(4, shape=(), dtype=int32)\n"
          ]
        }
      ]
    },
    {
      "cell_type": "code",
      "source": [
        "tensor_one_d = tf.constant([2,0,-3,8,90])\n",
        "print(tensor_one_d)"
      ],
      "metadata": {
        "colab": {
          "base_uri": "https://localhost:8080/"
        },
        "id": "eNHU4QtC3ZhV",
        "outputId": "7eab2889-e386-42d3-d581-618c9af7bc35"
      },
      "execution_count": 3,
      "outputs": [
        {
          "output_type": "stream",
          "name": "stdout",
          "text": [
            "tf.Tensor([ 2  0 -3  8 90], shape=(5,), dtype=int32)\n"
          ]
        }
      ]
    },
    {
      "cell_type": "code",
      "source": [
        "tensor_four_d = tf.constant([\n",
        "   [\n",
        "      [[13,23,4],\n",
        "     [2,3,4]],\n",
        "      [[13,23,4],\n",
        "     [2,3,4]]\n",
        "   ] ,\n",
        "   [\n",
        "      [[13,23,4],\n",
        "     [2,3,4]],\n",
        "      [[13,23,4],\n",
        "     [2,3,4]]\n",
        "   ]\n",
        "])"
      ],
      "metadata": {
        "id": "WU48t4ZH3Zee"
      },
      "execution_count": 4,
      "outputs": []
    },
    {
      "cell_type": "code",
      "source": [
        "print(tensor_four_d)"
      ],
      "metadata": {
        "id": "alfhn5Sq3Zbc",
        "colab": {
          "base_uri": "https://localhost:8080/"
        },
        "outputId": "6422b7ab-6038-4bf1-8743-310d05611132"
      },
      "execution_count": 5,
      "outputs": [
        {
          "output_type": "stream",
          "name": "stdout",
          "text": [
            "tf.Tensor(\n",
            "[[[[13 23  4]\n",
            "   [ 2  3  4]]\n",
            "\n",
            "  [[13 23  4]\n",
            "   [ 2  3  4]]]\n",
            "\n",
            "\n",
            " [[[13 23  4]\n",
            "   [ 2  3  4]]\n",
            "\n",
            "  [[13 23  4]\n",
            "   [ 2  3  4]]]], shape=(2, 2, 2, 3), dtype=int32)\n"
          ]
        }
      ]
    },
    {
      "cell_type": "code",
      "source": [
        "import numpy as np"
      ],
      "metadata": {
        "id": "21osd6V93ZYd"
      },
      "execution_count": 7,
      "outputs": []
    },
    {
      "cell_type": "code",
      "source": [
        "np_array = np.array([1,2,4])\n",
        "print(np_array)"
      ],
      "metadata": {
        "id": "MOGyi6nq3ZVs",
        "colab": {
          "base_uri": "https://localhost:8080/"
        },
        "outputId": "61b74c45-3252-4c0f-ee28-be592ecb0062"
      },
      "execution_count": 8,
      "outputs": [
        {
          "output_type": "stream",
          "name": "stdout",
          "text": [
            "[1 2 4]\n"
          ]
        }
      ]
    },
    {
      "cell_type": "code",
      "source": [],
      "metadata": {
        "id": "Px4vIdwf4ug0"
      },
      "execution_count": null,
      "outputs": []
    },
    {
      "cell_type": "code",
      "source": [],
      "metadata": {
        "id": "FYQ1No6z4udp"
      },
      "execution_count": null,
      "outputs": []
    },
    {
      "cell_type": "code",
      "source": [],
      "metadata": {
        "id": "w2KKNf514uaj"
      },
      "execution_count": null,
      "outputs": []
    },
    {
      "cell_type": "code",
      "source": [],
      "metadata": {
        "id": "mVpixU8K4uXV"
      },
      "execution_count": null,
      "outputs": []
    }
  ]
}