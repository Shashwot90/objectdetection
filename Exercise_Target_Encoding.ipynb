{
  "metadata": {
    "jupytext": {
      "cell_metadata_filter": "-all",
      "formats": "ipynb"
    },
    "kernelspec": {
      "display_name": "Python 3",
      "language": "python",
      "name": "python3"
    },
    "language_info": {
      "name": "python",
      "version": "3.10.13",
      "mimetype": "text/x-python",
      "codemirror_mode": {
        "name": "ipython",
        "version": 3
      },
      "pygments_lexer": "ipython3",
      "nbconvert_exporter": "python",
      "file_extension": ".py"
    },
    "kaggle": {
      "accelerator": "none",
      "dataSources": [
        {
          "sourceId": 1828856,
          "sourceType": "datasetVersion",
          "datasetId": 933090
        }
      ],
      "isInternetEnabled": false,
      "language": "python",
      "sourceType": "notebook",
      "isGpuEnabled": false
    },
    "colab": {
      "name": "Exercise: Target Encoding",
      "provenance": [],
      "include_colab_link": true
    }
  },
  "nbformat_minor": 0,
  "nbformat": 4,
  "cells": [
    {
      "cell_type": "markdown",
      "metadata": {
        "id": "view-in-github",
        "colab_type": "text"
      },
      "source": [
        "<a href=\"https://colab.research.google.com/github/Shashwot90/objectdetection/blob/main/Exercise_Target_Encoding.ipynb\" target=\"_parent\"><img src=\"https://colab.research.google.com/assets/colab-badge.svg\" alt=\"Open In Colab\"/></a>"
      ]
    },
    {
      "source": [
        "\n",
        "# IMPORTANT: RUN THIS CELL IN ORDER TO IMPORT YOUR KAGGLE DATA SOURCES\n",
        "# TO THE CORRECT LOCATION (/kaggle/input) IN YOUR NOTEBOOK,\n",
        "# THEN FEEL FREE TO DELETE THIS CELL.\n",
        "# NOTE: THIS NOTEBOOK ENVIRONMENT DIFFERS FROM KAGGLE'S PYTHON\n",
        "# ENVIRONMENT SO THERE MAY BE MISSING LIBRARIES USED BY YOUR\n",
        "# NOTEBOOK.\n",
        "\n",
        "import os\n",
        "import sys\n",
        "from tempfile import NamedTemporaryFile\n",
        "from urllib.request import urlopen\n",
        "from urllib.parse import unquote, urlparse\n",
        "from urllib.error import HTTPError\n",
        "from zipfile import ZipFile\n",
        "import tarfile\n",
        "import shutil\n",
        "\n",
        "CHUNK_SIZE = 40960\n",
        "DATA_SOURCE_MAPPING = 'fe-course-data:https%3A%2F%2Fstorage.googleapis.com%2Fkaggle-data-sets%2F933090%2F1828856%2Fbundle%2Farchive.zip%3FX-Goog-Algorithm%3DGOOG4-RSA-SHA256%26X-Goog-Credential%3Dgcp-kaggle-com%2540kaggle-161607.iam.gserviceaccount.com%252F20240316%252Fauto%252Fstorage%252Fgoog4_request%26X-Goog-Date%3D20240316T104532Z%26X-Goog-Expires%3D259200%26X-Goog-SignedHeaders%3Dhost%26X-Goog-Signature%3D118cf60bb248cb409fe22e83ccce6dc7e34d4ef37ddee484a7bc3ed7d2ee72b24d181fa4d93e0701d1ab12ca3c7d7a684c8f3781d6bb7ccee883c5c7fc6fbbeda61b3f0961cc89390e204699982160045f99ab2c571cf8078300dcd3b61751e42e5f0573f29efbdebf1ad34dc70b72d8cc676d2e20b6c1b92ddbf715139b4593ddc7dc412bc5ae1e3bcd965afd8dab46ebcf5998e20e83af39f9981d26968ea5758bd6ffcbed45242912a8d7c2c5be2b3c82fddac9a141dca85a3c935740f47d704879e26c4ed0fdad1b5c2c8fd68a13cf6257dbbb313d4de5660f9bb972975060005adccf94e786b381b556cf3efeff46379c552687982844ef039dda4ff65c'\n",
        "\n",
        "KAGGLE_INPUT_PATH='/kaggle/input'\n",
        "KAGGLE_WORKING_PATH='/kaggle/working'\n",
        "KAGGLE_SYMLINK='kaggle'\n",
        "\n",
        "!umount /kaggle/input/ 2> /dev/null\n",
        "shutil.rmtree('/kaggle/input', ignore_errors=True)\n",
        "os.makedirs(KAGGLE_INPUT_PATH, 0o777, exist_ok=True)\n",
        "os.makedirs(KAGGLE_WORKING_PATH, 0o777, exist_ok=True)\n",
        "\n",
        "try:\n",
        "  os.symlink(KAGGLE_INPUT_PATH, os.path.join(\"..\", 'input'), target_is_directory=True)\n",
        "except FileExistsError:\n",
        "  pass\n",
        "try:\n",
        "  os.symlink(KAGGLE_WORKING_PATH, os.path.join(\"..\", 'working'), target_is_directory=True)\n",
        "except FileExistsError:\n",
        "  pass\n",
        "\n",
        "for data_source_mapping in DATA_SOURCE_MAPPING.split(','):\n",
        "    directory, download_url_encoded = data_source_mapping.split(':')\n",
        "    download_url = unquote(download_url_encoded)\n",
        "    filename = urlparse(download_url).path\n",
        "    destination_path = os.path.join(KAGGLE_INPUT_PATH, directory)\n",
        "    try:\n",
        "        with urlopen(download_url) as fileres, NamedTemporaryFile() as tfile:\n",
        "            total_length = fileres.headers['content-length']\n",
        "            print(f'Downloading {directory}, {total_length} bytes compressed')\n",
        "            dl = 0\n",
        "            data = fileres.read(CHUNK_SIZE)\n",
        "            while len(data) > 0:\n",
        "                dl += len(data)\n",
        "                tfile.write(data)\n",
        "                done = int(50 * dl / int(total_length))\n",
        "                sys.stdout.write(f\"\\r[{'=' * done}{' ' * (50-done)}] {dl} bytes downloaded\")\n",
        "                sys.stdout.flush()\n",
        "                data = fileres.read(CHUNK_SIZE)\n",
        "            if filename.endswith('.zip'):\n",
        "              with ZipFile(tfile) as zfile:\n",
        "                zfile.extractall(destination_path)\n",
        "            else:\n",
        "              with tarfile.open(tfile.name) as tarfile:\n",
        "                tarfile.extractall(destination_path)\n",
        "            print(f'\\nDownloaded and uncompressed: {directory}')\n",
        "    except HTTPError as e:\n",
        "        print(f'Failed to load (likely expired) {download_url} to path {destination_path}')\n",
        "        continue\n",
        "    except OSError as e:\n",
        "        print(f'Failed to load {download_url} to path {destination_path}')\n",
        "        continue\n",
        "\n",
        "print('Data source import complete.')\n"
      ],
      "metadata": {
        "id": "fFcHay5l3gGV"
      },
      "cell_type": "code",
      "outputs": [],
      "execution_count": null
    },
    {
      "cell_type": "markdown",
      "source": [
        "**This notebook is an exercise in the [Feature Engineering](https://www.kaggle.com/learn/feature-engineering) course.  You can reference the tutorial at [this link](https://www.kaggle.com/ryanholbrook/target-encoding).**\n",
        "\n",
        "---\n"
      ],
      "metadata": {
        "id": "y3aL6WyL3gGY"
      }
    },
    {
      "cell_type": "markdown",
      "source": [
        "# Introduction #\n",
        "\n",
        "In this exercise, you'll apply target encoding to features in the [*Ames*](https://www.kaggle.com/c/house-prices-advanced-regression-techniques/data) dataset.\n",
        "\n",
        "Run this cell to set everything up!"
      ],
      "metadata": {
        "id": "dUDa_xrG3gGZ"
      }
    },
    {
      "cell_type": "code",
      "source": [
        "# Setup feedback system\n",
        "from learntools.core import binder\n",
        "binder.bind(globals())\n",
        "from learntools.feature_engineering_new.ex6 import *\n",
        "\n",
        "import matplotlib.pyplot as plt\n",
        "import numpy as np\n",
        "import pandas as pd\n",
        "import seaborn as sns\n",
        "import warnings\n",
        "from category_encoders import MEstimateEncoder\n",
        "from sklearn.model_selection import cross_val_score\n",
        "from xgboost import XGBRegressor\n",
        "\n",
        "# Set Matplotlib defaults\n",
        "plt.style.use(\"seaborn-whitegrid\")\n",
        "plt.rc(\"figure\", autolayout=True)\n",
        "plt.rc(\n",
        "    \"axes\",\n",
        "    labelweight=\"bold\",\n",
        "    labelsize=\"large\",\n",
        "    titleweight=\"bold\",\n",
        "    titlesize=14,\n",
        "    titlepad=10,\n",
        ")\n",
        "warnings.filterwarnings('ignore')\n",
        "\n",
        "\n",
        "def score_dataset(X, y, model=XGBRegressor()):\n",
        "    # Label encoding for categoricals\n",
        "    for colname in X.select_dtypes([\"category\", \"object\"]):\n",
        "        X[colname], _ = X[colname].factorize()\n",
        "    # Metric for Housing competition is RMSLE (Root Mean Squared Log Error)\n",
        "    score = cross_val_score(\n",
        "        model, X, y, cv=5, scoring=\"neg_mean_squared_log_error\",\n",
        "    )\n",
        "    score = -1 * score.mean()\n",
        "    score = np.sqrt(score)\n",
        "    return score\n",
        "\n",
        "\n",
        "df = pd.read_csv(\"../input/fe-course-data/ames.csv\")"
      ],
      "metadata": {
        "execution": {
          "iopub.status.busy": "2024-03-11T02:22:43.042798Z",
          "iopub.execute_input": "2024-03-11T02:22:43.043607Z",
          "iopub.status.idle": "2024-03-11T02:22:47.552941Z",
          "shell.execute_reply.started": "2024-03-11T02:22:43.043553Z",
          "shell.execute_reply": "2024-03-11T02:22:47.550986Z"
        },
        "trusted": true,
        "id": "xu-VBhV73gGZ",
        "outputId": "4e23c502-74de-459b-f07c-4b90e32d9ed6"
      },
      "execution_count": null,
      "outputs": [
        {
          "name": "stderr",
          "text": "/tmp/ipykernel_34/3788892820.py:16: MatplotlibDeprecationWarning: The seaborn styles shipped by Matplotlib are deprecated since 3.6, as they no longer correspond to the styles shipped by seaborn. However, they will remain available as 'seaborn-v0_8-<style>'. Alternatively, directly use the seaborn API instead.\n  plt.style.use(\"seaborn-whitegrid\")\n",
          "output_type": "stream"
        }
      ]
    },
    {
      "cell_type": "markdown",
      "source": [
        "-------------------------------------------------------------------------------\n",
        "\n",
        "First you'll need to choose which features you want to apply a target encoding to. Categorical features with a large number of categories are often good candidates. Run this cell to see how many categories each categorical feature in the *Ames* dataset has."
      ],
      "metadata": {
        "id": "3b83ZlPF3gGa"
      }
    },
    {
      "cell_type": "code",
      "source": [
        "df.select_dtypes([\"object\"]).nunique()"
      ],
      "metadata": {
        "execution": {
          "iopub.status.busy": "2024-03-11T02:22:47.56104Z",
          "iopub.execute_input": "2024-03-11T02:22:47.561566Z",
          "iopub.status.idle": "2024-03-11T02:22:47.600582Z",
          "shell.execute_reply.started": "2024-03-11T02:22:47.561522Z",
          "shell.execute_reply": "2024-03-11T02:22:47.599003Z"
        },
        "trusted": true,
        "id": "odhqdYwV3gGa",
        "outputId": "eb776ef3-66be-4e58-ab69-7611167615ba"
      },
      "execution_count": null,
      "outputs": [
        {
          "execution_count": 2,
          "output_type": "execute_result",
          "data": {
            "text/plain": "MSSubClass       16\nMSZoning          7\nStreet            2\nAlley             3\nLotShape          4\nLandContour       4\nUtilities         3\nLotConfig         5\nLandSlope         3\nNeighborhood     28\nCondition1        9\nCondition2        8\nBldgType          5\nHouseStyle        8\nOverallQual      10\nOverallCond       9\nRoofStyle         6\nRoofMatl          8\nExterior1st      16\nExterior2nd      17\nMasVnrType        4\nExterQual         4\nExterCond         5\nFoundation        6\nBsmtQual          6\nBsmtCond          6\nBsmtExposure      5\nBsmtFinType1      7\nBsmtFinType2      7\nHeating           6\nHeatingQC         5\nCentralAir        2\nElectrical        6\nKitchenQual       5\nFunctional        8\nFireplaceQu       6\nGarageType        7\nGarageFinish      4\nGarageQual        6\nGarageCond        6\nPavedDrive        3\nPoolQC            5\nFence             5\nMiscFeature       5\nSaleType         10\nSaleCondition     6\ndtype: int64"
          },
          "metadata": {}
        }
      ]
    },
    {
      "cell_type": "markdown",
      "source": [
        "We talked about how the M-estimate encoding uses smoothing to improve estimates for rare categories. To see how many times a category occurs in the dataset, you can use the `value_counts` method. This cell shows the counts for `SaleType`, but you might want to consider others as well."
      ],
      "metadata": {
        "id": "U6sx3bw33gGb"
      }
    },
    {
      "cell_type": "code",
      "source": [
        "df[\"SaleType\"].value_counts()"
      ],
      "metadata": {
        "execution": {
          "iopub.status.busy": "2024-03-11T02:24:50.014017Z",
          "iopub.execute_input": "2024-03-11T02:24:50.015864Z",
          "iopub.status.idle": "2024-03-11T02:24:50.031406Z",
          "shell.execute_reply.started": "2024-03-11T02:24:50.015793Z",
          "shell.execute_reply": "2024-03-11T02:24:50.030037Z"
        },
        "trusted": true,
        "id": "xbsPJph53gGb",
        "outputId": "315f5947-cbfd-41be-c126-3eab9c05be9c"
      },
      "execution_count": null,
      "outputs": [
        {
          "execution_count": 3,
          "output_type": "execute_result",
          "data": {
            "text/plain": "SaleType\nWD       2536\nNew       239\nCOD        87\nConLD      26\nCWD        12\nConLI       9\nConLw       8\nOth         7\nCon         5\nVWD         1\nName: count, dtype: int64"
          },
          "metadata": {}
        }
      ]
    },
    {
      "cell_type": "markdown",
      "source": [
        "# 1) Choose Features for Encoding\n",
        "\n",
        "Which features did you identify for target encoding? After you've thought about your answer, run the next cell for some discussion."
      ],
      "metadata": {
        "id": "WeRlJWqm3gGb"
      }
    },
    {
      "cell_type": "code",
      "source": [
        "# View the solution (Run this cell to receive credit!)\n",
        "q_1.check()"
      ],
      "metadata": {
        "execution": {
          "iopub.status.busy": "2024-03-11T02:41:53.473364Z",
          "iopub.execute_input": "2024-03-11T02:41:53.473892Z",
          "iopub.status.idle": "2024-03-11T02:41:53.485517Z",
          "shell.execute_reply.started": "2024-03-11T02:41:53.473857Z",
          "shell.execute_reply": "2024-03-11T02:41:53.484268Z"
        },
        "trusted": true,
        "id": "Dfk3Tiie3gGb",
        "outputId": "10d58410-2a20-4874-bff0-9ffb81ce58f5"
      },
      "execution_count": null,
      "outputs": [
        {
          "output_type": "display_data",
          "data": {
            "text/plain": "<IPython.core.display.Javascript object>",
            "application/javascript": "parent.postMessage({\"jupyterEvent\": \"custom.exercise_interaction\", \"data\": {\"outcomeType\": 1, \"valueTowardsCompletion\": 0.3333333333333333, \"interactionType\": 1, \"questionType\": 4, \"questionId\": \"1_Q1\", \"learnToolsVersion\": \"0.3.4\", \"failureMessage\": \"\", \"exceptionClass\": \"\", \"trace\": \"\"}}, \"*\")"
          },
          "metadata": {}
        },
        {
          "output_type": "display_data",
          "data": {
            "text/plain": "Correct: \n\n The `Neighborhood` feature looks promising. It has the most categories of any feature, and several categories are rare. Others that could be worth considering are `SaleType`, `MSSubClass`, `Exterior1st`, `Exterior2nd`. In fact, almost any of the nominal features would be worth trying because of the prevalence of rare categories.",
            "text/markdown": "<span style=\"color:#33cc33\">Correct:</span> \n\n The `Neighborhood` feature looks promising. It has the most categories of any feature, and several categories are rare. Others that could be worth considering are `SaleType`, `MSSubClass`, `Exterior1st`, `Exterior2nd`. In fact, almost any of the nominal features would be worth trying because of the prevalence of rare categories."
          },
          "metadata": {}
        }
      ]
    },
    {
      "cell_type": "markdown",
      "source": [
        "-------------------------------------------------------------------------------\n",
        "\n",
        "Now you'll apply a target encoding to your choice of feature. As we discussed in the tutorial, to avoid overfitting, we need to fit the encoder on data heldout from the training set. Run this cell to create the encoding and training splits:"
      ],
      "metadata": {
        "id": "F3BybO6C3gGc"
      }
    },
    {
      "cell_type": "code",
      "source": [
        "# Encoding split\n",
        "X_encode = df.sample(frac=0.20, random_state=0)\n",
        "y_encode = X_encode.pop(\"SalePrice\")\n",
        "\n",
        "# Training split\n",
        "X_pretrain = df.drop(X_encode.index)\n",
        "y_train = X_pretrain.pop(\"SalePrice\")"
      ],
      "metadata": {
        "lines_to_next_cell": 2,
        "execution": {
          "iopub.status.busy": "2024-03-11T02:56:38.050559Z",
          "iopub.execute_input": "2024-03-11T02:56:38.051076Z",
          "iopub.status.idle": "2024-03-11T02:56:38.06818Z",
          "shell.execute_reply.started": "2024-03-11T02:56:38.051043Z",
          "shell.execute_reply": "2024-03-11T02:56:38.066126Z"
        },
        "trusted": true,
        "id": "EWbQYirw3gGc"
      },
      "execution_count": null,
      "outputs": []
    },
    {
      "cell_type": "markdown",
      "source": [
        "# 2) Apply M-Estimate Encoding\n",
        "\n",
        "Apply a target encoding to your choice of categorical features. Also choose a value for the smoothing parameter `m` (any value is okay for a correct answer)."
      ],
      "metadata": {
        "id": "zKwsmvkB3gGc"
      }
    },
    {
      "cell_type": "code",
      "source": [
        "# YOUR CODE HERE: Create the MEstimateEncoder\n",
        "# Choose a set of features to encode and a value for m\n",
        "encoder = MEstimateEncoder(cols=[\"Neighborhood\"], m=5.0)\n",
        "\n",
        "\n",
        "# Fit the encoder on the encoding split\n",
        "encoder.fit(X_encode, y_encode)\n",
        "\n",
        "# Encode the training split\n",
        "X_train = encoder.transform(X_pretrain, y_train)\n",
        "\n",
        "\n",
        "# Check your answer\n",
        "q_2.check()"
      ],
      "metadata": {
        "lines_to_next_cell": 0,
        "execution": {
          "iopub.status.busy": "2024-03-11T03:03:18.919342Z",
          "iopub.execute_input": "2024-03-11T03:03:18.919849Z",
          "iopub.status.idle": "2024-03-11T03:03:19.027163Z",
          "shell.execute_reply.started": "2024-03-11T03:03:18.919819Z",
          "shell.execute_reply": "2024-03-11T03:03:19.025962Z"
        },
        "trusted": true,
        "id": "Duk48rYm3gGc",
        "outputId": "aa0707bf-9a53-4d5c-8e4b-7903e06a93d0"
      },
      "execution_count": null,
      "outputs": [
        {
          "output_type": "display_data",
          "data": {
            "text/plain": "<IPython.core.display.Javascript object>",
            "application/javascript": "parent.postMessage({\"jupyterEvent\": \"custom.exercise_interaction\", \"data\": {\"outcomeType\": 1, \"valueTowardsCompletion\": 0.3333333333333333, \"interactionType\": 1, \"questionType\": 2, \"questionId\": \"2_Q2\", \"learnToolsVersion\": \"0.3.4\", \"failureMessage\": \"\", \"exceptionClass\": \"\", \"trace\": \"\"}}, \"*\")"
          },
          "metadata": {}
        },
        {
          "output_type": "display_data",
          "data": {
            "text/plain": "Correct",
            "text/markdown": "<span style=\"color:#33cc33\">Correct</span>"
          },
          "metadata": {}
        }
      ]
    },
    {
      "cell_type": "code",
      "source": [
        "# Lines below will give you a hint or solution code\n",
        "#q_2.hint()\n",
        "#q_2.solution()"
      ],
      "metadata": {
        "lines_to_next_cell": 0,
        "id": "ls1l4i5k3gGc"
      },
      "execution_count": null,
      "outputs": []
    },
    {
      "cell_type": "markdown",
      "source": [
        "If you'd like to see how the encoded feature compares to the target, you can run this cell:"
      ],
      "metadata": {
        "id": "_i6pJq5R3gGc"
      }
    },
    {
      "cell_type": "code",
      "source": [
        "feature = encoder.cols\n",
        "\n",
        "plt.figure(dpi=90)\n",
        "ax = sns.distplot(y_train, kde=True, hist=False)\n",
        "ax = sns.distplot(X_train[feature], color='r', ax=ax, hist=True, kde=False, norm_hist=True)\n",
        "ax.set_xlabel(\"SalePrice\");"
      ],
      "metadata": {
        "execution": {
          "iopub.status.busy": "2024-03-11T03:03:24.731526Z",
          "iopub.execute_input": "2024-03-11T03:03:24.732061Z",
          "iopub.status.idle": "2024-03-11T03:03:25.329907Z",
          "shell.execute_reply.started": "2024-03-11T03:03:24.732024Z",
          "shell.execute_reply": "2024-03-11T03:03:25.328727Z"
        },
        "trusted": true,
        "id": "W9p3c11B3gGc",
        "outputId": "036af40d-3bdf-47aa-d78e-4345c520043f"
      },
      "execution_count": null,
      "outputs": [
        {
          "output_type": "display_data",
          "data": {
            "text/plain": "<Figure size 576x432 with 1 Axes>",
            "image/png": "[encoded data removed]"
          },
          "metadata": {}
        }
      ]
    },
    {
      "cell_type": "markdown",
      "source": [
        "From the distribution plots, does it seem like the encoding is informative?\n",
        "\n",
        "And this cell will show you the score of the encoded set compared to the original set:"
      ],
      "metadata": {
        "id": "YfhWGai53gGd"
      }
    },
    {
      "cell_type": "code",
      "source": [
        "X = df.copy()\n",
        "y = X.pop(\"SalePrice\")\n",
        "score_base = score_dataset(X, y)\n",
        "score_new = score_dataset(X_train, y_train)\n",
        "\n",
        "print(f\"Baseline Score: {score_base:.4f} RMSLE\")\n",
        "print(f\"Score with Encoding: {score_new:.4f} RMSLE\")"
      ],
      "metadata": {
        "execution": {
          "iopub.status.busy": "2024-03-11T03:04:18.336115Z",
          "iopub.execute_input": "2024-03-11T03:04:18.336611Z",
          "iopub.status.idle": "2024-03-11T03:04:24.160817Z",
          "shell.execute_reply.started": "2024-03-11T03:04:18.336577Z",
          "shell.execute_reply": "2024-03-11T03:04:24.15949Z"
        },
        "trusted": true,
        "id": "t6MRbwi33gGd",
        "outputId": "652a628e-5254-4be9-8801-d24fa60c0c3f"
      },
      "execution_count": null,
      "outputs": [
        {
          "name": "stdout",
          "text": "Baseline Score: 0.1434 RMSLE\nScore with Encoding: 0.1398 RMSLE\n",
          "output_type": "stream"
        }
      ]
    },
    {
      "cell_type": "markdown",
      "source": [
        "Do you think that target encoding was worthwhile in this case? Depending on which feature or features you chose, you may have ended up with a score significantly worse than the baseline. In that case, it's likely the extra information gained by the encoding couldn't make up for the loss of data used for the encoding."
      ],
      "metadata": {
        "id": "z20ZCMHe3gGd"
      }
    },
    {
      "cell_type": "markdown",
      "source": [
        "-------------------------------------------------------------------------------\n",
        "\n",
        "In this question, you'll explore the problem of overfitting with target encodings. This will illustrate this importance of training fitting target encoders on data held-out from the training set.\n",
        "\n",
        "So let's see what happens when we fit the encoder and the model on the *same* dataset. To emphasize how dramatic the overfitting can be, we'll mean-encode a feature that should have no relationship with `SalePrice`, a count: `0, 1, 2, 3, 4, 5, ...`."
      ],
      "metadata": {
        "id": "pqOc8pEg3gGd"
      }
    },
    {
      "cell_type": "code",
      "source": [
        "# Try experimenting with the smoothing parameter m\n",
        "# Try 0, 1, 5, 50\n",
        "m = 0\n",
        "\n",
        "X = df.copy()\n",
        "y = X.pop('SalePrice')\n",
        "\n",
        "# Create an uninformative feature\n",
        "X[\"Count\"] = range(len(X))\n",
        "X[\"Count\"][1] = 0  # actually need one duplicate value to circumvent error-checking in MEstimateEncoder\n",
        "\n",
        "# fit and transform on the same dataset\n",
        "encoder = MEstimateEncoder(cols=\"Count\", m=m)\n",
        "X = encoder.fit_transform(X, y)\n",
        "\n",
        "# Results\n",
        "score =  score_dataset(X, y)\n",
        "print(f\"Score: {score:.4f} RMSLE\")"
      ],
      "metadata": {
        "id": "Xo0-eYPj3gGd"
      },
      "execution_count": null,
      "outputs": []
    },
    {
      "cell_type": "markdown",
      "source": [
        "Almost a perfect score!"
      ],
      "metadata": {
        "id": "uOO1z0eM3gGd"
      }
    },
    {
      "cell_type": "code",
      "source": [
        "plt.figure(dpi=90)\n",
        "ax = sns.distplot(y, kde=True, hist=False)\n",
        "ax = sns.distplot(X[\"Count\"], color='r', ax=ax, hist=True, kde=False, norm_hist=True)\n",
        "ax.set_xlabel(\"SalePrice\");"
      ],
      "metadata": {
        "execution": {
          "iopub.status.busy": "2024-03-11T03:09:59.6145Z",
          "iopub.execute_input": "2024-03-11T03:09:59.616033Z",
          "iopub.status.idle": "2024-03-11T03:10:02.189046Z",
          "shell.execute_reply.started": "2024-03-11T03:09:59.615928Z",
          "shell.execute_reply": "2024-03-11T03:10:02.187335Z"
        },
        "trusted": true,
        "id": "Cf5nlbHw3gGd",
        "outputId": "aba9339b-052c-4ef7-b756-14826da45e1b"
      },
      "execution_count": null,
      "outputs": [
        {
          "traceback": [
            "\u001b[0;31m---------------------------------------------------------------------------\u001b[0m",
            "\u001b[0;31mKeyError\u001b[0m                                  Traceback (most recent call last)",
            "File \u001b[0;32m/opt/conda/lib/python3.10/site-packages/pandas/core/indexes/base.py:3802\u001b[0m, in \u001b[0;36mIndex.get_loc\u001b[0;34m(self, key)\u001b[0m\n\u001b[1;32m   3801\u001b[0m \u001b[38;5;28;01mtry\u001b[39;00m:\n\u001b[0;32m-> 3802\u001b[0m     \u001b[38;5;28;01mreturn\u001b[39;00m \u001b[38;5;28;43mself\u001b[39;49m\u001b[38;5;241;43m.\u001b[39;49m\u001b[43m_engine\u001b[49m\u001b[38;5;241;43m.\u001b[39;49m\u001b[43mget_loc\u001b[49m\u001b[43m(\u001b[49m\u001b[43mcasted_key\u001b[49m\u001b[43m)\u001b[49m\n\u001b[1;32m   3803\u001b[0m \u001b[38;5;28;01mexcept\u001b[39;00m \u001b[38;5;167;01mKeyError\u001b[39;00m \u001b[38;5;28;01mas\u001b[39;00m err:\n",
            "File \u001b[0;32mindex.pyx:153\u001b[0m, in \u001b[0;36mpandas._libs.index.IndexEngine.get_loc\u001b[0;34m()\u001b[0m\n",
            "File \u001b[0;32mindex.pyx:182\u001b[0m, in \u001b[0;36mpandas._libs.index.IndexEngine.get_loc\u001b[0;34m()\u001b[0m\n",
            "File \u001b[0;32mpandas/_libs/hashtable_class_helper.pxi:7081\u001b[0m, in \u001b[0;36mpandas._libs.hashtable.PyObjectHashTable.get_item\u001b[0;34m()\u001b[0m\n",
            "File \u001b[0;32mpandas/_libs/hashtable_class_helper.pxi:7089\u001b[0m, in \u001b[0;36mpandas._libs.hashtable.PyObjectHashTable.get_item\u001b[0;34m()\u001b[0m\n",
            "\u001b[0;31mKeyError\u001b[0m: 'Count'",
            "\nThe above exception was the direct cause of the following exception:\n",
            "\u001b[0;31mKeyError\u001b[0m                                  Traceback (most recent call last)",
            "Cell \u001b[0;32mIn[10], line 3\u001b[0m\n\u001b[1;32m      1\u001b[0m plt\u001b[38;5;241m.\u001b[39mfigure(dpi\u001b[38;5;241m=\u001b[39m\u001b[38;5;241m90\u001b[39m)\n\u001b[1;32m      2\u001b[0m ax \u001b[38;5;241m=\u001b[39m sns\u001b[38;5;241m.\u001b[39mdistplot(y, kde\u001b[38;5;241m=\u001b[39m\u001b[38;5;28;01mTrue\u001b[39;00m, hist\u001b[38;5;241m=\u001b[39m\u001b[38;5;28;01mFalse\u001b[39;00m)\n\u001b[0;32m----> 3\u001b[0m ax \u001b[38;5;241m=\u001b[39m sns\u001b[38;5;241m.\u001b[39mdistplot(\u001b[43mX\u001b[49m\u001b[43m[\u001b[49m\u001b[38;5;124;43m\"\u001b[39;49m\u001b[38;5;124;43mCount\u001b[39;49m\u001b[38;5;124;43m\"\u001b[39;49m\u001b[43m]\u001b[49m, color\u001b[38;5;241m=\u001b[39m\u001b[38;5;124m'\u001b[39m\u001b[38;5;124mr\u001b[39m\u001b[38;5;124m'\u001b[39m, ax\u001b[38;5;241m=\u001b[39max, hist\u001b[38;5;241m=\u001b[39m\u001b[38;5;28;01mTrue\u001b[39;00m, kde\u001b[38;5;241m=\u001b[39m\u001b[38;5;28;01mFalse\u001b[39;00m, norm_hist\u001b[38;5;241m=\u001b[39m\u001b[38;5;28;01mTrue\u001b[39;00m)\n\u001b[1;32m      4\u001b[0m ax\u001b[38;5;241m.\u001b[39mset_xlabel(\u001b[38;5;124m\"\u001b[39m\u001b[38;5;124mSalePrice\u001b[39m\u001b[38;5;124m\"\u001b[39m);\n",
            "File \u001b[0;32m/opt/conda/lib/python3.10/site-packages/pandas/core/frame.py:4090\u001b[0m, in \u001b[0;36mDataFrame.__getitem__\u001b[0;34m(self, key)\u001b[0m\n\u001b[1;32m   4088\u001b[0m \u001b[38;5;28;01mif\u001b[39;00m \u001b[38;5;28mself\u001b[39m\u001b[38;5;241m.\u001b[39mcolumns\u001b[38;5;241m.\u001b[39mnlevels \u001b[38;5;241m>\u001b[39m \u001b[38;5;241m1\u001b[39m:\n\u001b[1;32m   4089\u001b[0m     \u001b[38;5;28;01mreturn\u001b[39;00m \u001b[38;5;28mself\u001b[39m\u001b[38;5;241m.\u001b[39m_getitem_multilevel(key)\n\u001b[0;32m-> 4090\u001b[0m indexer \u001b[38;5;241m=\u001b[39m \u001b[38;5;28;43mself\u001b[39;49m\u001b[38;5;241;43m.\u001b[39;49m\u001b[43mcolumns\u001b[49m\u001b[38;5;241;43m.\u001b[39;49m\u001b[43mget_loc\u001b[49m\u001b[43m(\u001b[49m\u001b[43mkey\u001b[49m\u001b[43m)\u001b[49m\n\u001b[1;32m   4091\u001b[0m \u001b[38;5;28;01mif\u001b[39;00m is_integer(indexer):\n\u001b[1;32m   4092\u001b[0m     indexer \u001b[38;5;241m=\u001b[39m [indexer]\n",
            "File \u001b[0;32m/opt/conda/lib/python3.10/site-packages/pandas/core/indexes/base.py:3809\u001b[0m, in \u001b[0;36mIndex.get_loc\u001b[0;34m(self, key)\u001b[0m\n\u001b[1;32m   3804\u001b[0m     \u001b[38;5;28;01mif\u001b[39;00m \u001b[38;5;28misinstance\u001b[39m(casted_key, \u001b[38;5;28mslice\u001b[39m) \u001b[38;5;129;01mor\u001b[39;00m (\n\u001b[1;32m   3805\u001b[0m         \u001b[38;5;28misinstance\u001b[39m(casted_key, abc\u001b[38;5;241m.\u001b[39mIterable)\n\u001b[1;32m   3806\u001b[0m         \u001b[38;5;129;01mand\u001b[39;00m \u001b[38;5;28many\u001b[39m(\u001b[38;5;28misinstance\u001b[39m(x, \u001b[38;5;28mslice\u001b[39m) \u001b[38;5;28;01mfor\u001b[39;00m x \u001b[38;5;129;01min\u001b[39;00m casted_key)\n\u001b[1;32m   3807\u001b[0m     ):\n\u001b[1;32m   3808\u001b[0m         \u001b[38;5;28;01mraise\u001b[39;00m InvalidIndexError(key)\n\u001b[0;32m-> 3809\u001b[0m     \u001b[38;5;28;01mraise\u001b[39;00m \u001b[38;5;167;01mKeyError\u001b[39;00m(key) \u001b[38;5;28;01mfrom\u001b[39;00m \u001b[38;5;21;01merr\u001b[39;00m\n\u001b[1;32m   3810\u001b[0m \u001b[38;5;28;01mexcept\u001b[39;00m \u001b[38;5;167;01mTypeError\u001b[39;00m:\n\u001b[1;32m   3811\u001b[0m     \u001b[38;5;66;03m# If we have a listlike key, _check_indexing_error will raise\u001b[39;00m\n\u001b[1;32m   3812\u001b[0m     \u001b[38;5;66;03m#  InvalidIndexError. Otherwise we fall through and re-raise\u001b[39;00m\n\u001b[1;32m   3813\u001b[0m     \u001b[38;5;66;03m#  the TypeError.\u001b[39;00m\n\u001b[1;32m   3814\u001b[0m     \u001b[38;5;28mself\u001b[39m\u001b[38;5;241m.\u001b[39m_check_indexing_error(key)\n",
            "\u001b[0;31mKeyError\u001b[0m: 'Count'"
          ],
          "ename": "KeyError",
          "evalue": "'Count'",
          "output_type": "error"
        },
        {
          "output_type": "display_data",
          "data": {
            "text/plain": "<Figure size 576x432 with 1 Axes>",
            "image/png": "[encoded data removed]"
          },
          "metadata": {}
        }
      ]
    },
    {
      "cell_type": "markdown",
      "source": [
        "And the distributions are almost exactly the same, too.\n",
        "\n",
        "# 3) Overfitting with Target Encoders\n",
        "\n",
        "Based on your understanding of how mean-encoding works, can you explain how XGBoost was able to get an almost a perfect fit after mean-encoding the count feature?"
      ],
      "metadata": {
        "id": "Jt0kiSqO3gGd"
      }
    },
    {
      "cell_type": "code",
      "source": [
        "# View the solution (Run this cell to receive credit!)\n",
        "q_3.check()"
      ],
      "metadata": {
        "lines_to_next_cell": 0,
        "execution": {
          "iopub.status.busy": "2024-03-11T03:10:11.132952Z",
          "iopub.execute_input": "2024-03-11T03:10:11.134613Z",
          "iopub.status.idle": "2024-03-11T03:10:11.146453Z",
          "shell.execute_reply.started": "2024-03-11T03:10:11.134541Z",
          "shell.execute_reply": "2024-03-11T03:10:11.144768Z"
        },
        "trusted": true,
        "id": "_2JNsP5v3gGd",
        "outputId": "c5f40f74-8251-4d45-f66c-43cb8bc7bc4c"
      },
      "execution_count": null,
      "outputs": [
        {
          "output_type": "display_data",
          "data": {
            "text/plain": "<IPython.core.display.Javascript object>",
            "application/javascript": "parent.postMessage({\"jupyterEvent\": \"custom.exercise_interaction\", \"data\": {\"outcomeType\": 1, \"valueTowardsCompletion\": 0.3333333333333333, \"interactionType\": 1, \"questionType\": 4, \"questionId\": \"3_Q3\", \"learnToolsVersion\": \"0.3.4\", \"failureMessage\": \"\", \"exceptionClass\": \"\", \"trace\": \"\"}}, \"*\")"
          },
          "metadata": {}
        },
        {
          "output_type": "display_data",
          "data": {
            "text/plain": "Correct: \n\n\nSince `Count` never has any duplicate values, the mean-encoded `Count` is essentially an exact copy of the target. In other words, mean-encoding turned a completely meaningless feature into a perfect feature.\n\nNow, the only reason this worked is because we trained XGBoost on the same set we used to train the encoder. If we had used a hold-out set instead, none of this \"fake\" encoding would have transferred to the training data.\n\nThe lesson is that when using a target encoder it's very important to use separate data sets for training the encoder and training the model. Otherwise the results can be very disappointing!",
            "text/markdown": "<span style=\"color:#33cc33\">Correct:</span> \n\n\nSince `Count` never has any duplicate values, the mean-encoded `Count` is essentially an exact copy of the target. In other words, mean-encoding turned a completely meaningless feature into a perfect feature.\n\nNow, the only reason this worked is because we trained XGBoost on the same set we used to train the encoder. If we had used a hold-out set instead, none of this \"fake\" encoding would have transferred to the training data.\n\nThe lesson is that when using a target encoder it's very important to use separate data sets for training the encoder and training the model. Otherwise the results can be very disappointing!\n"
          },
          "metadata": {}
        }
      ]
    },
    {
      "cell_type": "code",
      "source": [
        "# Uncomment this if you'd like a hint before seeing the answer\n",
        "#q_3.hint()"
      ],
      "metadata": {
        "id": "vifqXuwE3gGd"
      },
      "execution_count": null,
      "outputs": []
    },
    {
      "cell_type": "markdown",
      "source": [
        "# The End #\n",
        "\n",
        "That's it for *Feature Engineering*! We hope you enjoyed your time with us.\n",
        "\n",
        "Now, are you ready to try out your new skills? Now would be a great time to join our [Housing Prices](https://www.kaggle.com/c/house-prices-advanced-regression-techniques) Getting Started competition. We've even prepared a [Bonus Lesson](https://www.kaggle.com/ryanholbrook/feature-engineering-for-house-prices) that collects all the work we've done together into a starter notebook.\n",
        "\n",
        "# References #\n",
        "Here are some great resources you might like to consult for more information. They all played a part in shaping this course:\n",
        "- *The Art of Feature Engineering*, a book by Pablo Duboue.\n",
        "- *An Empirical Analysis of Feature Engineering for Predictive Modeling*, an article by Jeff Heaton.\n",
        "- *Feature Engineering for Machine Learning*, a book by Alice Zheng and Amanda Casari. The tutorial on clustering was inspired by this excellent book.\n",
        "- *Feature Engineering and Selection*, a book by Max Kuhn and Kjell Johnson."
      ],
      "metadata": {
        "id": "MrMO2oHK3gGd"
      }
    },
    {
      "cell_type": "markdown",
      "source": [
        "---\n",
        "\n",
        "\n",
        "\n",
        "\n",
        "*Have questions or comments? Visit the [course discussion forum](https://www.kaggle.com/learn/feature-engineering/discussion) to chat with other learners.*"
      ],
      "metadata": {
        "id": "B9LDlzC_3gGe"
      }
    }
  ]
}